{
 "cells": [
  {
   "cell_type": "markdown",
   "metadata": {},
   "source": [
    "<img src = \"./img/TheBridge_logo_RGB_color.jpg\" width = 300>\n",
    "<img src = \"./img/python.jpg\" width = 300>"
   ]
  },
  {
   "cell_type": "markdown",
   "metadata": {},
   "source": [
    "# Python: Flujos de Control\n",
    "\n",
    "\n",
    "\n",
    "Hasta ahora hemos visto cómo ejecutar un programa secuencialmente, empieza en la primera línea y acaba en la última. Pero ¿y si queremos que cambien los outputs del programa en función de ciertas condiciones, o si queremos que tome otros caminos en caso de encontrar errores?. Todo esto lo podremos hacer con los flujos de control. Sentencias que encontrarás en todos los lenguajes de programación.\n",
    "\n",
    "Este notebook nos va a servir para tratar las sentencias if y los bucles for, el corazón de la programación.\n"
   ]
  },
  {
   "cell_type": "markdown",
   "metadata": {},
   "source": [
    "## Contenidos"
   ]
  },
  {
   "cell_type": "markdown",
   "metadata": {},
   "source": [
    "* [1. Sintaxis de línea](#1.-Sintaxis-de-línea)\n",
    "\n",
    "* [2. if/elif/else](#2.-if/elif/else)\n",
    "\n",
    "* [3. Bucle for](#3.-Bucle-for)\n",
    "\n"
   ]
  },
  {
   "cell_type": "markdown",
   "metadata": {},
   "source": [
    "## 1. Sintaxis de línea\n",
    "\n",
    "[al indice](#Contenidos)  \n",
    "\n",
    "La manera en la que Python encapsula todo el código que va dentro de un flujo de control como `if` o `for` es diferente a como se suele hacer en otros lenguajes, en los que se rodea de llaves `{}` o paréntesis `()` todo el contenido del flujo. Con Python no. En Python simplemente hay que añadir una tabulación a cada línea de código que vaya dentro del flujo de control.\n",
    "\n",
    "> ```Python\n",
    "> if 3>2:\n",
    ">     \"Código dentro de esta sentencia if\"\n",
    ">     \"Esta línea sigue dentro de la sentencia if\"\n",
    ">\n",
    ">\"Código fuera de la sentencia if\"\n",
    "> ```"
   ]
  },
  {
   "cell_type": "markdown",
   "metadata": {},
   "source": [
    "### Sintaxis\n",
    "Toda sentencia `if`, `for`, `while`, `try`, etc. lleva dos puntos. Y después de los dos puntos, tabulado, va todo el contenido de ese bloque. **Siempre**.\n",
    "\n",
    "Si pones los dos puntos y le das a enter, Jupyter automáticamente te tabula todo lo que vayas a escribir a continuación.\n",
    "\n",
    "Veamos un ejemplo. Tenemos una lista de numeros, y queremos ver cuáles son enteros. Para ello los recorremos con un `for` (vermos más en profundiad en este notebook). Vamos iternando uno a uno cada elemento. Luego mediante un `if` comprobamos si es entero. Fíjate que todo lo que va dentro del `for` lleva una tabulación y lo que va dentro del `if` lleva dos tabulaciones, puesto que sus sentencias van tanto dentro del `if`, como dentro del `for`."
   ]
  },
  {
   "cell_type": "code",
   "execution_count": 2,
   "metadata": {},
   "outputs": [
    {
     "name": "stdout",
     "output_type": "stream",
     "text": [
      "Comienza iteración con 4\n",
      "El numero 4 es un entero\n",
      "Finaliza iteración con 4\n",
      "Comienza iteración con 6\n",
      "El numero 6 es un entero\n",
      "Finaliza iteración con 6\n",
      "Comienza iteración con 4.0\n",
      "Finaliza iteración con 4.0\n",
      "Comienza iteración con 3.0\n",
      "Finaliza iteración con 3.0\n",
      "Finaliza celda\n"
     ]
    }
   ],
   "source": [
    "numeros = [4, 6, 4.0, 3.0]\n",
    "\n",
    "for elemento in numeros:\n",
    "    print(\"Comienza iteración con\",elemento)\n",
    "    if type(elemento) == int:        \n",
    "        print(\"El numero\", elemento, \"es un entero\")\n",
    "    print(\"Finaliza iteración con\", elemento)\n",
    "\n",
    "print(\"Finaliza celda\")"
   ]
  },
  {
   "cell_type": "markdown",
   "metadata": {},
   "source": [
    "<table align=\"left\">\n",
    " <tr>\n",
    "     <td style=\"text-align:left\">\n",
    "         <h3>ERRORES ¿Qué ocurre si nos olvidamos de tabular?</h3>\n",
    "         \n",
    " </td></tr>\n",
    "</table>"
   ]
  },
  {
   "cell_type": "code",
   "execution_count": 1,
   "metadata": {},
   "outputs": [
    {
     "ename": "IndentationError",
     "evalue": "expected an indented block after 'for' statement on line 1 (2475831872.py, line 2)",
     "output_type": "error",
     "traceback": [
      "\u001b[1;36m  Cell \u001b[1;32mIn[1], line 2\u001b[1;36m\u001b[0m\n\u001b[1;33m    print(\"Comienza iteración con\",elemento)\u001b[0m\n\u001b[1;37m    ^\u001b[0m\n\u001b[1;31mIndentationError\u001b[0m\u001b[1;31m:\u001b[0m expected an indented block after 'for' statement on line 1\n"
     ]
    }
   ],
   "source": [
    "for elemento in numeros:\n",
    "print(\"Comienza iteración con\",elemento)\n",
    "    if type(elemento) == int:        \n",
    "        print(\"El numero\", elemento, \"es un entero\")\n",
    "    print(\"Finaliza iteración con\", elemento)\n",
    "\n",
    "print(\"Finaliza celda\")"
   ]
  },
  {
   "cell_type": "markdown",
   "metadata": {},
   "source": [
    "### ¿Tabulaciones o espacios?\n",
    "Cuidado con las tabulaciones ya que cuando pasamos de un editor de Python a otro, o cuando ejecutamos un corrector de estilo sobre nuestro código, hay veces que las tabulaciones dan problemas. Es por ello que muchos programadores en vez de usar tabulaciones, los sustituyen por 4 espacios. \n",
    "\n",
    "Entonces, ¿qué usamos? Lo más cómo es añadir una tabulación, para algunos lo más correcto son espacios. En Jupyter esto es bastante transparente para nosotros ya que cuando añadimos una tabulación, realmente Jupyter lo traduce a 4 espacios, por lo que no debería ser un tema preocupante"
   ]
  },
  {
   "cell_type": "markdown",
   "metadata": {},
   "source": [
    "## 2. if/elif/else\n",
    "\n",
    "[al indice](#Contenidos)  \n",
    "\n",
    "En función de lo que valgan unas condiciones booleanas, ejecutaremos unas líneas de código, u otras. La sintaxis es muy sencilla:\n",
    "\n",
    "\n",
    "> ```Python\n",
    "> if condiciones:\n",
    ">     Si se cumplen las condiciones, ejecuta este código\n",
    "> else:\n",
    ">     Si no, ejecutas estre otro código\n",
    "> ```\n",
    "    \n",
    "Veamos un ejemplo"
   ]
  },
  {
   "cell_type": "code",
   "execution_count": 1,
   "metadata": {},
   "outputs": [
    {
     "name": "stdout",
     "output_type": "stream",
     "text": [
      "Si, es Ángela\n",
      "Es otra persona\n"
     ]
    }
   ],
   "source": [
    "nombre = \"Angela\"\n",
    "\n",
    "if nombre == \"Angela\":\n",
    "    print(\"Si, es Ángela\")\n",
    "\n",
    "if nombre == \"Rogrido\":\n",
    "    print(\"Si, es Rodrigo\")\n",
    "else: \n",
    "    print (\"Es otra persona\")"
   ]
  },
  {
   "cell_type": "code",
   "execution_count": 11,
   "metadata": {},
   "outputs": [
    {
     "name": "stdout",
     "output_type": "stream",
     "text": [
      "Sigue intentándolo\n"
     ]
    }
   ],
   "source": [
    "nota = float(input(\"¿Cual ha sido tu nota:\"))\n",
    "\n",
    "if nota >= 5.0:\n",
    "    print(\"Aprobado!\")\n",
    "else:\n",
    "    print(\"Sigue intentándolo\")"
   ]
  },
  {
   "cell_type": "markdown",
   "metadata": {},
   "source": [
    "Únicamente se ejecuta la parte de código que consigue un `True` en la condición. `print(\"Aprobado!\")` sólo se imprimirá por pantalla si la nota es mayor o igual a 5.\n",
    "\n",
    "Vamos a ver otro ejemplo. Ahora quiero un poco más de granularidad en la nota, con bienes, notables y tal"
   ]
  },
  {
   "cell_type": "markdown",
   "metadata": {},
   "source": [
    "<span style=\"color:#76D7EA\">**IMPORTANTE!!**</span> \n",
    "\n",
    "Todos los `ifs` se ejecutan secuencialmente. Por eso, en este caso no es necesario acotar tanto la nota:\n",
    "\n",
    "* Primero comprueba si es menor de 5, de ser así, suspenso.\n",
    "* Ya sabemos que es mayor o igual a 5\n",
    "* En la siguiente condición comprueba si es menor que 6, es decir, entre 5 y 6. Si es `False`, seguimos a la siguiente condición. Ahora bien, si es `True`, ejecutamos únicamente ese código y nos olvidamos de todo lo demás. Ya puede haber 150 condiciones, que si la primera es `True`, el resto es como si no existiese.\n",
    "\n",
    "Fíjate que la sintaxis es bastante intuitiva. `if` una condición, dos puntos y me ejecutas todo lo que hay aqui dentro, `elif` (acorta el `else if`), si se cumple esta otra condición, se ejecuta este otro código. Y si no se cumple ninguna de estas, ejecuta lo que haya en el `else`."
   ]
  },
  {
   "cell_type": "code",
   "execution_count": 6,
   "metadata": {},
   "outputs": [
    {
     "name": "stdout",
     "output_type": "stream",
     "text": [
      "Por los pelos\n",
      "Bien\n",
      "Notable\n"
     ]
    }
   ],
   "source": [
    "nota = float(input(\"¿Cual ha sido tu nota:\"))\n",
    "\n",
    "# if nota >= 9.0:\n",
    "#     print(\"Sobresaliente!\")\n",
    "# elif nota >= 7.0:\n",
    "#     print(\"Notable\")\n",
    "# elif nota >= 6.0:\n",
    "#     print(\"Bien\")\n",
    "# elif nota >= 5.0:\n",
    "#     print(\"Por los pelos...\")\n",
    "# else:\n",
    "#     print(\"Sigue intentándolo\")\n",
    "\n",
    "# IMPORTANTE: El orden en la lógica importa porque si la primera condicion es = True no sigue iterando y\n",
    "# por tanto no se verifican las siguientes condiciones!\n",
    "\n",
    "if nota <= 5.0:\n",
    "    print(\"Sigue intentándolo....\")\n",
    "if nota <= 6.0:\n",
    "    print(\"Por los pelos\")\n",
    "if nota <= 7.0:\n",
    "    print(\"Bien\")\n",
    "if nota <= 9.0:\n",
    "    print(\"Notable\")\n",
    "if nota >= 9.0:\n",
    "    print(\"Sobresaliente!\")"
   ]
  },
  {
   "cell_type": "code",
   "execution_count": 10,
   "metadata": {},
   "outputs": [
    {
     "name": "stdout",
     "output_type": "stream",
     "text": [
      "Por los pelos\n"
     ]
    }
   ],
   "source": [
    "# Introducir la nota\n",
    "nota = float(input(\"¿Cual ha sido tu nota:\"))\n",
    "\n",
    "# Comprobar condición con if / elif\n",
    "if nota <= 5.0:\n",
    "    print(\"Sigue intentándolo....\")\n",
    "elif nota <= 6.0:\n",
    "    print(\"Por los pelos\")\n",
    "elif nota <= 7.0:\n",
    "    print(\"Bien\")\n",
    "elif nota <= 9.0:\n",
    "    print(\"Notable\")\n",
    "elif nota >= 9.0:\n",
    "    print(\"Sobresaliente!\")"
   ]
  },
  {
   "cell_type": "markdown",
   "metadata": {},
   "source": [
    "<span style=\"color:#76D7EA;\">**Notas clase:**</span>\n",
    "\n",
    "En el ejemplo anterior se observa la diferencia entre aplicar `if` y `elif`. En el caso de utilizar `if` comprueba todas las condiciones y si las cumple, ejecuta todas las verdaderas. En cambio, cuando se utiliza `elif`, sólo solo se ejecutará el primer bloque cuya condición sea `True` y luego para.\n",
    "\n",
    "\n",
    "\"Elif\" son condiciones concatenadas (si se cumple la primera, no revisa la condición que está definida bajo elif) vs \"if\" son condiciones independientes y comprueba todas las condiciones marcadas por \"if\" y ejectua todas las que sean `True."
   ]
  },
  {
   "cell_type": "markdown",
   "metadata": {},
   "source": [
    "<span style=\"color:#76D7EA\">**Aplicar *Algebro de Boole* en flujos de control if**</span>\n",
    "\n",
    "¿Recuerdas lo que viste con el *Algebra de Boole*? Este es el momento de utilizarlo. Cuando acudimos a varias condiciones dentro de un mismo `if`, tenemos que tener muy claras las operaciones binarias que estamos realizando."
   ]
  },
  {
   "cell_type": "code",
   "execution_count": 14,
   "metadata": {},
   "outputs": [
    {
     "name": "stdout",
     "output_type": "stream",
     "text": [
      "Otro animal\n"
     ]
    }
   ],
   "source": [
    "pico = False\n",
    "alas = False\n",
    "casa = \"Antartida\"\n",
    "sonido = \"Ladrar\"\n",
    "patas = 3\n",
    "\n",
    "if pico or alas: # True or False = True; se cumple la condición\n",
    "    print(\"Ave\") \n",
    "    if casa == \"Antartida\": # condición anidada; sólo se verifica si la anterior se cumple (True)\n",
    "        print(\"Pingüino\")\n",
    "if patas == 4 and sonido == \"Ladrar\": # True and True = True; se tienen que cumplir ambas condiciones para que sea True y se ejecute\n",
    "    print(\"Perro\")\n",
    "else:\n",
    "    print(\"Otro animal\")"
   ]
  },
  {
   "cell_type": "markdown",
   "metadata": {},
   "source": [
    "<h4 style=\"color:#76D7EA;\"> Notas clase:</h3>\n",
    "\n",
    "True = 1; False = 0\n",
    "\n",
    "True (1) or (+) False (0) = True (1)\n",
    "\n",
    "True (1) and (*) False (0) = False (0)"
   ]
  },
  {
   "attachments": {
    "ejercicio.png": {
     "image/png": "[encoded data removed]"
    }
   },
   "cell_type": "markdown",
   "metadata": {},
   "source": [
    "![ejercicio.png](attachment:ejercicio.png)<table align=\"left\">\n",
    " <tr>\n",
    "     <td style=\"text-align:left\">\n",
    "         <h3>Ejercicio if/else</h3>\n",
    "\n",
    "El ejemplo de las notas está muy bien, pero demasiado sencillo. ¿Qué pasa si la nota es mayor de 10 o menor que 0? No parece una nota correcta. En programación hay que anticiparse a los errores. Reescribe el código para tener en cuenta esos casos, cuya nota tendrás que catalogarla como \"Nota errónea\"\n",
    "         \n",
    " </td></tr>\n",
    "</table>"
   ]
  },
  {
   "cell_type": "code",
   "execution_count": 20,
   "metadata": {},
   "outputs": [
    {
     "name": "stdout",
     "output_type": "stream",
     "text": [
      "Nota erronea\n"
     ]
    }
   ],
   "source": [
    "# Introducir la nota\n",
    "nota = float(input(\"¿Cual ha sido tu nota:\"))\n",
    "\n",
    "# Comprobar condición con if / elif\n",
    "if nota <=0 or nota >=10:\n",
    "    print(\"Nota erronea\")\n",
    "elif nota <= 5.0:\n",
    "    print(\"Sigue intentándolo....\")\n",
    "elif nota <= 6.0:\n",
    "    print(\"Por los pelos\")\n",
    "elif nota <= 7.0:\n",
    "    print(\"Bien\")\n",
    "elif nota <= 9.0:\n",
    "    print(\"Notable\")\n",
    "elif nota >= 9.0:\n",
    "    print(\"Sobresaliente!\")\n",
    "    "
   ]
  },
  {
   "attachments": {},
   "cell_type": "markdown",
   "metadata": {},
   "source": [
    "## 3. Bucle for\n",
    "[al indice](#Contenidos)  \n",
    "\n",
    "Gracias a los bucles podemos ejecutar código repetitivo, de manera bastante automática. Son muy útiles para que nuestro código no sea redundante, y también para aplicar operaciones cuando manejamos iterables. Un iterable no es más que una colección de objetos (una lista es un iterable) que podremos ir recorriendo uno a uno con el bucle `for`, y aplicar operaciones a cada elemento.\n",
    "\n",
    "La sintaxis de los bucles `for` es la siguiente:\n",
    "\n",
    "> ```Python\n",
    "> for var_ejecucion in limites_ejecucion:\n",
    ">     \"código del for\"\n",
    "> ```\n",
    "    \n",
    "    \n",
    "* **Límites de ejecución**: La cantidad de veces que queremos que se ejecute un `for`. Esto es así porque si no se ejecutarían hasta el infinito. Y además, tienen una variable de ejecución que se va actualizando. Por ejemplo del 1 al 10. Primero valdría 1, luego 2...así hasta 10.\n",
    "\n",
    "\n",
    "* **Variable de ejecución**: dentro del for habrá una variable que se irá actualizando con cada ejecución. En el ejemplo del 1 al 10, primero la variable valdrá 1, luego 2, y así hasta 10.\n",
    "\n",
    "![for-loop-python](./img/for-loop-python.jpg)"
   ]
  },
  {
   "cell_type": "markdown",
   "metadata": {},
   "source": [
    "Mejor vemos un ejemplo para entenderlo. Tienes las notas de tres alumnos en una lista, y quieres imprimir por pantalla las notas"
   ]
  },
  {
   "cell_type": "code",
   "execution_count": 22,
   "metadata": {},
   "outputs": [
    {
     "name": "stdout",
     "output_type": "stream",
     "text": [
      "3\n",
      "6\n",
      "9\n"
     ]
    }
   ],
   "source": [
    "notas = [3, 6, 9]\n",
    "\n",
    "print(notas[0])\n",
    "print(notas[1])\n",
    "print(notas[2])"
   ]
  },
  {
   "cell_type": "markdown",
   "metadata": {},
   "source": [
    "Genial, pero qué ocurre si ahora tienes 30 notas, o simplemente quieres que tu programa no dependa de cuantas notas tienes, unas veces son 30, otras 20..."
   ]
  },
  {
   "cell_type": "code",
   "execution_count": 29,
   "metadata": {},
   "outputs": [
    {
     "name": "stdout",
     "output_type": "stream",
     "text": [
      "4\n",
      "5\n",
      "7\n",
      "3\n",
      "4\n",
      "6\n",
      "5\n",
      "5\n",
      "4\n",
      "5\n",
      "5\n",
      "6\n",
      "Valor almacenado en variable nota: 6\n"
     ]
    }
   ],
   "source": [
    "notas_clase = [4,5,7,3,4,6,5,5,4,5,5,6]\n",
    "\n",
    "for nota in notas_clase:\n",
    "    print(nota)\n",
    "\n",
    "print(f\"Valor almacenado en variable nota: {nota}\")"
   ]
  },
  {
   "cell_type": "markdown",
   "metadata": {},
   "source": [
    "<span style = \"color:#76D7EA\">**IMPORTANTE:**</span>\n",
    "\n",
    "La variable `nota` ha sido declarada dentro del bucle for, por lo que sólo se almacena el valor de la última iteración"
   ]
  },
  {
   "cell_type": "code",
   "execution_count": 27,
   "metadata": {},
   "outputs": [
    {
     "name": "stdout",
     "output_type": "stream",
     "text": [
      "Nota = 4\n",
      "Nota = 5\n",
      "Nota = 7\n",
      "Nota = 3\n",
      "Nota = 4\n",
      "Nota = 6\n",
      "Nota = 5\n",
      "Nota = 5\n",
      "Nota = 4\n",
      "Nota = 5\n",
      "Nota = 6\n",
      "Nota = 7\n",
      "Nota = 8\n",
      "Nota = 7\n",
      "Nota = 6\n",
      "Nota = 4\n",
      "Nota = 6\n",
      "Nota = 5\n",
      "Nota = 5\n",
      "Nota = 4\n",
      "Nota = 5\n",
      "Nota = 6\n"
     ]
    }
   ],
   "source": [
    "# Si me cambia el numero de alumnos, el for de antes me vale igual\n",
    "notas_clase = [4,5,7,3,4,6,5,5,4,5,6,7,8,7,6,4,6,5,5,4,5,6,]\n",
    "\n",
    "# Imprimir el listado de notas:\n",
    "for nota in notas_clase:\n",
    "    print(f\"Nota = {nota}\")"
   ]
  },
  {
   "cell_type": "markdown",
   "metadata": {},
   "source": [
    "<span style=\"color:#76D7EA\">**Incluir condiciones dentro de bucles `for`:**</span>\n",
    "\n",
    "Dentro del bucle *for* se puede incluir condiciones *if*, como se muestra en el siguiente ejemplo:"
   ]
  },
  {
   "cell_type": "code",
   "execution_count": null,
   "metadata": {},
   "outputs": [],
   "source": [
    "# Recorrer los valores nota en la variable notas_clase y validar la condición\n",
    "for nota in notas_clase:\n",
    "    print(f\"Recorriendo nota {nota}\")\n",
    "    if nota >= 5:\n",
    "        print(\"Aprobado\")\n",
    "    else:\n",
    "        print(\"Suspenso\")"
   ]
  },
  {
   "cell_type": "markdown",
   "metadata": {},
   "source": [
    "El bucle for resulta de gran utilidad para **aplicar operaciones a cada elemento**. Hasta ahora solo hemos impreso items por pantalla, pero ¿y si queremos subir la nota de todos los alumnos un punto extra? No puedo hacer `lista + 1`. Tendré que iterar/recorrer cada elemento y aplicarle la operación.\n",
    "\n",
    "<span style=\"color:#76D7EA\">**CUIDADO!!**</span> si no se declara previamente una nueva lista, el resultado de la operación no se guarda en la lista original"
   ]
  },
  {
   "cell_type": "code",
   "execution_count": 35,
   "metadata": {},
   "outputs": [
    {
     "name": "stdout",
     "output_type": "stream",
     "text": [
      "Valores de la lista 'notas_clase': [4, 5, 7, 3, 4, 6, 5, 5, 4, 5, 5, 6]\n",
      "Valores de la lista 'notas_actualizadas': [5, 6, 8, 4, 5, 7, 6, 6, 5, 6, 6, 7]\n"
     ]
    }
   ],
   "source": [
    "notas_clase = [4,5,7,3,4,6,5,5,4,5,5,6]\n",
    "notas_clase_update = [] # Declaro la variable de la nueva lista\n",
    "for nota in notas_clase:\n",
    "    nota = nota + 1\n",
    "    notas_clase_update.append(nota)\n",
    "\n",
    "print(f\"Valores de la lista 'notas_clase': {notas_clase}\")\n",
    "print(f\"Valores de la lista 'notas_actualizadas': {notas_clase_update}\")"
   ]
  },
  {
   "cell_type": "markdown",
   "metadata": {},
   "source": [
    "Aplicar operación incluyendo una condición: Se sube un punto sólo a los alumnos que han superado la nota 5"
   ]
  },
  {
   "cell_type": "code",
   "execution_count": 36,
   "metadata": {},
   "outputs": [
    {
     "name": "stdout",
     "output_type": "stream",
     "text": [
      "Recorriendo nota 4\n",
      "Suspenso\n",
      "Recorriendo nota 5\n",
      "Suspenso\n",
      "Recorriendo nota 7\n",
      "Aprobado y nota acutalizada: 8\n",
      "Recorriendo nota 3\n",
      "Suspenso\n",
      "Recorriendo nota 4\n",
      "Suspenso\n",
      "Recorriendo nota 6\n",
      "Suspenso\n",
      "Recorriendo nota 5\n",
      "Suspenso\n",
      "Recorriendo nota 5\n",
      "Suspenso\n",
      "Recorriendo nota 4\n",
      "Suspenso\n",
      "Recorriendo nota 5\n",
      "Suspenso\n",
      "Recorriendo nota 5\n",
      "Suspenso\n",
      "Recorriendo nota 6\n",
      "Suspenso\n",
      "Valores de la lista: [4, 5, 7, 3, 4, 6, 5, 5, 4, 5, 5, 6]\n"
     ]
    }
   ],
   "source": [
    "# Recorrer los valores nota en la variable notas_clase y validar la condición\n",
    "for nota in notas_clase:\n",
    "    print(f\"Recorriendo nota {nota}\") # con este print se identifica cada vez que se inicia una iteración\n",
    "    if nota >= 5: # se indica la condición\n",
    "        nota = nota + 1 # se indica la operación a ejecutar si se cumple la condición\n",
    "        print(f\"Aprobado y nota acutalizada: {nota}\")\n",
    "    else: # además con la condición else imprimimos un mensaje para indicar que no se ha cumplido la condición\n",
    "        print(\"Suspenso\")\n",
    "\n",
    "print(f\"Valores de la lista: {notas_clase}\")"
   ]
  },
  {
   "cell_type": "markdown",
   "metadata": {},
   "source": [
    "Para guardar los nuevos valores se declara previamente una lista vacía como se ha hecho anteriormente:"
   ]
  },
  {
   "cell_type": "code",
   "execution_count": 34,
   "metadata": {},
   "outputs": [
    {
     "name": "stdout",
     "output_type": "stream",
     "text": [
      "Recorriendo nota 4\n",
      "Suspenso\n",
      "Recorriendo nota 5\n",
      "Aprobado y nota acutalizada: 6\n",
      "Recorriendo nota 7\n",
      "Aprobado y nota acutalizada: 8\n",
      "Recorriendo nota 3\n",
      "Suspenso\n",
      "Recorriendo nota 4\n",
      "Suspenso\n",
      "Recorriendo nota 6\n",
      "Aprobado y nota acutalizada: 7\n",
      "Recorriendo nota 5\n",
      "Aprobado y nota acutalizada: 6\n",
      "Recorriendo nota 5\n",
      "Aprobado y nota acutalizada: 6\n",
      "Recorriendo nota 4\n",
      "Suspenso\n",
      "Recorriendo nota 5\n",
      "Aprobado y nota acutalizada: 6\n",
      "Recorriendo nota 5\n",
      "Aprobado y nota acutalizada: 6\n",
      "Recorriendo nota 6\n",
      "Aprobado y nota acutalizada: 7\n",
      "Valores de la lista 'notas_clase': [4, 5, 7, 3, 4, 6, 5, 5, 4, 5, 5, 6]\n",
      "Valores de la lista 'notas_actualizadas': [4, 6, 8, 3, 4, 7, 6, 6, 4, 6, 6, 7]\n"
     ]
    }
   ],
   "source": [
    "notas_actualizadas = [] # Lista vacía donde se almacenarán los nuevos valores obtenidos con la condición \"if\"\n",
    "for nota in notas_clase:\n",
    "    print(f\"Recorriendo nota {nota}\")\n",
    "    if nota >= 5:\n",
    "        nota = nota + 1 # agregador. También se puede expresar: 'nota += 1'\n",
    "        print(f\"Aprobado y nota acutalizada: {nota}\")\n",
    "    else:\n",
    "        print(\"Suspenso\")\n",
    "    notas_actualizadas.append(nota) # utilizamos la función .append para listas para ir añadiendo a la nueva lista \"notas_actualizada\"\n",
    "    # los nuevos valores de la variable \"nota\" creados si se cumple la condición\n",
    "\n",
    "print(f\"Valores de la lista 'notas_clase': {notas_clase}\")\n",
    "print(f\"Valores de la lista 'notas_actualizadas': {notas_actualizadas}\")"
   ]
  },
  {
   "cell_type": "markdown",
   "metadata": {},
   "source": [
    "Todo objeto que sea **iterable**, lo podrás recorrer en un `for`. Un objeto `string` es iterable. Veremos los iterables más en detalle en las colecciones."
   ]
  },
  {
   "cell_type": "code",
   "execution_count": null,
   "metadata": {},
   "outputs": [
    {
     "name": "stdout",
     "output_type": "stream",
     "text": [
      "Día de la semana: Lunes\n",
      "\n",
      "Día de la semana: Martes\n",
      "\n",
      "Día de la semana: Miércoles\n",
      "\n",
      "Día de la semana: Jueves\n",
      "\n",
      "Día de la semana: Viernes\n",
      "\n",
      "Día de la semana: Sábado\n",
      "\n",
      "Día de la semana: Domingo\n",
      "\n"
     ]
    }
   ],
   "source": [
    "# Aplicar for al string \"dias_semana\"\n",
    "dias_semana = [\"Lunes\", \"Martes\", \"Miércoles\", \"Jueves\", \"Viernes\", \"Sábado\", \"Domingo\"]\n",
    "\n",
    "# Imprimir el listado de días:\n",
    "for dia in dias_semana:\n",
    "    print(f\"Día de la semana: {dia}\", end=\"\\n\\n\")"
   ]
  },
  {
   "cell_type": "markdown",
   "metadata": {},
   "source": [
    "Bucles anidados:\n",
    "\n",
    "Se pueden anidar bucles para recorrer los elementos iterables dentro de un objeto iterable. Ver siguiente ejemplo"
   ]
  },
  {
   "cell_type": "code",
   "execution_count": 61,
   "metadata": {},
   "outputs": [
    {
     "name": "stdout",
     "output_type": "stream",
     "text": [
      "Día de la semana: Lunes\n",
      "L\n",
      "u\n",
      "n\n",
      "e\n",
      "s\n",
      "Día de la semana: Martes\n",
      "M\n",
      "a\n",
      "r\n",
      "t\n",
      "e\n",
      "s\n",
      "Día de la semana: Miércoles\n",
      "M\n",
      "i\n",
      "é\n",
      "r\n",
      "c\n",
      "o\n",
      "l\n",
      "e\n",
      "s\n"
     ]
    }
   ],
   "source": [
    "# Iteración con bucle \"for\" sobre string \"dias_semana\":\n",
    "for dia in dias_semana: # Imprimir el listado de días:\n",
    "    print(f\"Día de la semana: {dia}\")\n",
    "    for letra in dia: # Imprime las letras del string de la variable \"dia\"\n",
    "        print(letra)\n"
   ]
  },
  {
   "cell_type": "markdown",
   "metadata": {},
   "source": [
    "<span style=\"color:#76D7EA\">**Nota IMPORTANTE**</span>\n",
    "\n",
    "Las tuplas funcionan como las listas en los bucles *for*, por lo que se pueden iterar. Ver ejemplo siguiente:"
   ]
  },
  {
   "cell_type": "code",
   "execution_count": 25,
   "metadata": {},
   "outputs": [
    {
     "name": "stdout",
     "output_type": "stream",
     "text": [
      "150\n",
      "1\n",
      "5\n",
      "0\n",
      "----------------------------------------------------------------------------------------------------\n",
      "20\n",
      "2\n",
      "0\n",
      "----------------------------------------------------------------------------------------------------\n",
      "31j\n",
      "3\n",
      "1\n",
      "j\n",
      "----------------------------------------------------------------------------------------------------\n"
     ]
    }
   ],
   "source": [
    "numeros_string = (\"150\",\"20\",\"31j\") # Bucle for sobre tupla \"numeros_string\"\n",
    "for numero in numeros_string:\n",
    "    print(numero)\n",
    "    for i in numero:\n",
    "        print(i)\n",
    "    print (\"-\"*100)"
   ]
  },
  {
   "cell_type": "code",
   "execution_count": 2,
   "metadata": {},
   "outputs": [
    {
     "name": "stdout",
     "output_type": "stream",
     "text": [
      "[4, 5, 7, 3, 4, 6, 5, 5, 4, 5, 5, 6]\n",
      "[5, 6, 8, 4, 5, 7, 6, 6, 5, 6, 6, 7]\n"
     ]
    }
   ],
   "source": [
    "notas_clase = [4,5,7,3,4,6,5,5,4,5,5,6]\n",
    "\n",
    "notas_clase_update = [] # Declaro la variable de la nueva lista\n",
    "for nota in notas_clase:\n",
    "    nota = nota + 1\n",
    "    notas_clase_update.append(nota)\n",
    "\n",
    "print(notas_clase)\n",
    "print(notas_clase_update)"
   ]
  },
  {
   "cell_type": "markdown",
   "metadata": {},
   "source": [
    "### Función range\n",
    "Es muy común usar la función `range()` en las condiciones de un bucle. Esta función puede funcionar con un único argumento numérico y su output es un **iterable**, comprendido entre el 0 y el número introducido como argumento.\n",
    "\n",
    "Verás en [la documentación](https://www.w3schools.com/python/ref_func_range.asp) que `range()` tiene más posibilidades, combinando sus `argumentos`. Los argumentos deben ser numéricos tipo `int`."
   ]
  },
  {
   "cell_type": "markdown",
   "metadata": {},
   "source": [
    "#### Ejemplo básico:"
   ]
  },
  {
   "cell_type": "code",
   "execution_count": 4,
   "metadata": {},
   "outputs": [
    {
     "name": "stdout",
     "output_type": "stream",
     "text": [
      "3\n",
      "5\n",
      "7\n",
      "9\n",
      "11\n",
      "13\n",
      "15\n",
      "17\n",
      "19\n"
     ]
    }
   ],
   "source": [
    "x = range(3, 20, 2) # Los parámetros de la función range (start, stop, step).\n",
    "for n in x: # el bucle recorre los valores del range y los imprime\n",
    "  print(n)"
   ]
  },
  {
   "cell_type": "code",
   "execution_count": 38,
   "metadata": {},
   "outputs": [
    {
     "name": "stdout",
     "output_type": "stream",
     "text": [
      "Día de la semana: Lunes\n",
      "L\n",
      "u\n",
      "n\n",
      "e\n",
      "s\n",
      "Día de la semana: Martes\n",
      "M\n",
      "a\n",
      "r\n",
      "t\n",
      "e\n",
      "s\n",
      "Día de la semana: Miércoles\n",
      "M\n",
      "i\n",
      "é\n",
      "r\n",
      "c\n",
      "o\n",
      "l\n",
      "e\n",
      "s\n"
     ]
    }
   ],
   "source": [
    "# Recorrer la lista de días definiendo un range\n",
    "for i in range(0, 3):  # El rango empieza en 0 (Lunes) y termina antes de 2 (Miércoles)\n",
    "    dia = dias_semana[i]\n",
    "    print(f\"Día de la semana: {dia}\")\n",
    "    for letra in dia:  # Imprimir cada letra del día\n",
    "        print(letra)"
   ]
  },
  {
   "cell_type": "markdown",
   "metadata": {},
   "source": [
    "#### Entrar y recorre al elemento iterable por índice:\n",
    "\n",
    "En ocasiones nos interesa iterar sobre la posición que tiene cada elemento dentro de un iterable. Para ello podemos combinar `range` con `len` dentro de las condiciones del bucle\n",
    "\n",
    "Range es una clase que genera un objeto del tipo \"range\""
   ]
  },
  {
   "cell_type": "code",
   "execution_count": 1,
   "metadata": {},
   "outputs": [],
   "source": [
    "dias_semana = [\"Lunes\", \"Martes\", \"Miércoles\", \"Jueves\", \"Viernes\", \"Sábado\", \"Domingo\"]\n"
   ]
  },
  {
   "cell_type": "code",
   "execution_count": 19,
   "metadata": {},
   "outputs": [
    {
     "name": "stdout",
     "output_type": "stream",
     "text": [
      "Lunes\n",
      "7\n"
     ]
    },
    {
     "data": {
      "text/plain": [
       "[0, 1, 2, 3, 4, 5, 6]"
      ]
     },
     "execution_count": 19,
     "metadata": {},
     "output_type": "execute_result"
    }
   ],
   "source": [
    "print(dias_semana[0])\n",
    "print(len(dias_semana))\n",
    "range(7) # Range para siempre en un número anterior al último del rango (empieza en 0). \n",
    "# En el ejemplo para en 6. Objetos en memoria muy eficientes, porque no almacena todos los elementos, los \n",
    "# genera conforme son pedidos\n",
    "\n",
    "# El objeto range se puede convertir en una lista\n",
    "list(range(7))"
   ]
  },
  {
   "cell_type": "code",
   "execution_count": 18,
   "metadata": {},
   "outputs": [
    {
     "data": {
      "text/plain": [
       "[2, 4, 6]"
      ]
     },
     "execution_count": 18,
     "metadata": {},
     "output_type": "execute_result"
    }
   ],
   "source": [
    "list(range(2,7,2)) # El tercer elemento es el paso (step)"
   ]
  },
  {
   "cell_type": "code",
   "execution_count": 21,
   "metadata": {},
   "outputs": [
    {
     "data": {
      "text/plain": [
       "[7, 5, 3]"
      ]
     },
     "execution_count": 21,
     "metadata": {},
     "output_type": "execute_result"
    }
   ],
   "source": [
    "list(range(7,2,-2)) # El tercer elemento es el paso (step)"
   ]
  },
  {
   "cell_type": "code",
   "execution_count": null,
   "metadata": {},
   "outputs": [
    {
     "name": "stdout",
     "output_type": "stream",
     "text": [
      "Día de la semana: Lunes\n",
      "L\n",
      "u\n",
      "n\n",
      "e\n",
      "s\n",
      "Día de la semana: Martes\n",
      "M\n",
      "a\n",
      "r\n",
      "t\n",
      "e\n",
      "s\n",
      "Día de la semana: Miércoles\n",
      "M\n",
      "i\n",
      "é\n",
      "r\n",
      "c\n",
      "o\n",
      "l\n",
      "e\n",
      "s\n",
      "Día de la semana: Jueves\n",
      "J\n",
      "u\n",
      "e\n",
      "v\n",
      "e\n",
      "s\n",
      "Día de la semana: Viernes\n",
      "V\n",
      "i\n",
      "e\n",
      "r\n",
      "n\n",
      "e\n",
      "s\n",
      "Día de la semana: Sábado\n",
      "S\n",
      "á\n",
      "b\n",
      "a\n",
      "d\n",
      "o\n",
      "Día de la semana: Domingo\n",
      "D\n",
      "o\n",
      "m\n",
      "i\n",
      "n\n",
      "g\n",
      "o\n"
     ]
    }
   ],
   "source": [
    "\n",
    "for i in range(0, len(dias_semana)):  # Defino un bucle que se mueve entre 0 y 5, de uno en uno (range(0,6)). len(dias_semana) = 6\n",
    "    dia = dias_semana[i] # defino día como dias_semana [0] = lunes, dias_semana [1]....hasta  dias_semana [6] = domingo \n",
    "    print(f\"Día de la semana: {dia}\")\n",
    "    for letra in dia:  # Bucle anidado para recorrer letra a letra, cada día\n",
    "        print(letra)"
   ]
  },
  {
   "cell_type": "code",
   "execution_count": null,
   "metadata": {},
   "outputs": [
    {
     "name": "stdout",
     "output_type": "stream",
     "text": [
      "Lunes\n",
      "Martes\n",
      "Jueves\n",
      "Viernes\n",
      "Sábado\n",
      "Domingo\n"
     ]
    }
   ],
   "source": [
    "for i in range(7):\n",
    "    if dias_semana[i] == \"Miércoles\":\n",
    "        continue\n",
    "    else:\n",
    "        print(dias_semana[i])\n",
    "\n",
    "# Si queremos generar una condición para cada día de la semana usar la sentencia\n",
    "# elif"
   ]
  },
  {
   "cell_type": "code",
   "execution_count": 24,
   "metadata": {},
   "outputs": [
    {
     "name": "stdout",
     "output_type": "stream",
     "text": [
      "['Lunes', 'Martes', 'Miércoles', 'Jueves', 'Viernes', 'Sábado', 'Domingo']\n",
      "[]\n",
      "['Martes', 'Miércoles', 'Jueves', 'Viernes', 'Sábado', 'Domingo']\n",
      "['Lunes']\n",
      "['Miércoles', 'Jueves', 'Viernes', 'Sábado', 'Domingo']\n",
      "['Lunes', 'Martes']\n",
      "['Jueves', 'Viernes', 'Sábado', 'Domingo']\n",
      "['Lunes', 'Martes', 'Miércoles']\n",
      "['Viernes', 'Sábado', 'Domingo']\n",
      "['Lunes', 'Martes', 'Miércoles', 'Jueves']\n",
      "['Sábado', 'Domingo']\n",
      "['Lunes', 'Martes', 'Miércoles', 'Jueves', 'Viernes']\n",
      "['Domingo']\n",
      "['Lunes', 'Martes', 'Miércoles', 'Jueves', 'Viernes', 'Sábado']\n"
     ]
    }
   ],
   "source": [
    "# Uso del break: \n",
    "for i in range(7):\n",
    "    # print(dias_semana[i])\n",
    "    print(dias_semana[i:])\n",
    "    print(dias_semana[:i])\n",
    "    # break\n",
    "\n",
    "# Si activo el break, después de la primera operación se rompe el bucle\n"
   ]
  },
  {
   "cell_type": "markdown",
   "metadata": {},
   "source": [
    "#### Slicing:\n",
    "\n",
    "dias_semana[ : : ] Se define el inicio : final: paso del slicing"
   ]
  },
  {
   "cell_type": "markdown",
   "metadata": {},
   "source": [
    "### Función enumerate\n",
    "¿Y si dentro del bucle necesitamos tanto el elemento del iterable, como su índice? En [la documentación](https://www.w3schools.com/python/ref_func_enumerate.asp) verás que puedes elegir desde qué elemento de la lista quieres empezar."
   ]
  },
  {
   "cell_type": "markdown",
   "metadata": {},
   "source": [
    "#### Función enumerate:\n",
    "\n",
    "1. The *enumerate() function* takes a collection (e.g. a tuple) and returns it as an enumerate object.\n",
    "2. The *enumerate() function* adds a counter as the key of the enumerate object.\n",
    "\n",
    "*Syntax: enumerate (iterable, start)*\n",
    "- *iterable*: An iterable object    \n",
    "- *start*: A Number. Defining the start number of the enumerate object. Default 0\n",
    "\n",
    "\n"
   ]
  },
  {
   "cell_type": "code",
   "execution_count": null,
   "metadata": {},
   "outputs": [
    {
     "name": "stdout",
     "output_type": "stream",
     "text": [
      "[(0, 'apple'), (1, 'banana'), (2, 'cherry')]\n",
      "[(2, 'apple'), (3, 'banana'), (4, 'cherry')]\n"
     ]
    }
   ],
   "source": [
    "x = ('apple', 'banana', 'cherry') # x es una tupla que es un objeto iterable\n",
    "y = enumerate(x,0) # no se define el primer índice del objeto dentro de la tupla donde debe empezarla iteración, por lo que inicia en 0\n",
    "print(list(y))\n",
    "\n",
    "y = enumerate(x,2) # se define el primer índice del objeto dentro de la tupla donde debe empezarla iteración, por lo que inicia en 2\n",
    "print(list(y))"
   ]
  },
  {
   "cell_type": "code",
   "execution_count": null,
   "metadata": {},
   "outputs": [
    {
     "data": {
      "text/plain": [
       "[(0, 'Lunes'),\n",
       " (1, 'Martes'),\n",
       " (2, 'Miércoles'),\n",
       " (3, 'Jueves'),\n",
       " (4, 'Viernes'),\n",
       " (5, 'Sábado'),\n",
       " (6, 'Domingo')]"
      ]
     },
     "execution_count": 26,
     "metadata": {},
     "output_type": "execute_result"
    }
   ],
   "source": [
    "list(enumerate(dias_semana)) # Genera una lista de tuplas, con índice y elemento"
   ]
  },
  {
   "cell_type": "code",
   "execution_count": null,
   "metadata": {},
   "outputs": [
    {
     "name": "stdout",
     "output_type": "stream",
     "text": [
      "0\n",
      "Lunes\n",
      "1\n",
      "Martes\n",
      "2\n",
      "Miércoles\n",
      "3\n",
      "Jueves\n",
      "4\n",
      "Viernes\n",
      "5\n",
      "Sábado\n",
      "6\n",
      "Domingo\n"
     ]
    }
   ],
   "source": [
    "for i,elem in enumerate(dias_semana): # bucle para desempaquetar la tupla\n",
    "    print(i)\n",
    "    print(elem)"
   ]
  },
  {
   "cell_type": "markdown",
   "metadata": {},
   "source": [
    "<table align=\"left\">\n",
    " <tr>\n",
    "     <td style=\"text-align:left\">\n",
    "         <h3>ERRORES en los rangos</h3>\n",
    "         \n",
    " </td></tr>\n",
    "</table>"
   ]
  },
  {
   "cell_type": "markdown",
   "metadata": {},
   "source": [
    "Mucho cuidado al escribir las condiciones del bucle. Lo primero, porque podríamos tener condiciones infinitas de ejecución que ni nosotros, ni nuestro ordenador lo deseamos. Y lo segundo porque si intentamos acceder a un índice de nuestro iterable que no existe, saltará un error. Veamos ejemplo"
   ]
  },
  {
   "cell_type": "code",
   "execution_count": null,
   "metadata": {},
   "outputs": [],
   "source": []
  },
  {
   "cell_type": "markdown",
   "metadata": {},
   "source": [
    "Es por ello que se recomienda dejar el código lo más \"en automático\" posible. Poner en el range la longitud del iterable no es una buena práctica, ¿Y si mañana el iterable tiene menos nombres? saltará error. ¿Y si tiene más? No los tendremos en cuenta en el for. Por ello es mejor usar `len`."
   ]
  },
  {
   "attachments": {
    "ejercicio.png": {
     "image/png": "[encoded data removed]"
    }
   },
   "cell_type": "markdown",
   "metadata": {},
   "source": [
    "![ejercicio.png](attachment:ejercicio.png)<table align=\"left\">\n",
    " <tr>\n",
    "     <td style=\"text-align:left\">\n",
    "         <h3>Ejercicio bucle for</h3>\n",
    "\n",
    "Recorre la siguiente lista con un for, imprime únicamente los elementos múltiplos de 3\n",
    "         \n",
    " </td></tr>\n",
    "</table>"
   ]
  },
  {
   "cell_type": "code",
   "execution_count": 15,
   "metadata": {},
   "outputs": [],
   "source": [
    "nums_bucle = [5, 7, 3, 4, 2, 4, 7, 6, 10, 1, 6, 3, 5, 9]"
   ]
  },
  {
   "cell_type": "code",
   "execution_count": 19,
   "metadata": {},
   "outputs": [
    {
     "name": "stdout",
     "output_type": "stream",
     "text": [
      "3\n",
      "6\n",
      "6\n",
      "3\n",
      "9\n"
     ]
    }
   ],
   "source": [
    "for num in nums_bucle:\n",
    "    if num % 3 == 0:\n",
    "        print(num)\n"
   ]
  },
  {
   "cell_type": "code",
   "execution_count": null,
   "metadata": {},
   "outputs": [],
   "source": []
  }
 ],
 "metadata": {
  "kernelspec": {
   "display_name": "Python 3",
   "language": "python",
   "name": "python3"
  },
  "language_info": {
   "codemirror_mode": {
    "name": "ipython",
    "version": 3
   },
   "file_extension": ".py",
   "mimetype": "text/x-python",
   "name": "python",
   "nbconvert_exporter": "python",
   "pygments_lexer": "ipython3",
   "version": "3.12.1"
  }
 },
 "nbformat": 4,
 "nbformat_minor": 4
}
