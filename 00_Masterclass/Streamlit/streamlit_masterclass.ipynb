{
 "cells": [
  {
   "cell_type": "markdown",
   "metadata": {},
   "source": [
    "# **Masterclass: Streamlit**\n"
   ]
  },
  {
   "cell_type": "markdown",
   "metadata": {},
   "source": [
    "## Introducción\n",
    "Streamlit es una herramienta moderna para crear aplicaciones web de datos de forma rápida y sencilla.  \n",
    "\n",
    "Con ella podremos visualizar datos, crear dashboards interactivos y desplegar aplicaciones web sin necesidad de conocimientos previos de desarrollo web.\n",
    "\n",
    "### Recursos esenciales\n",
    "- **Galería de ejemplos**: Explora lo que otros han creado en https://streamlit.io/gallery  \n",
    "\n",
    "- **Documentación oficial**: Consulta todas las funcionalidades en https://docs.streamlit.io/  \n",
    "\n",
    "### Instalación\n",
    "Para comenzar:\n",
    "1. Crea una carpeta para tu proyecto.  \n",
    "2. Crea un entorno virtual dentro de dicha carpeta.  \n",
    "3. Y, por último, instala Streamlit usando pip:  \n",
    "\n",
    "    ```bash\n",
    "    pip install streamlit\n",
    "    ```\n",
    "\n",
    "### Ejecución de aplicaciones Streamlit\n",
    "Para ejecutar cualquier aplicación de Streamlit, usa el comando:\n",
    "\n",
    "```bash\n",
    "streamlit run nombre_archivo.py\n",
    "```"
   ]
  },
  {
   "cell_type": "markdown",
   "metadata": {},
   "source": [
    "## Project Cargatron\n",
    "\n",
    "El objetivo de hoy es crear una aplicación que nos permita localizar las estaciones de carga de coches eléctricos de Madrid.  \n",
    "\n",
    "Para ello nos han proporcionado un csv con los datos de las estaciones de carga."
   ]
  },
  {
   "cell_type": "markdown",
   "metadata": {},
   "source": [
    "#### 1. Configuración inicial\n",
    "\n",
    "Comenzamos nuestro proyecto creando un nuevo archivo .py (lo puedes llamar \"main.py\", \"app.py\", \"cargatron.py\", etc.).\n",
    "\n",
    "Una vez creado, importaremos streamlit y configuraremos ciertos parámetros básicos de nuestra aplicación. Puedes ver todos los parámetros que podemos configurar en el siguiente enlace: https://docs.streamlit.io/en/stable/api.html#placeholders-help-and-options  \n",
    "\n",
    "Empecemos configurando el tamaño de la pantalla, el título y el icono de la página.\n",
    "\n",
    "```bash\n",
    "import streamlit as st\n",
    "\n",
    "# Configuración inicial del proyecto\n",
    "st.set_page_config(\n",
    "    page_title=\"Project Cargatron\",\n",
    "    page_icon=\":zap:\",\n",
    "    layout=\"wide\",\n",
    "    initial_sidebar_state=\"expanded\",\n",
    ")\n",
    "```\n"
   ]
  },
  {
   "cell_type": "markdown",
   "metadata": {},
   "source": [
    "#### 2. Carga y procesamiento de datos\n",
    "\n",
    "Evidentemente, hemos venido aquí para hablar de datos (o leerlos, mejor dicho), y esta es una de las posibilidades que nos ofrece Streamlit.\n",
    "\n",
    "Para leer los datos utilizaremos la librería de nuestra preferencia, en este caso -> Pandas.\n",
    "\n",
    "Recuerda importar la librería y a continuación prueba las siguientes acciones:\n",
    "\n",
    "1. Por defecto en este proyecto vamos a leer los datos a través de una ruta que le pasemos, lee esos datos con pandas (pd.read_csv) y muéstralos por pantalla (st.dataframe), para ello necesitarás guardarlos en una variable.\n",
    "\n",
    "2. También vamos a darle la opción al usuario para que introduzca sus propios datos (st.file_uploader), ojo que la sintáxis es especial.\n",
    "\n",
    "3. Genial, ahora que sabemos que nuestro file_uploader funciona, ¡vamos a lanzar unos globos para celebrar que hemos leído los datos correctamente! (st.balloons)"
   ]
  },
  {
   "cell_type": "markdown",
   "metadata": {},
   "source": [
    "#### 3. Creación de la interfaz principal\n",
    "\n",
    "Ya somos capaces de cargar e imprimir datos por pantalla, pero nuestro proyecto no es muy atractivo a la vista, por tanto vamos a realizar las siguientes acciones:\n",
    "\n",
    "1. Introduce una cabecera que diga \"My Streamlit APP - Project Cargatron\" (prueba st.title o st.header)  \n",
    "\n",
    "2. Incluye una imagen (st.image), te hemos dejado una de muestra pero puedes poner la que quieras. Las imágenes pueden incluir subtítulos (caption) y pueden configurarse a nuestro gusto con los argumentos del método.\n",
    "\n",
    "3. Escribe una pequeña descripción de nuestra página (st.write).\n",
    "\n",
    "4. Quizá no nos apetece que la descripción se vea siempre, prueba a usar un elemento extensible (st.expander).\n",
    "\n",
    "5. Vamos a mover un poco las cosas y vamos mostrar los datos dentro del elemento extensible, y además queremos que Streamlit nos muestre el código ha sido necesario para imprimir estos datos (st.dataframe / st.echo)  "
   ]
  },
  {
   "cell_type": "markdown",
   "metadata": {},
   "source": [
    "#### 4. Implementación de visualizaciones\n",
    "\n",
    "Nuestro proyecto empieza a tomar forma, ahora prueba a incluir las siguientes visualizaciones de nuestros datos\n",
    "\n",
    "1. Mostramos un mapa con las distintas estaciones (st.map)  \n",
    "\n",
    "2. Mostramos un gráfico de barras con los cargadores por distrito (st.bar_chart)  \n",
    "\n",
    "3. Mostramos un gráfico de barras con los cargadores por operador (st.bar_chart)"
   ]
  },
  {
   "cell_type": "markdown",
   "metadata": {},
   "source": [
    "#### 5. Sistema de navegación\n",
    "\n",
    "Ahora tenemos demasiadas cosas una detrás de otra, así que vamos a ordenar un poco el proyecto. En los siguientes pasos separaremos toda la información en diferentes páginas y le daremos al usuario la opción de elegir que página quiere ver mediante un selector.\n",
    "\n",
    "1. Creamos un selector (st.selectbox)  \n",
    "\n",
    "2. Para que el selector se vea siempre y así poder cambiar de página lo tenemos que poner en el lateral (st.sidebar)\n",
    "\n",
    "3. Separamos los elementos que van a home y los que van a los datos en distintas funciones que debemos importar correctamente.\n",
    "\n",
    "4. Creamos una estructura para que dependiendo de la selección del menu podamos ver la página de home, la página del mapa o la página de los datos."
   ]
  },
  {
   "cell_type": "markdown",
   "metadata": {},
   "source": [
    "#### 6. Sistema de filtros interactivos\n",
    "\n",
    "Nuestro proyecto Cargatron ya tiene muy buena pinta, pero para terminar de rizar el rizo vamos a incluir también un sistema de filtros interactivos que se aplique de manera transversal a las tres páginas y modifique los resultados de las mismas. Aplica las siguientes acciones y veremos los resultados:\n",
    "\n",
    "1. Todos los filtros los pondremos en la barra lateral o sidebar. \n",
    "\n",
    "2. Creamos un filtro para seleccionar el número mínimo y máximo de nº cargadores de cada estación (st.select_slider)\n",
    "\n",
    "3. Creamos un selector para poder diferencia entre filtro de distrito y operador (st.selectbox)  \n",
    "\n",
    "3. Los filtros por defecto van a coger un valor pero es posible que el usuario no quiera utilizar todos los filtros por lo que vamos a pedirle por lo que vamos a introducir un checkbox para cada filtro para evaluar si queremos utilizar el filtro o no (st.checkbox)  \n",
    "\n",
    "4. Si nuestros filtros provocan que nuestro se quede vacio vamos a colocar un aviso y vamos a parar la ejecución (st.warning / st.stop)  \n",
    "\n",
    "6. Si no hemos utilizado el filtro de distrito vamos a mostrar la distribución de las estaciones en los distritos.\n",
    "\n",
    "7. Si no hemos utilizado el filtro de operador vamos a mostrar la distribución de las estaciones de cada operador.\n",
    "\n",
    "9. Organizamos la pagina de tal manera que el mapa este en una columna y las otras distribuciones en otra columna. Con una proporción de 3 a 2."
   ]
  },
  {
   "cell_type": "markdown",
   "metadata": {},
   "source": [
    "#### 7. Despliegue de la aplicación\n",
    "\n",
    "Hasta ahora estábamos utilizando nuestra aplicación en local pero vamos a desplegarla online para que cualquier persona pueda utilizarla. En este punto Streamlit brilla por su sencillez ya que nos ofrecen su propia infraestructura para desplegar nuestras aplicaciones, simplemente teniendo una cuenta de usuario y un perfil en GitHub. Para desplegar la aplicación, date de alta en la versión Free de Stremlit y aplica las siguientes acciones:\n",
    "\n",
    "1. Necesitaremos un archivo de dependencias \"requirements.txt\" en el que tienen que aparecer todas las librerías necesarias para ejecutar la aplicación. Para crearlo podemos utilizar la terminal y ejecutamos:\n",
    "\n",
    "    ```bash\n",
    "    pip freeze > requirements.txt\n",
    "    ```  \n",
    "\n",
    "2. Subimos todo el proyecto a nuestro repositorio de GitHub, es importante que nuestro repositorio sea público y recuerda no subir a GitHub el entorno virtual ni los archivos temporales o cacheados. \n",
    "\n",
    "3. Creamos nuestra nueva app en streamlit.io"
   ]
  },
  {
   "cell_type": "markdown",
   "metadata": {},
   "source": [
    "Felicidades, ¡ya tienes tu primera aplicación de Streamlit!"
   ]
  },
  {
   "cell_type": "code",
   "execution_count": null,
   "metadata": {},
   "outputs": [],
   "source": []
  },
  {
   "cell_type": "code",
   "execution_count": null,
   "metadata": {},
   "outputs": [],
   "source": []
  },
  {
   "cell_type": "markdown",
   "metadata": {},
   "source": [
    "#### 6. Sistema de filtros interactivos\n",
    "\n",
    "Nuestro proyecto Cargatron ya tiene muy buena pinta, pero para terminar de rizar el rizo vamos a incluir también un sistema de filtros interactivos que se aplique de manera transversal a las tres páginas y modifique los resultados de las mismas. Aplica las siguientes acciones y veremos los resultados:\n",
    "\n",
    "1. Creamos un filtro para seleccionar el número mínimo y máximo de nº cargadores de cada estación (st.select_slider)\n",
    "\n",
    "2. Creamos filtros para seleccionar distrito y operador (st.selectbox)  \n",
    "\n",
    "3. Los filtros por defecto van a coger un valor pero es posible que el usuario no quiera utilizar todos los filtros por lo que vamos a pedirle por lo que vamos a introducir un checkbox para cada filtro para evaluar si queremos utilizar el filtro o no (st.checkbox)  \n",
    "\n",
    "4. Todos los filtros los queremos en el lateral.  \n",
    "\n",
    "5. Si nuestros filtros provocan que nuestro se quede vacio vamos a colocar un aviso y vamos a parar la ejecución (st.warning / st.stop)  \n",
    "\n",
    "6. Una vez tenemos los filtros vamos a mostrar un mapa de las estaciones (st.map)  \n",
    "\n",
    "7. Si se ha aplicado el filtro de distrito vamos a aumentar el zoom del mapa de 11 a 13.  \n",
    "\n",
    "8. Si no hemos utilizado el filtro de distrito vamos a mostrar la distribución de las estaciones en los distritos.\n",
    "\n",
    "9. Si no hemos utilizado el filtro de operador vamos a mostrar la distribución de las estaciones de cada operador.\n",
    "\n",
    "10. Mostramos cuantos cargadores hay de cada tamaño.\n",
    "\n",
    "11. Organizamos la pagina de tal manera que el mapa este en una columna y las otras distribuciones en otra columna. Con una proporción de 3 a 2."
   ]
  }
 ],
 "metadata": {
  "kernelspec": {
   "display_name": ".venv",
   "language": "python",
   "name": "python3"
  },
  "language_info": {
   "name": "python",
   "version": "3.11.9"
  }
 },
 "nbformat": 4,
 "nbformat_minor": 2
}
