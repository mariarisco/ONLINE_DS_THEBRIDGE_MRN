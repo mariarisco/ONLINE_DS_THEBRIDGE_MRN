{
 "cells": [
  {
   "cell_type": "markdown",
   "id": "1f1401c1-4dc9-4902-95bf-160715a42a25",
   "metadata": {},
   "source": [
    "# Prueba de Ramp-up"
   ]
  },
  {
   "cell_type": "markdown",
   "id": "1b34c670-a6dd-482d-9b04-5babee7be17a",
   "metadata": {},
   "source": [
    "Antes de comenzar, cambia el nombre del archivo notebook poniéndole delante tu nombre y primer apellido:\n",
    "\n",
    "* ``<nombre_apellido>_examen_online.ipynb``"
   ]
  },
  {
   "cell_type": "code",
   "execution_count": null,
   "id": "c8d9a657-272c-425a-9ac4-ea59f479673c",
   "metadata": {},
   "outputs": [
    {
     "name": "stdout",
     "output_type": "stream",
     "text": [
      "María Risco Nardiz\n"
     ]
    }
   ],
   "source": [
    "# Escribe tu nombre en la variable:\n",
    "nombre_y_apellidos = \"María Risco Nardiz\" "
   ]
  },
  {
   "cell_type": "code",
   "execution_count": 2,
   "id": "2e9f9af5-076c-44ec-9a80-95c0e99cdc58",
   "metadata": {},
   "outputs": [],
   "source": [
    "\"\"\"\n",
    "Criterios de corrección:\n",
    "\n",
    "ejecución (ausencia de errores y obtención de resultados)\n",
    "estructura del código\n",
    "uso correcto de variables\n",
    "manejo de tipo de variables\n",
    "asignaciones\n",
    "operaciones booleanas\n",
    "manejo lógico de flujos de control y bucles\n",
    "uso de colecciones\n",
    "uso de funciones\n",
    "\"\"\";\n",
    "\n",
    "# Ejemplo de como queremos ver el código para más de un intento:\n",
    "\n",
    "# intento 1\n",
    "#your code\n",
    "\n",
    "# intento 2\n",
    "#your code"
   ]
  },
  {
   "cell_type": "code",
   "execution_count": 3,
   "id": "bb16d0e3-3bb9-4f2b-944e-8fc35e628701",
   "metadata": {},
   "outputs": [],
   "source": [
    "# crea todas las celdas que necesites"
   ]
  },
  {
   "cell_type": "markdown",
   "id": "9e02b8f5-6f66-4e73-acfa-7f8c3977de2a",
   "metadata": {},
   "source": [
    "#### Notas y pruebas de apoyo para contestar las preguntas\n",
    "\n",
    "\n",
    "Cualquier código aunque no esté correcto nos dirá más de ti que no escribir nada. "
   ]
  },
  {
   "cell_type": "markdown",
   "id": "57d6b062-27f8-4377-b583-d662777b0bd7",
   "metadata": {},
   "source": [
    "__Debes subir este notebook a tu REPO PERSONAL__\n",
    "\n",
    "__Hora: hasta las 13:30 del 06/11/2024__"
   ]
  },
  {
   "cell_type": "markdown",
   "id": "062d81e8",
   "metadata": {},
   "source": [
    "#### Ejercicio 1\n",
    "\n",
    "Disponemos de una lista con información sobre varios empleados:\n",
    "\n",
    "    empleados = \n",
    "    [[12345, \"Juan Rodríguez\", 53, [\"Director financiero\"], 2],[56789, \"Laura Pérez\", 41, [\"CEO\", \"Director\", \"Gerente\"], 2],[88354, \"Pedro Álvarez\", 26, [\"Asistente\",\"Gestor comercial\"], 3]]\n",
    "\n",
    "Respecto de cada empleado, la lista contiene cinco elementos: en el primero almacenamos su tfno, en el segundo su nombre, en el tercero su edad, en el cuarto los puestos que ha desempeñado en la empresa (en forma de lista) y en el quinto su código postal.\n",
    "\n",
    "1. Siguiendo la misma estructura, incluye un nuevo empleado en la última posición de la lista empleados.\n",
    "\n",
    "2. Mostrar por pantalla, sin uso de funciones (salvo print) ni bucles: \n",
    "\n",
    "    - El nombre y la edad del tercer empleado de la lista empleados.\n",
    "    - Los puestos desempeñados por Pedro Álvarez, ordenados de atras a adelante (es decir, de Gestor comercial a Asistente)\n",
    "    - Si el nuevo empleado que has añadido tiene más o igual a 60 años, muestra por pantalla los puestos que el nuevo empleado haya desempeñado en la empresa. En caso contrario, muestra los puestos desempeñados por Laura Pérez y Juan Rodriguez."
   ]
  },
  {
   "cell_type": "code",
   "execution_count": 29,
   "id": "9d000e16",
   "metadata": {},
   "outputs": [
    {
     "name": "stdout",
     "output_type": "stream",
     "text": [
      "El nombre del tercer empleado es: Pedro Álvarez y tiene 26 años\n",
      "Los puestos de Pedro Álvarez han sido: ['Gestor comercial', 'Asistente']\n",
      "Puestos desempeñados por Juan Rodríguez: ['Director financiero']\n",
      "Puestos desempeñados por Laura Pérez:['CEO', 'Director', 'Gerente']\n"
     ]
    }
   ],
   "source": [
    "empleados = [[12345, \"Juan Rodríguez\", 53, [\"Director financiero\"], 2],\n",
    "             [56789, \"Laura Pérez\", 41, [\"CEO\", \"Director\", \"Gerente\"], 2],\n",
    "             [88354, \"Pedro Álvarez\", 26, [\"Asistente\",\"Gestor comercial\"], 3]]\n",
    "# print(empleados)\n",
    "\n",
    "# Crear registro nuevo empleado\n",
    "nuevo_empleado = [34652, \"Luis Sanchez\", 46, [\"Director Proyectos\", \"Contract Manager\", \"Gerente General\"], 6]\n",
    "\n",
    "# Incluir nuevo empleado a la lista de empleados\n",
    "empleados.append(nuevo_empleado)\n",
    "# print(empleados)\n",
    "\n",
    "# Nombre y edad del tercer empleado\n",
    "print(f\"El nombre del tercer empleado es: {empleados[2][1]} y tiene {empleados[2][2]} años\")\n",
    "\n",
    "# puestos_pedro_alvarez = empleados[2][3].sort(reverse=True)\n",
    "puestos_pedro_alvarez = empleados[2][3]\n",
    "puestos_pedro_alvarez.sort(reverse = True)\n",
    "print(f\"Los puestos de Pedro Álvarez han sido: {puestos_pedro_alvarez}\")\n",
    "\n",
    "# mostrar puestos\n",
    "if empleados[3][2] >= 60:\n",
    "    print(f\"Puestos desempeñados por {empleados[3][1]}: {empleados[3][3]}\")\n",
    "else:\n",
    "    print(f\"Puestos desempeñados por {empleados[0][1]}: {empleados[0][3]}\")\n",
    "    print(f\"Puestos desempeñados por {empleados[1][1]}:{empleados[1][3]}\")\n"
   ]
  },
  {
   "cell_type": "markdown",
   "id": "4da89624-0da3-4f91-aa5c-a084c5ee1b17",
   "metadata": {},
   "source": [
    "#### Ejercicio 2. \n",
    "\n",
    "Escribe un programa que te diga si una letra es una consonante o una vocal. Crea tu propia **FUNCIÓN**\n"
   ]
  },
  {
   "cell_type": "code",
   "execution_count": 36,
   "id": "c58bf610-92de-4a5a-a00d-652279ea33dd",
   "metadata": {},
   "outputs": [
    {
     "name": "stdout",
     "output_type": "stream",
     "text": [
      "p es una consonante\n",
      "a es una vocal\n"
     ]
    }
   ],
   "source": [
    "def cons_vocal(letra):\n",
    "    # if letra == \"a\" or letra == \"e\" or letra ==\"i\" or letra ==\"o\" or letra == \"u\":\n",
    "    if letra in [\"a\", \"e\", \"i\", \"o\", \"u\"]:\n",
    "        # print(f\"{letra} es una vocal\")\n",
    "        return f\"{letra} es una vocal\"\n",
    "    else:\n",
    "        # print(f\"{letra} es una consonante\")\n",
    "        return f\"{letra} es una consonante\"\n",
    "        \n",
    "print(cons_vocal(\"p\"))\n",
    "print(cons_vocal(\"a\"))"
   ]
  },
  {
   "cell_type": "markdown",
   "id": "52065a6c-3d4c-44c0-a10b-958506c481b3",
   "metadata": {},
   "source": [
    "#### Ejercicio 3. \n",
    "\n",
    "Escribe un programa que calcule la edad humana de un perro.\n",
    "Tienes que pedirle al usuario la edad del perro en años.\n",
    "Si el usuario introduce un número negativo, imprime que la cifra facilitada no tiene sentido. Si el perro tiene un año, son 14 años humanos. Si tiene 2 años, son 22 años humanos.\n",
    "A partir de los 2 años, el cálculo es el siguiente: a la edad del perro se le restan 2 años, el resultado se multiplica por 5 y, finalmente, se le suma 22.\n",
    "Usa una función sin argumentos de entrada ni de salida (muestra toda la información con print())"
   ]
  },
  {
   "cell_type": "code",
   "execution_count": 46,
   "id": "9c59c801-1fe1-4a6d-a000-f85ca738ed00",
   "metadata": {},
   "outputs": [
    {
     "name": "stdout",
     "output_type": "stream",
     "text": [
      "La edad humana del perro es de 27 años\n"
     ]
    }
   ],
   "source": [
    "# solicitar la edad del perro\n",
    "# edad = int(input(\"Por favor, introduce la edad de tu perro en años\"))\n",
    "# print(edad)\n",
    "\n",
    "# calculo de edad humana de un perro\n",
    "def edad_perro():\n",
    "    edad = int(input(\"Por favor, introduce la edad de tu perro en años\"))\n",
    "    if edad < 0:\n",
    "        print(\"La cifra facilitada no tiene sentido\")\n",
    "    elif edad <= 2:\n",
    "        edad_perro = edad*14\n",
    "        print(\"La edad humana del perro es:\", edad_perro)\n",
    "    else:\n",
    "        edad_perro = ((edad-2)*5)+22\n",
    "        print(\"La edad humana del perro es de\", edad_perro, \"años\")\n",
    "#     return edad_perro\n",
    "\n",
    "# edad_perro(edad)\n",
    "edad_perro()\n",
    "\n"
   ]
  },
  {
   "cell_type": "markdown",
   "id": "2991309f-4208-431a-900c-d9bc734bb936",
   "metadata": {},
   "source": [
    "#### Ejercicio 4. \n",
    "\n",
    "Escribe un programa que te diga si una frase es un pangrama. Un pangrama es una frase que contiene todas las letras del alfabeto.\n",
    "Puedes tener espacios en blanco, pero NO  tendrás signos de puntuación, a excepción de las tildes.\n",
    "\n",
    "Ejemplo de pangrama:\n",
    "\n",
    "Extraño pan de col y kiwi se quemó bajo fugaz vaho "
   ]
  },
  {
   "cell_type": "code",
   "execution_count": null,
   "id": "9a349c1e-15ab-4253-97f8-2a07a263791d",
   "metadata": {},
   "outputs": [
    {
     "data": {
      "text/plain": [
       "True"
      ]
     },
     "execution_count": 52,
     "metadata": {},
     "output_type": "execute_result"
    }
   ],
   "source": [
    "# intento 1:\n",
    "# def pangrama(frase):\n",
    "#     frase = frase.lower() # eliminamos sensibilidad a mayusculas\n",
    "#     alfabeto = \"abcdefghijklmnñopqrstuvwxyz\" # creamos variable alfabeto para recorrerla y comparar con frase\n",
    "#     for letra in frase:\n",
    "#         if letras not in alfabeto:\n",
    "#             return False\n",
    "#         else:\n",
    "#             return True\n",
    "\n",
    "# # frase_1 = \"Extraño pan de col y kiwi se quemó bajo fugaz vaho\"\n",
    "# # pangrama(frase_1)\n",
    "\n",
    "# frase_2 = \"Esta es una frase cualquiera para probar\"\n",
    "# pangrama(frase_2)"
   ]
  },
  {
   "cell_type": "code",
   "execution_count": null,
   "id": "5c360f36",
   "metadata": {},
   "outputs": [
    {
     "data": {
      "text/plain": [
       "True"
      ]
     },
     "execution_count": 56,
     "metadata": {},
     "output_type": "execute_result"
    }
   ],
   "source": [
    "# intento 2:\n",
    "def pangrama(frase):\n",
    "    frase = frase.lower()  # eliminamos sensibilidad a mayúsculas\n",
    "    alfabeto = \"abcdefghijklmnñopqrstuvwxyz\"  # creamos variable alfabeto para recorrerla y comparar con frase\n",
    "\n",
    "    for letras in alfabeto: # Recorrer el alfabeto y comparar si cada letra está o no en frase\n",
    "        if letras not in frase:\n",
    "            return False  # Retorna False si alguna letra falta de la letra no está en el alfabeto y para el bucle\n",
    "    \n",
    "    return True  # Retorna True si todas las letras están presentes\n",
    "\n",
    "frase_1 = \"Extraño pan de col y kiwi se quemó bajo fugaz vaho\"\n",
    "pangrama(frase_1)"
   ]
  },
  {
   "cell_type": "code",
   "execution_count": 57,
   "id": "ac96df15",
   "metadata": {},
   "outputs": [
    {
     "data": {
      "text/plain": [
       "False"
      ]
     },
     "execution_count": 57,
     "metadata": {},
     "output_type": "execute_result"
    }
   ],
   "source": [
    "frase_2 = \"Esta es una frase cualquiera para probar\"\n",
    "pangrama(frase_2)"
   ]
  },
  {
   "cell_type": "markdown",
   "id": "3dbb76e0-79b2-45e8-9034-58ee9cbd82bb",
   "metadata": {},
   "source": [
    "#### Ejercicio 5. \n",
    "\n",
    "Escribe un programa que use diccionarios para traducir palabras entre varios idiomas.\n",
    "Deberás pedirle al usuario una palabra por teclado, ver si está en tu diccionario. En caso de que esté, deberás mostrar la traducción de esa palabra.\n",
    "\n",
    "Ejemplo de diccionario:\n",
    "\n",
    "```python\n",
    "{\"file\": \"Fichier\", \"new\": \"Nouveau\", \"open\": \"Ouvrir\", \"save\": \"Enregistrer\", \"save as\": \"Enregistrer sous\", \"print preview\": \"Apercu avant impressioner\", \"print\": \"Imprimer\", \"close\": \"Fermer\", \"exit\": \"Quitter\"}\n"
   ]
  },
  {
   "cell_type": "code",
   "execution_count": 67,
   "id": "88236123-e8ac-45da-87d0-134a88a690c1",
   "metadata": {},
   "outputs": [
    {
     "name": "stdout",
     "output_type": "stream",
     "text": [
      "La palabra table no está en el diccionario\n"
     ]
    }
   ],
   "source": [
    "diccionario = {\"file\": \"Fichier\", \"new\": \"Nouveau\", \"open\": \"Ouvrir\", \"save\": \"Enregistrer\", \n",
    "               \"save as\": \"Enregistrer sous\", \"print preview\": \"Apercu avant impressioner\", \n",
    "               \"print\": \"Imprimer\", \"close\": \"Fermer\", \"exit\": \"Quitter\"}\n",
    "# print(diccionario)\n",
    "\n",
    "def traducir():\n",
    "    palabra = str(input(\"Por favor, la palabra en inglés que quieres traducir\").lower())\n",
    "    if palabra not in diccionario.keys():\n",
    "        print(f\"La palabra {palabra} no está en el diccionario\")\n",
    "    else:\n",
    "        trad = diccionario[palabra]\n",
    "        print(f\"La palabra {palabra} en francés es {trad}\")\n",
    "\n",
    "traducir()\n"
   ]
  },
  {
   "cell_type": "code",
   "execution_count": 68,
   "id": "b09813ed",
   "metadata": {},
   "outputs": [
    {
     "name": "stdout",
     "output_type": "stream",
     "text": [
      "La palabra file en francés es Fichier\n"
     ]
    }
   ],
   "source": [
    "traducir()"
   ]
  },
  {
   "cell_type": "markdown",
   "id": "61967ca4-7e06-44b3-ad7b-adbc0e71671a",
   "metadata": {},
   "source": [
    "#### Ejercicio 6. (Bonus).\n",
    "\n",
    "Usando `OOP` modela un theremin (es un instrumento musical que se toca modificando el campo electromagnético, por si tenías curiosidad).\n",
    "Tendrá de atributos la marca, el modelo, el peso, la potencia y la batería.\n",
    "\n",
    "Todos los instrumentos se crean con un peso predeterminado de 500, una potencia de 50 y una batería de 200.\n",
    "\n",
    "Cuando se recarga la batería vale 200.\n",
    "\n",
    "Cuando se toca, se muestra por pantalla que está sonando y la batería disminuye 10 (no siendo nunca negativo).\n",
    "Si no hay batería, no puede sonar. Crea un instrumento, tócalo mientras quede batería, cárgalo y no lo vuelvas a tocar.\n"
   ]
  },
  {
   "cell_type": "code",
   "execution_count": null,
   "id": "8082c8cd-03a9-478e-aa72-4ec1306e1bb2",
   "metadata": {},
   "outputs": [],
   "source": [
    "class theremin:\n",
    "    # Atributos del theremin\n",
    "    def __init__(self, marca, modelo):\n",
    "        self.marca = marca\n",
    "        self.modelo = modelo\n",
    "        self.peso = 500  # Peso predeterminado\n",
    "        self.potencia = 50  # Potencia predeterminada\n",
    "        self.bateria = 200  # Nivel de batería predeterminado (máximo)\n",
    "\n",
    "    # método para recargar\n",
    "    def recarga(self): \n",
    "        self.bateria = 200\n",
    "        print(\"Batería llena\")\n",
    "\n",
    "    # método para tocar el theremin\n",
    "    def tocar(self): \n",
    "        if self.bateria > 0: # condicional para comprobar si tiene batería\n",
    "            print(f\"El theremin {self.modelo} está tocando\") # muestra que tiene bateria\n",
    "            self.bateria -= 10  # Batería disminuye en 10\n",
    "            print(f\"Batería restante: {self.bateria}\") # Indicar batería restante\n",
    "        else:\n",
    "            print(f\"El theremin {self.modelo} no tiene bateria\")"
   ]
  },
  {
   "cell_type": "code",
   "execution_count": 92,
   "id": "e5f75235",
   "metadata": {},
   "outputs": [
    {
     "name": "stdout",
     "output_type": "stream",
     "text": [
      "El theremin modelo_molon está tocando\n",
      "Batería restante: 190\n",
      "El theremin modelo_molon está tocando\n",
      "Batería restante: 180\n",
      "El theremin modelo_molon está tocando\n",
      "Batería restante: 170\n",
      "El theremin modelo_molon está tocando\n",
      "Batería restante: 160\n",
      "El theremin modelo_molon está tocando\n",
      "Batería restante: 150\n",
      "El theremin modelo_molon está tocando\n",
      "Batería restante: 140\n",
      "El theremin modelo_molon está tocando\n",
      "Batería restante: 130\n",
      "El theremin modelo_molon está tocando\n",
      "Batería restante: 120\n",
      "El theremin modelo_molon está tocando\n",
      "Batería restante: 110\n",
      "El theremin modelo_molon está tocando\n",
      "Batería restante: 100\n",
      "El theremin modelo_molon está tocando\n",
      "Batería restante: 90\n",
      "El theremin modelo_molon está tocando\n",
      "Batería restante: 80\n",
      "Batería llena\n",
      "El theremin modelo_molon está tocando\n",
      "Batería restante: 190\n",
      "El theremin modelo_molon está tocando\n",
      "Batería restante: 180\n",
      "El theremin modelo_molon está tocando\n",
      "Batería restante: 170\n",
      "El theremin modelo_molon está tocando\n",
      "Batería restante: 160\n",
      "El theremin modelo_molon está tocando\n",
      "Batería restante: 150\n",
      "El theremin modelo_molon está tocando\n",
      "Batería restante: 140\n",
      "El theremin modelo_molon está tocando\n",
      "Batería restante: 130\n",
      "El theremin modelo_molon está tocando\n",
      "Batería restante: 120\n",
      "El theremin modelo_molon está tocando\n",
      "Batería restante: 110\n",
      "El theremin modelo_molon está tocando\n",
      "Batería restante: 100\n",
      "El theremin modelo_molon está tocando\n",
      "Batería restante: 90\n",
      "El theremin modelo_molon está tocando\n",
      "Batería restante: 80\n",
      "El theremin modelo_molon está tocando\n",
      "Batería restante: 70\n",
      "El theremin modelo_molon está tocando\n",
      "Batería restante: 60\n",
      "El theremin modelo_molon está tocando\n",
      "Batería restante: 50\n",
      "El theremin modelo_molon está tocando\n",
      "Batería restante: 40\n",
      "El theremin modelo_molon está tocando\n",
      "Batería restante: 30\n",
      "El theremin modelo_molon está tocando\n",
      "Batería restante: 20\n",
      "El theremin modelo_molon está tocando\n",
      "Batería restante: 10\n",
      "El theremin modelo_molon está tocando\n",
      "Batería restante: 0\n",
      "El theremin modelo_molon no tiene bateria\n",
      "Batería llena\n"
     ]
    }
   ],
   "source": [
    "# Crear un theremin\n",
    "theremin_1 = theremin(\"Ni idea\", \"modelo_molon\")\n",
    "# print(theremin_1.modelo)\n",
    "\n",
    "theremin_1.tocar()\n",
    "theremin_1.tocar()\n",
    "theremin_1.tocar()\n",
    "theremin_1.tocar()\n",
    "theremin_1.tocar()\n",
    "theremin_1.tocar()\n",
    "theremin_1.tocar()\n",
    "theremin_1.tocar()\n",
    "theremin_1.tocar()\n",
    "theremin_1.tocar()\n",
    "theremin_1.tocar()\n",
    "theremin_1.tocar()\n",
    "theremin_1.recarga()\n",
    "theremin_1.tocar()\n",
    "theremin_1.tocar()\n",
    "theremin_1.tocar()\n",
    "theremin_1.tocar()\n",
    "theremin_1.tocar()\n",
    "theremin_1.tocar()\n",
    "theremin_1.tocar()\n",
    "theremin_1.tocar()\n",
    "theremin_1.tocar()\n",
    "theremin_1.tocar()\n",
    "theremin_1.tocar()\n",
    "theremin_1.tocar()\n",
    "theremin_1.tocar()\n",
    "theremin_1.tocar()\n",
    "theremin_1.tocar()\n",
    "theremin_1.tocar()\n",
    "theremin_1.tocar()\n",
    "theremin_1.tocar()\n",
    "theremin_1.tocar()\n",
    "theremin_1.tocar()\n",
    "theremin_1.tocar()\n",
    "theremin_1.recarga()"
   ]
  },
  {
   "cell_type": "markdown",
   "id": "30f773b5-a6da-4446-b36b-722b2ee57730",
   "metadata": {},
   "source": [
    "#### Ejercicio 7. Extra (NO PUNTÚA).\n",
    "Una empresa usa dos listas  para guardar la información de sus empleados. Una lista guarda el nombre del empleado y la otra guarda su salario. Escribe un programa que cree esas dos listas originalmente vacías y que a través de un menú pueda hacer lo siguiente:\n",
    "    \n",
    "Inserta 1 para añadir un nuevo empleado y su salario\n",
    "\n",
    "Inserta 2 para imprimir los nombres y salarios de todos los empleados\n",
    "\n",
    "Inserta 3 para mostrar el número de empleados\n",
    "\n",
    "Inserta 4 para imprimir los nombres de los empleados con sueldos superiores a 400000\n",
    "\n",
    "Inserta 5 para subir un 5% los sueldos por debajo de 10000\n",
    "\n",
    "Inserta 6 para mostrar el total de todos los salarios\n",
    "\n",
    "Inserta 7 para salir del programa"
   ]
  },
  {
   "cell_type": "code",
   "execution_count": null,
   "id": "67858e27-b7f5-4e05-bc50-3fca698ad22a",
   "metadata": {},
   "outputs": [
    {
     "name": "stdout",
     "output_type": "stream",
     "text": [
      "\n",
      "\n",
      "¡Bienvenido!\n",
      "\n",
      "Inserta 1 para añadir un nuevo empleado y su salario\n",
      "Inserta 2 para imprimir los nombres y salarios de todos los empleados\n",
      "Inserta 3 para mostrar el número de empleados\n",
      "Inserta 4 para imprimir los nombres de los empleados con sueldos superiores a 400000\n",
      "Inserta 5 para subir un 5% los sueldos por debajo de 10000\n",
      "Inserta 6 para mostrar el total de todos los salarios\n",
      "Inserta 7 para salir del programa\n",
      "\n",
      "    \n",
      "\n",
      "Suma de todos los sueldos:  10000\n",
      "\n",
      "Cantidad de empleados:  1\n",
      "\n",
      "¡Gracias por usar el programa!\n"
     ]
    }
   ],
   "source": [
    "nombre = []\n",
    "salario = []\n",
    "\n",
    "def empleados:\n",
    "        print(\"\\nMenú de opciones:\")\n",
    "        print(\"1. Añadir un nuevo empleado y su salario\")\n",
    "        print(\"2. Imprimir los nombres y salarios de todos los empleados\")\n",
    "        print(\"3. Mostrar el número de empleados\")\n",
    "        print(\"4. Imprimir nombres de empleados con sueldos superiores a 400000\")\n",
    "        print(\"5. Subir un 5% los sueldos por debajo de 10000\")\n",
    "        print(\"6. Mostrar el total de todos los salarios\")\n",
    "        print(\"7. Salir del programa\")"
   ]
  },
  {
   "cell_type": "markdown",
   "id": "e33a0e21-476e-4103-b889-a6b3e76b99f3",
   "metadata": {},
   "source": [
    "\n",
    "####  Ejercicio 8. EXTRA (NO PUNTÚA).\n",
    "\n",
    "Escribe un programa que __USE RECURSIVIDAD__ para decidir cuál es la película de Pixar favorita de un usuario.\n",
    "El programa preguntará al usuario cuál de 2 películas es su favorita, y con esa favorita se le volverá a preguntar entre esa y otra película cuál es su favorita...y así hasta que el usuario haya decidido de entre todas cuál es su favorita.\n",
    "\n",
    "Pista: si no quieres cambiar una lista, usa copy() y tendrás una copia que es otro objeto\n",
    "\n"
   ]
  },
  {
   "cell_type": "code",
   "execution_count": null,
   "id": "c9936fd4-6d29-4535-9f34-a6f289d18d8b",
   "metadata": {},
   "outputs": [
    {
     "name": "stdout",
     "output_type": "stream",
     "text": [
      "Si prefieres Toy Story marca 1, si prefieres Soul marca 2: 1\n",
      "Prefieres Toy Story\n",
      "Si prefieres Toy Story marca 1, si prefieres Up marca 2: 2\n",
      "Prefieres Up\n",
      "Si prefieres Up marca 1, si prefieres Coco marca 2: 2\n",
      "Prefieres Coco\n",
      "Si prefieres Coco marca 1, si prefieres Luca marca 2: 1\n",
      "Prefieres Coco\n",
      "Si prefieres Coco marca 1, si prefieres Monsters marca 2: 2\n",
      "Prefieres Monsters\n",
      "Si prefieres Monsters marca 1, si prefieres Inside Out marca 2: 1\n",
      "Prefieres Monsters\n",
      "Si prefieres Monsters marca 1, si prefieres WallE marca 2: 2\n",
      "Prefieres WallE\n",
      "Si prefieres WallE marca 1, si prefieres Buscando a Nemo marca 2: 2\n",
      "Prefieres Buscando a Nemo\n",
      "Si prefieres Buscando a Nemo marca 1, si prefieres Los increíbles marca 2: 1\n",
      "Prefieres Buscando a Nemo\n",
      "\n",
      "Prefieres finalmente Buscando a Nemo\n"
     ]
    }
   ],
   "source": []
  },
  {
   "cell_type": "code",
   "execution_count": 1,
   "id": "10a7b881",
   "metadata": {},
   "outputs": [],
   "source": [
    "# FIN DEL EXAMEN"
   ]
  }
 ],
 "metadata": {
  "kernelspec": {
   "display_name": "Python 3",
   "language": "python",
   "name": "python3"
  },
  "language_info": {
   "codemirror_mode": {
    "name": "ipython",
    "version": 3
   },
   "file_extension": ".py",
   "mimetype": "text/x-python",
   "name": "python",
   "nbconvert_exporter": "python",
   "pygments_lexer": "ipython3",
   "version": "3.12.1"
  }
 },
 "nbformat": 4,
 "nbformat_minor": 5
}
