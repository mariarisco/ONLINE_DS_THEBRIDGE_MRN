{
  "cells": [
    {
      "cell_type": "markdown",
      "metadata": {
        "id": "TZ8-spwGrtMI"
      },
      "source": [
        "<img src=\"https://github.com/Jaimegrp/Practicando/blob/main/Texto/img/cabecera.png?raw=1\">"
      ]
    },
    {
      "cell_type": "markdown",
      "metadata": {
        "id": "43dkXdozrtMK"
      },
      "source": [
        "## Una (muy) breve (pero densa) introducción a la IA Generativa en Textos"
      ]
    },
    {
      "cell_type": "markdown",
      "metadata": {
        "id": "i4Tab-WKrtMK"
      },
      "source": [
        "*NOTA: Este notebook adapta y amplía parte del capítulo dedicado a NLP en el excelente libro [Hands on Machine Learning for Python](https://learning.oreilly.com/library/view/hands-on-machine-learning/9781492032632/ch16.html#nlp_chapter)*"
      ]
    },
    {
      "cell_type": "markdown",
      "metadata": {
        "id": "3-TYG-VJrtML"
      },
      "source": [
        "La generación de textos y más que eso el tratamiento de lenguaje natural ha dado un salto \"cuántico\" en los últimos años dentro del campo de la IA. Vamos a ver de una forma poco ortodoxa la evolución partiendo de las arquitecturas más complejas sobre redes recurrentes hasta terminar en los instruct LLM (la base de la IA multimodal generativa actual). Será un viaje denso y breve, pero espero que despierte el interés en ti para ampliar más con el material extra que se proporciona en la plataforma y en algunos enlaces de este notebook."
      ]
    },
    {
      "cell_type": "markdown",
      "metadata": {
        "id": "jTwE2Qu4rtMM"
      },
      "source": [
        "*Antes de empezar, este notebook \"no\" se recomienda si no se ejecuta en un entorno con GPU disponible. Si no es el caso -> Colab:*\n",
        "\n"
      ]
    },
    {
      "cell_type": "markdown",
      "metadata": {
        "id": "OUIn-3_qrtMM"
      },
      "source": [
        "<table align=\"left\">\n",
        "  <td>\n",
        "    <a href=\"https://colab.research.google.com/github/rodolso/DS_Online_Octubre24/blob/main/05_Deep_Learning/Sprint_19/Unidad_02_IA_Generativa_NLP_y_Texto/Generativa_Texto_De_RRN_a_LLM.ipynb\" target=\"_parent\"><img src=\"https://colab.research.google.com/assets/colab-badge.svg\" alt=\"Open In Colab\"/></a>\n",
        "  </td>\n",
        "</table>"
      ]
    },
    {
      "cell_type": "code",
      "execution_count": 2,
      "metadata": {
        "id": "XXGCfC43rtMN"
      },
      "outputs": [],
      "source": [
        "import sys\n",
        "\n",
        "assert sys.version_info >= (3, 7)"
      ]
    },
    {
      "cell_type": "markdown",
      "metadata": {
        "id": "-rN3amKO8mBC"
      },
      "source": [
        "**Warning**: las versiones más recientes de TensorFlow están basadas en Keras 3. Para las sesiones previas no fue muy difícil actualizar el código para que fuera compatible con Keras 3, pero desafortunadamente es mucho más complicado para esta sesión (especialmente en la parte final de la misma). Por ello, nos vemos obligados a volver a Keras 2. Para hacer esto, vamos a configurar la variable de entorno `TF_USE_LEGACY_KERAS` a `\"1\"` e importamos el paquete `tf_keras`. Esto asegura que `tf.keras` apunte correctamente a `tf_keras`, que es Keras 2.*."
      ]
    },
    {
      "cell_type": "code",
      "execution_count": 2,
      "metadata": {
        "id": "a0b9iwIEzGKD"
      },
      "outputs": [],
      "source": [
        "IS_COLAB = \"google.colab\" in sys.modules\n",
        "if IS_COLAB:\n",
        "    import os\n",
        "    os.environ[\"TF_USE_LEGACY_KERAS\"] = \"1\"\n",
        "    import tf_keras"
      ]
    },
    {
      "cell_type": "code",
      "execution_count": 3,
      "metadata": {
        "id": "gCHANlswrtMO"
      },
      "outputs": [],
      "source": [
        "from packaging import version\n",
        "import sklearn\n",
        "\n",
        "assert version.parse(sklearn.__version__) >= version.parse(\"1.0.1\")"
      ]
    },
    {
      "cell_type": "code",
      "execution_count": 4,
      "metadata": {
        "id": "Rg025n4NrtMO"
      },
      "outputs": [
        {
          "name": "stdout",
          "output_type": "stream",
          "text": [
            "TensorFlow version: 2.10.1\n",
            "GPU available: [PhysicalDevice(name='/physical_device:GPU:0', device_type='GPU')]\n"
          ]
        }
      ],
      "source": [
        "import tensorflow as tf\n",
        "\n",
        "assert version.parse(tf.__version__) >= version.parse(\"2.8.0\")\n",
        "\n",
        "print(\"TensorFlow version:\", tf.__version__)\n",
        "print(\"GPU available:\", tf.config.list_physical_devices('GPU'))"
      ]
    },
    {
      "cell_type": "code",
      "execution_count": 5,
      "metadata": {
        "id": "6pZ5hfvkrtMP"
      },
      "outputs": [],
      "source": [
        "import numpy as np\n",
        "import matplotlib.pyplot as plt\n",
        "import pandas as pd\n",
        "\n",
        "from collections import Counter\n",
        "from IPython.display import clear_output\n",
        "from pathlib import Path\n",
        "from random import random, randint,sample\n",
        "from time import time, sleep\n",
        "\n",
        "\n",
        "plt.rc('font', size=14)\n",
        "plt.rc('axes', labelsize=14, titlesize=14)\n",
        "plt.rc('legend', fontsize=14)\n",
        "plt.rc('xtick', labelsize=10)\n",
        "plt.rc('ytick', labelsize=10)"
      ]
    },
    {
      "cell_type": "code",
      "execution_count": 7,
      "metadata": {
        "id": "oqYnbmiRrtMP"
      },
      "outputs": [],
      "source": [
        "if not tf.config.list_physical_devices('GPU'):\n",
        "    print(\"No GPU was detected. Neural nets can be very slow without a GPU.\")\n",
        "    if \"google.colab\" in sys.modules:\n",
        "        print(\"Go to Runtime > Change runtime and select a GPU hardware \"\n",
        "              \"accelerator.\")\n",
        "    if \"kaggle_secrets\" in sys.modules:\n",
        "        print(\"Go to Settings > Accelerator and select GPU.\")"
      ]
    },
    {
      "cell_type": "markdown",
      "metadata": {
        "id": "XDnv_Sx0rtMP"
      },
      "source": [
        "## Usando RNNs: Una estructura Encoder-Decoder para traducir de inglés a español"
      ]
    },
    {
      "cell_type": "markdown",
      "metadata": {
        "id": "qBcIBBUArtMP"
      },
      "source": [
        "El primer gran avance por encima de la vectorización y las técnicas iniciales de resumen (summarization), traducción (translation), preguntas y respuestas (Q&A), es el empleo de redes recurrentes en el tratamiento de textos. Veamos un ejemplo."
      ]
    },
    {
      "cell_type": "markdown",
      "metadata": {
        "id": "HiDAs2-VrtMP"
      },
      "source": [
        "El objetivo del siguiente ejemplo es doble:  \n",
        "1. Mostrar cómo las redes recurrentes pueden configurarse para tratar un problema de traducción donde a una secuencia de entrada de longitud variable le corresponderá una secuencia de longitud variable y además no necesariamente coincidente, en dicha longitud, con la de entrada. Este problema se aplica a la traducción de inglés a español pero es un esquema que se puede emplear en cualquier tipo de cambio de representación entre secuencias (yes, para pasar de una secuencia a una imagen y viceversa).   \n",
        "\n",
        "2. Introducir de forma progresiva el concepto de _Atention_ (atención) para mejorar el modelo anterior y sobre este la arquitectura conocida como Transformers, que nos permitirá hablar de GPT, BERT y los LLM (Large Language Models, no Master of Laws, ojo) en general."
      ]
    },
    {
      "cell_type": "markdown",
      "metadata": {
        "id": "MQ81WAyHrtMQ"
      },
      "source": [
        "### El dataset de entrenamiento"
      ]
    },
    {
      "cell_type": "markdown",
      "metadata": {
        "id": "Kh3YfbK_rtMQ"
      },
      "source": [
        "Utilizaremos un datset que empareja palabras y frases en inglés con sus traducciones al español de Tensorflow"
      ]
    },
    {
      "cell_type": "code",
      "execution_count": 6,
      "metadata": {
        "id": "Kry1EyVWrtMQ"
      },
      "outputs": [],
      "source": [
        "url = \"https://storage.googleapis.com/download.tensorflow.org/data/spa-eng.zip\"\n",
        "path = tf.keras.utils.get_file(\"spa-eng.zip\",\n",
        "                               origin=url,\n",
        "                               cache_dir=\"datasets\",\n",
        "                               extract=True)\n",
        "text = (Path(path).with_name(\"spa-eng\") / \"spa.txt\").read_text(encoding = \"utf-8\")"
      ]
    },
    {
      "cell_type": "markdown",
      "metadata": {
        "id": "emipPlQartMQ"
      },
      "source": [
        "Observamos su contenido (siempre hay que mirar la mercancía antes de ponerse a cocinar)"
      ]
    },
    {
      "cell_type": "code",
      "execution_count": 7,
      "metadata": {
        "colab": {
          "base_uri": "https://localhost:8080/"
        },
        "id": "8PsOOYjNrtMQ",
        "outputId": "282d40fe-21a9-4189-dcb7-166bf355d9de"
      },
      "outputs": [
        {
          "name": "stdout",
          "output_type": "stream",
          "text": [
            "Go.\tVe.\n",
            "Go.\tVete.\n",
            "Go.\tVaya.\n",
            "Go.\tVáyase.\n",
            "Hi.\tHola.\n",
            "Run!\t¡Corre!\n",
            "Run.\tCorred.\n",
            "Who?\t¿Quién?\n",
            "Fire!\t¡Fueg\n"
          ]
        }
      ],
      "source": [
        "print(text[:100])"
      ]
    },
    {
      "cell_type": "markdown",
      "metadata": {
        "id": "34GsOC45rtMQ"
      },
      "source": [
        "Lo transformamos para que sea una relación de secuencia a secuencia (dada una secuencia tenemos su target)"
      ]
    },
    {
      "cell_type": "code",
      "execution_count": null,
      "metadata": {
        "id": "o8hoHlQwrtMR"
      },
      "outputs": [],
      "source": [
        "text = text.replace(\"¡\", \"\").replace(\"¿\", \"\")\n",
        "pairs = [line.split(\"\\t\") for line in text.splitlines()]\n",
        "np.random.seed(42)  # extra code – ensures reproducibility on CPU\n",
        "np.random.shuffle(pairs)\n",
        "sentences_en, sentences_es = zip(*pairs)  # separa las parejas en dos listas"
      ]
    },
    {
      "cell_type": "code",
      "execution_count": null,
      "metadata": {},
      "outputs": [
        {
          "data": {
            "text/plain": [
              "('How boring!',\n",
              " 'I love sports.',\n",
              " 'Would you like to swap jobs?',\n",
              " 'My mother did nothing but weep.',\n",
              " 'Croatia is in the southeastern part of Europe.',\n",
              " 'I have never eaten a mango before.',\n",
              " 'Tell the taxi driver to drive faster.',\n",
              " 'Tom and I work together.',\n",
              " 'I would prefer an honorable death.',\n",
              " 'Tom married a much younger woman.',\n",
              " \"It couldn't happen to me.\",\n",
              " \"Tom isn't going to marry you.\",\n",
              " \"Can you believe it? He's even lazier than me.\",\n",
              " 'She has hundreds of books.',\n",
              " 'They found him guilty.',\n",
              " 'Tom calls Mary up every night.',\n",
              " \"Tom says he won't come.\",\n",
              " \"I don't mind if the weather is hot.\",\n",
              " 'It is difficult to speak Chinese well.',\n",
              " \"Tom claimed that he didn't know Mary.\",\n",
              " 'Just come up here.',\n",
              " 'Tom has a strange way of talking.',\n",
              " 'Tom has many friends living in Boston.',\n",
              " 'I made my decision.',\n",
              " 'Come again tomorrow.',\n",
              " \"I think I'm still drunk from last night.\",\n",
              " 'My father and my brother work in this factory.',\n",
              " 'We need your signature.',\n",
              " \"Learn from others' mistakes.\",\n",
              " 'The dog walked backward.',\n",
              " \"I don't want to drink anything.\",\n",
              " 'Everybody likes him.',\n",
              " 'My father disapproved of my going to the concert.',\n",
              " 'She is a singer.',\n",
              " 'Tom has something in his right hand.',\n",
              " 'She is a leader in her field.',\n",
              " \"They're sunbathing around the pool.\",\n",
              " \"I think Tom didn't understand the joke.\",\n",
              " \"I don't like doctors.\",\n",
              " \"Don't laugh at him.\",\n",
              " 'The enemy attacked from behind.',\n",
              " 'Is Tom famous?',\n",
              " 'I asked him if I could read his book.',\n",
              " 'I have a slight pain in my side.',\n",
              " \"You don't speak English, do you?\",\n",
              " 'They are more or less the same size.',\n",
              " 'Neither of these is mine.',\n",
              " 'Tom is the person to ask.',\n",
              " \"I don't like this shirt. Show me another one.\",\n",
              " 'Tom wanted to know who Mary had been dating.',\n",
              " \"I didn't think this was your seat.\",\n",
              " 'The glass is dirty.',\n",
              " \"You didn't want to tell Tom about that, did you?\",\n",
              " \"You've misunderstood.\",\n",
              " 'Tom cheated.',\n",
              " 'The doctor took my pulse.',\n",
              " 'Tips are not accepted.',\n",
              " \"It's your turn to read.\",\n",
              " \"I wasn't careful.\",\n",
              " 'Enjoy your meal.',\n",
              " \"I don't mind sharing the room with him.\",\n",
              " \"You know me well enough to know I wouldn't do that.\",\n",
              " 'You should try the exam again.',\n",
              " 'He shot at the bird, but missed it.',\n",
              " \"I don't want trouble.\",\n",
              " 'Tom has no memory of what happened.',\n",
              " \"I don't know why I bother coming here.\",\n",
              " 'Is this a bad time to chat?',\n",
              " 'There were no radios in those days.',\n",
              " 'Does Tom have a girlfriend?',\n",
              " \"The defendant's innocence could not be verified.\",\n",
              " 'Who told you to bring me here?',\n",
              " 'What was there?',\n",
              " \"You told me it wouldn't rain today, so I didn't bring an umbrella.\",\n",
              " \"I don't like to be disturbed.\",\n",
              " \"Tom doesn't trust us.\",\n",
              " 'Please forgive me.',\n",
              " 'They will survey the desert island.',\n",
              " 'Can you speak a little slower?',\n",
              " \"Don't underestimate the problem.\",\n",
              " 'Tom took my car.',\n",
              " \"We didn't do anything wrong.\",\n",
              " 'It makes no difference to me whether he comes or not.',\n",
              " 'I love weddings.',\n",
              " 'I got jealous.',\n",
              " \"I think it's time for me to discuss the problem with her.\",\n",
              " 'Tom comes here every day.',\n",
              " 'Just ignore her.',\n",
              " \"There are few men who don't know that.\",\n",
              " 'Let me pay my share.',\n",
              " \"I've come back for you.\",\n",
              " 'Those books are mine.',\n",
              " 'The restaurant is next door to the theater.',\n",
              " 'I know what that means.',\n",
              " 'She is good at speaking English.',\n",
              " \"He's always joking.\",\n",
              " 'What did you do with that camera?',\n",
              " 'Just make this stop.',\n",
              " 'I saw many familiar faces.',\n",
              " 'If you are going to go to America, you should brush up your English.',\n",
              " 'Tom lives in the room above us.',\n",
              " 'Are you suggesting we run and hide?',\n",
              " 'She avoided answering my questions.',\n",
              " 'There is a great demand for gasoline.',\n",
              " 'My sister usually goes to the park every weekend.',\n",
              " 'Always keep a handkerchief in your pocket.',\n",
              " \"Please don't look over here again.\",\n",
              " \"I'm intrigued.\",\n",
              " 'I want to leave early.',\n",
              " 'The flowers in the vase were wilted.',\n",
              " \"I don't like talking about football.\",\n",
              " 'I could kill you.',\n",
              " 'This is smaller than that.',\n",
              " 'Mary has just come home.',\n",
              " 'I was concerned.',\n",
              " 'I found the room empty.',\n",
              " 'Tom bought a piece of land not far from where Mary lives.',\n",
              " 'Is this your dog?',\n",
              " \"Why don't you just shut up?\",\n",
              " 'Tom felt sick.',\n",
              " 'Are they satisfied?',\n",
              " 'Do you know anyone who hums while they work?',\n",
              " 'You lucky devil!',\n",
              " \"He got the twelve o'clock train.\",\n",
              " \"Tom isn't a crook.\",\n",
              " 'Nobody was tortured.',\n",
              " 'Tom wanted to help Mary.',\n",
              " 'It looks like Tom has an alibi for the night Mary was murdered.',\n",
              " 'I bought a hat at the store.',\n",
              " 'My sister is always weighing herself.',\n",
              " 'He seems to be asleep.',\n",
              " 'What time did you get here this morning?',\n",
              " \"I'm pretty hungry since I haven't eaten since early this morning.\",\n",
              " 'Tom is a former paratrooper.',\n",
              " 'We understand this.',\n",
              " 'He was pleased with the toy.',\n",
              " 'Tom has a reservation at this hotel.',\n",
              " \"Just don't tell anyone else.\",\n",
              " 'Tom followed us.',\n",
              " 'You are such a liar!',\n",
              " 'Are you single?',\n",
              " \"Don't worry about it. Everything's going to be fine.\",\n",
              " 'I called him, but a girl answered the phone.',\n",
              " 'She was asked to convince him to get his son to paint the house.',\n",
              " 'I like to relax with a good novel.',\n",
              " 'You should get your car fixed.',\n",
              " 'He is still here.',\n",
              " \"You're very astute.\",\n",
              " 'She hurt her elbow when she fell down.',\n",
              " 'Hold the ball with both hands.',\n",
              " 'Do you like Renaissance art?',\n",
              " 'Stop that car.',\n",
              " \"From this point, we'll go on foot.\",\n",
              " 'Tom had a very good time.',\n",
              " \"I told you I don't know if Tom will tell the truth.\",\n",
              " 'She fell asleep with her sweater on.',\n",
              " 'Tom stood up and headed for the bathroom.',\n",
              " 'Do you like them?',\n",
              " 'I noticed that she was wearing new glasses.',\n",
              " 'I never have had occasion to use it.',\n",
              " \"I've lost my ticket.\",\n",
              " 'Who else can answer my question?',\n",
              " \"Don't bother me with such trifles.\",\n",
              " 'I emailed Tom the pictures I took yesterday.',\n",
              " 'He made no response.',\n",
              " 'I hate the desert.',\n",
              " 'You have until midnight.',\n",
              " 'One of my friends says he wants me to meet you.',\n",
              " 'Tom told his son the story about a monster that ate children.',\n",
              " \"Don't eat too much.\",\n",
              " 'She has been watching television for three hours.',\n",
              " 'Can I try on this jacket?',\n",
              " \"I don't care.\",\n",
              " 'Tom changed his mind at the last minute.',\n",
              " \"Don't leave the bedroom window open.\",\n",
              " 'Try some.',\n",
              " 'Is anybody hurt?',\n",
              " 'His name escapes me.',\n",
              " 'She was busy with her knitting.',\n",
              " \"I wish the subway wasn't so crowded every morning.\",\n",
              " \"Maybe there's something I can do.\",\n",
              " \"I can't believe you married Tom.\",\n",
              " 'I see a lion.',\n",
              " \"This woman definitely knows that she doesn't know what she wants.\",\n",
              " 'We have less than two hours.',\n",
              " 'The bus stopped, but nobody got off.',\n",
              " 'Tom is a friend of mine.',\n",
              " 'She told me she knew my brother.',\n",
              " 'Almost no one believed her.',\n",
              " 'Will there be any food at the party?',\n",
              " 'You need to be more careful.',\n",
              " 'She talks a lot.',\n",
              " \"Why didn't Tom tell Mary?\",\n",
              " 'You survived.',\n",
              " \"They're not mine.\",\n",
              " 'Thank you for your thorough explanation.',\n",
              " 'I do not have much time.',\n",
              " 'She deserved it.',\n",
              " \"We're a bit busy at the moment. Can you hang on a minute?\",\n",
              " 'I wake him at six every morning.',\n",
              " \"I'll go provided you go with me.\",\n",
              " \"Speak louder. Your grandfather's hearing isn't so good.\",\n",
              " \"We don't often eat out.\",\n",
              " 'He licked his fingers.',\n",
              " 'I think the eggs that I just ate were rotten.',\n",
              " 'The tourists were ripped off at the nightclub.',\n",
              " 'She likes to listen to music.',\n",
              " 'How do you go to school every day?',\n",
              " \"Now that you're my girlfriend, I'm happy.\",\n",
              " \"Don't give me that look.\",\n",
              " 'I have no one to help me.',\n",
              " 'Tom thought it was strange.',\n",
              " \"Let's meet for a chat.\",\n",
              " 'There are many foreign tourists in Asakusa.',\n",
              " 'Raise your hands.',\n",
              " 'Stop right here.',\n",
              " 'Communism was the biggest issue in the campaign.',\n",
              " 'I go to school at eight in the morning.',\n",
              " 'Tom almost laughed.',\n",
              " 'These shoes are old, but I still like them.',\n",
              " 'What time do you want to meet?',\n",
              " 'I want to be a better person.',\n",
              " 'I brought you some food.',\n",
              " 'Tom was the last one to leave the party.',\n",
              " 'What time will you be back?',\n",
              " \"I really don't like goat cheese at all.\",\n",
              " 'He refused to sign the documents.',\n",
              " 'Long hair is out of fashion.',\n",
              " 'I like tennis.',\n",
              " \"It's true that he is in love with her.\",\n",
              " 'I read the book from beginning to end.',\n",
              " \"We're studying physical science.\",\n",
              " 'My grandmother lived to be ninety-five years old.',\n",
              " 'She disappeared in the dark.',\n",
              " 'Tom kissed Mary on her forehead.',\n",
              " 'I have plenty of things to eat in the pantry.',\n",
              " 'He was kind enough to help me with my homework.',\n",
              " 'All you do is complain!',\n",
              " \"There's nowhere to hide.\",\n",
              " \"Don't phone me when I'm at the office.\",\n",
              " 'Let me help.',\n",
              " 'Do you know how to use a computer?',\n",
              " 'The pond dried up last summer.',\n",
              " \"We're married to each other.\",\n",
              " \"That's not how you spell my name.\",\n",
              " \"That's perfect.\",\n",
              " 'Ask him for advice.',\n",
              " 'He went to bed at eleven last night.',\n",
              " \"I'm very modest.\",\n",
              " \"I'm afraid of dogs.\",\n",
              " 'This is the place where Tom was born.',\n",
              " 'Tom lived in a small fishing village.',\n",
              " \"I thought I'd always be alone.\",\n",
              " \"What's the airmail rate?\",\n",
              " 'Many a mother spoils her sons by not being strict enough.',\n",
              " 'He got off the bus.',\n",
              " \"The medicine she took cured her of the bad cough she'd been suffering from.\",\n",
              " 'You will get well in a week or so.',\n",
              " 'I am dying to see her again.',\n",
              " 'Tom managed a small bar near Boston for quite a few years.',\n",
              " 'Is one thousand yen enough?',\n",
              " 'His old cat is still alive.',\n",
              " \"We don't have time.\",\n",
              " \"I'll be there.\",\n",
              " 'Did you come to town?',\n",
              " 'Why is this happening?',\n",
              " 'Tom plugged in his computer.',\n",
              " 'Nobody told me what time I should come.',\n",
              " \"I'm crazy.\",\n",
              " \"It shouldn't happen again.\",\n",
              " \"They're right behind you.\",\n",
              " 'She took a deep breath.',\n",
              " 'Do we have enough silverware for thirty people?',\n",
              " 'Tom is hyperventilating.',\n",
              " 'Everyone looks worried.',\n",
              " 'These glasses are cool.',\n",
              " 'There was no other choice but to abandon the entire project.',\n",
              " \"It's an interesting argument.\",\n",
              " \"That's cruel.\",\n",
              " 'I watch television in the evening.',\n",
              " 'Do you play the piano?',\n",
              " \"I'm here to save you.\",\n",
              " \"We're not eating.\",\n",
              " 'Send this message to as many people as you can.',\n",
              " 'She drew out the money from the bank.',\n",
              " \"Don't let anyone leave this building.\",\n",
              " 'Tom talked Mary into inviting John to the party.',\n",
              " 'I see a star.',\n",
              " 'He finally fulfilled my request.',\n",
              " 'I visited many parts of England.',\n",
              " 'He deserves more.',\n",
              " 'I apologized.',\n",
              " 'Those are not your chairs.',\n",
              " \"He's a DJ.\",\n",
              " 'I am divorced.',\n",
              " 'Keep an eye on Tom.',\n",
              " 'How many pens are there on the desk?',\n",
              " \"They didn't seem to notice it.\",\n",
              " 'My daugther wants a kitten.',\n",
              " 'Pay your fare here.',\n",
              " \"Don't bite the hand that feeds you.\",\n",
              " 'My roommate is too talkative.',\n",
              " 'Everyone dies eventually.',\n",
              " \"What's wrong with you?\",\n",
              " 'I want you to help us find out who killed Tom.',\n",
              " 'Tom likes animals.',\n",
              " 'We should obey the traffic rules.',\n",
              " \"Fiction is obliged to stick to possibilities. Truth isn't.\",\n",
              " 'I feel helpless.',\n",
              " 'I have a pain in my foot.',\n",
              " \"A gun won't do you much good if you're not willing to shoot it.\",\n",
              " 'I am going to go to America next year.',\n",
              " 'Will this be painful?',\n",
              " 'Where should we meet?',\n",
              " \"Tom's youngest daughter is his favorite.\",\n",
              " 'If I had time, I would study French.',\n",
              " 'When can I visit you?',\n",
              " 'He is still angry.',\n",
              " 'Give me a second.',\n",
              " 'How many pencils do you have?',\n",
              " \"I've done it before.\",\n",
              " 'Tom and Mary went deer hunting.',\n",
              " 'I will start tonight.',\n",
              " 'Students may not enter the faculty lounge.',\n",
              " \"Tom didn't pull the trigger.\",\n",
              " 'What happened to you? You look miserable.',\n",
              " 'She drinks like a fish.',\n",
              " 'Shall I prepare you a warm meal?',\n",
              " 'My father bought me a camera for my birthday.',\n",
              " \"His advice didn't help much.\",\n",
              " 'What are you doing on your night off?',\n",
              " 'Whoever wins the race will receive the prize.',\n",
              " \"You're the most handsome man I've ever seen.\",\n",
              " 'My passport was stolen.',\n",
              " 'That guy is totally nuts!',\n",
              " 'I just arrived now.',\n",
              " 'I hate my boss.',\n",
              " 'It was my first night among strangers.',\n",
              " 'Tom agreed.',\n",
              " 'He went away without saying a word.',\n",
              " 'I guess you will be very busy tonight.',\n",
              " 'He is afraid of making mistakes.',\n",
              " 'Tom wondered what Mary was doing here.',\n",
              " \"We'll hide it.\",\n",
              " \"He apologized for his rudeness, but she wouldn't forgive him.\",\n",
              " 'A cargo vessel, bound for Athens, sank in the Mediterranean without a trace.',\n",
              " 'When the man saw a policeman, he fled.',\n",
              " 'We have other things to do.',\n",
              " 'Where did you hide it?',\n",
              " 'I thanked Mary for her help.',\n",
              " 'You might get injured.',\n",
              " 'Terrorists blew up a bus.',\n",
              " 'He could not speak French well.',\n",
              " 'He stopped playing baseball last season.',\n",
              " 'We have to use the stairs, because the elevator is being repaired.',\n",
              " 'Our school did away with uniforms last year.',\n",
              " 'This antique clock is worth one thousand dollars.',\n",
              " 'That really bothers me.',\n",
              " 'We hardly ever see you around here anymore.',\n",
              " 'She belongs to the Democratic Party.',\n",
              " 'I looked around.',\n",
              " \"Let's make it brief.\",\n",
              " 'Do you have a house?',\n",
              " 'Doctors use medical equipment.',\n",
              " \"These are Tom's ski boots.\",\n",
              " \"I'd appreciate it if you would turn out the lights.\",\n",
              " 'Put the broom in the closet.',\n",
              " 'What do you want me to do?',\n",
              " 'I would like to offer you the position.',\n",
              " \"I can't put up with his violence any longer.\",\n",
              " \"It's only the beginning.\",\n",
              " 'I really got depressed.',\n",
              " 'I use it every day.',\n",
              " 'She is incapable of deceit.',\n",
              " 'I threw away my shoes.',\n",
              " \"I didn't get you a present.\",\n",
              " 'I was overconfident.',\n",
              " \"Tom is very dependable, isn't he?\",\n",
              " 'The sun is shining brightly.',\n",
              " 'He does not have any friends.',\n",
              " \"I'll eat here.\",\n",
              " 'Keep on smiling.',\n",
              " 'Someone is standing behind the bushes taking pictures of us.',\n",
              " 'Playing tennis is fun.',\n",
              " 'Tom never seems to get upset.',\n",
              " 'The furniture was dusty.',\n",
              " \"I don't know anybody in this town.\",\n",
              " 'I bought her a watch.',\n",
              " \"Let's go swimming.\",\n",
              " 'OK, listen up.',\n",
              " 'The teacher intervened in the quarrel between the two students.',\n",
              " 'That was a close call.',\n",
              " 'Everyone remarked on his new hairstyle.',\n",
              " \"He doesn't have a job. He's retired.\",\n",
              " 'I like him a lot, but sometimes he gets on my nerves.',\n",
              " 'Old people are usually very wise.',\n",
              " \"Don't you think it a bad thing?\",\n",
              " 'I feel like doing something different today.',\n",
              " 'I had no trouble finding his office.',\n",
              " 'Tom kept trying to call Mary, but she never answered her phone.',\n",
              " 'The patient fainted at the sight of blood.',\n",
              " 'This is how we cook rice.',\n",
              " \"I'm selling my car at a loss.\",\n",
              " 'Take a few days off.',\n",
              " 'I love French movies.',\n",
              " 'Tom raised his hand.',\n",
              " 'Tom congratulated Mary for her driving test.',\n",
              " 'Ask him when the next plane leaves.',\n",
              " 'What time does the club open?',\n",
              " 'The judge sentenced him to one year in prison.',\n",
              " \"He's wearing a white cotton shirt.\",\n",
              " 'He was very worried about having to spend Christmas in the hospital.',\n",
              " 'I thought you were going to kill me.',\n",
              " 'Cookie is my dog.',\n",
              " 'Is this correct?',\n",
              " 'I just want you to be involved.',\n",
              " 'What was the result?',\n",
              " \"Don't think I didn't try.\",\n",
              " 'I hate it.',\n",
              " 'I will never make that mistake again.',\n",
              " 'My son gets on very well at school.',\n",
              " 'How well can you skate?',\n",
              " \"He's not all there.\",\n",
              " 'My dream is to be a firefighter.',\n",
              " 'The storm let up.',\n",
              " 'Get to bed.',\n",
              " 'I already told you it was an accident.',\n",
              " \"Tom's car is in the garage.\",\n",
              " 'He died two hours later.',\n",
              " \"I'll tell you what happened.\",\n",
              " 'The box is heavy.',\n",
              " 'Please come and see me if you have time.',\n",
              " 'They bought a few pieces of furniture when they got married.',\n",
              " \"I think I'm in trouble.\",\n",
              " 'Tom felt uneasy talking to Mary about that matter.',\n",
              " 'That stove smokes too much.',\n",
              " \"I didn't know how to respond.\",\n",
              " 'He died of old age two years ago.',\n",
              " 'His car has just been repaired.',\n",
              " \"If you don't study harder, you'll definitely fail.\",\n",
              " 'He asked me to read 5 poems.',\n",
              " 'What have you told them?',\n",
              " \"What if I'm right?\",\n",
              " 'Tom was convicted and sentenced to death.',\n",
              " \"I don't want to do this anymore.\",\n",
              " 'I do the laundry on Sundays.',\n",
              " \"It's best to wear a cap on your head during the cold Moscow winters.\",\n",
              " 'I could feel nothing but the knife as it plunged into my back.',\n",
              " \"I'm sorry, but I can't go with you.\",\n",
              " 'How rude of you!',\n",
              " 'He has a nice income.',\n",
              " 'That shirt looks good on you.',\n",
              " 'You did your best.',\n",
              " \"Are you absolutely sure you want to sell your father's guitar?\",\n",
              " 'I jog twice a week.',\n",
              " \"I'm fed up with your constant complaining.\",\n",
              " 'It would be best if I met him in person.',\n",
              " 'That is the shop where I used to work.',\n",
              " \"Why didn't you try the dress on before you bought it?\",\n",
              " 'It was raining heavily in Osaka.',\n",
              " 'What does she look like?',\n",
              " \"I haven't made up my mind.\",\n",
              " 'That we are not able to do.',\n",
              " 'My dream is to become a famous singer.',\n",
              " 'Please lend me this book for a few days.',\n",
              " 'Prices rose drastically as a result of this policy.',\n",
              " 'Where did you buy this guitar?',\n",
              " \"Don't let go.\",\n",
              " \"I didn't mean to hit him.\",\n",
              " 'Did Tom tell you anything interesting?',\n",
              " 'Customers stopped coming to our shop.',\n",
              " 'Do you still love Tom?',\n",
              " 'He expressed himself clearly.',\n",
              " 'Tom noticed that Mary was limping.',\n",
              " 'Just come up here.',\n",
              " \"Tom can't take less.\",\n",
              " 'Use it or lose it.',\n",
              " 'They sat by the fireplace.',\n",
              " \"Tom didn't know how to treat his employees right.\",\n",
              " 'Tom told Mary the bad news.',\n",
              " 'I am a student in a university.',\n",
              " 'I want to know who killed Tom.',\n",
              " 'The machine operates around the clock.',\n",
              " 'What a good scholar the author must be to write such a splendid book!',\n",
              " 'The policeman separated the two men who were fighting.',\n",
              " 'Why are you so sure Tom is Canadian?',\n",
              " 'A century is one hundred years.',\n",
              " 'Tom lay awake for a long time thinking about Mary.',\n",
              " \"I'm impartial.\",\n",
              " 'The frescoes of the cathedral are very interesting.',\n",
              " 'My book is here.',\n",
              " \"There's a soccer match tomorrow.\",\n",
              " 'The influence of TV on society is great.',\n",
              " 'Do you want to go to the zoo?',\n",
              " 'Tom first met Mary when they were in high school.',\n",
              " 'My brother is a vet.',\n",
              " 'I think Tom is going to die.',\n",
              " \"I don't believe Tom can do that.\",\n",
              " 'What did Tom tell Mary not to do?',\n",
              " 'The mall is deserted.',\n",
              " 'What do you believe?',\n",
              " 'She said she was ill in bed, which was a lie.',\n",
              " 'I want to be rich.',\n",
              " 'What train you are going to take?',\n",
              " 'The floor was very cold.',\n",
              " \"Please don't use English.\",\n",
              " 'Tom is very smart, just like you.',\n",
              " 'I have no intention of getting wet.',\n",
              " \"The man's behavior was very odd.\",\n",
              " \"Tom and I could've saved ourselves a lot of time by just doing that ourselves.\",\n",
              " 'There was a striking resemblance between them.',\n",
              " \"That man's not to be trusted.\",\n",
              " 'Besides being a doctor, he was a very famous novelist.',\n",
              " \"To tell the truth, I didn't do my homework.\",\n",
              " 'They sat down.',\n",
              " 'He had a traffic accident on his way to school.',\n",
              " 'The desire to fly in the sky like a bird inspired the invention of the airplane.',\n",
              " 'That typhoon prevented me from going out.',\n",
              " \"I couldn't resist the urge to applaud.\",\n",
              " 'Are you done with your homework yet?',\n",
              " \"I'm getting undressed.\",\n",
              " 'The story is full of holes.',\n",
              " 'I gave my books to those people.',\n",
              " \"We're even.\",\n",
              " \"He's leaving for China tomorrow.\",\n",
              " 'I often watch TV before dinner.',\n",
              " 'Try us again next Monday.',\n",
              " 'She was depressed by all her problems.',\n",
              " 'The boy is afraid of the dark.',\n",
              " 'My mother loves me.',\n",
              " 'Tom disliked school when he was younger.',\n",
              " 'Will you let me use your telephone, please?',\n",
              " 'Give me your sandwich.',\n",
              " 'He promised not to smoke.',\n",
              " 'Those are the risks.',\n",
              " 'No one voted against it.',\n",
              " 'My life was in danger.',\n",
              " 'The police have caught him.',\n",
              " 'She taught me how to make a web site.',\n",
              " 'The more a man knows, the more he discovers his ignorance.',\n",
              " 'There are four people in my family.',\n",
              " 'Babies cry when they are hungry.',\n",
              " \"It's incredible!\",\n",
              " 'John met Mary on his way to school.',\n",
              " \"The child slept on its mother's lap.\",\n",
              " \"I don't like visiting big cities.\",\n",
              " 'This is the umbrella I bought yesterday.',\n",
              " 'I really like the concept of this website.',\n",
              " 'Go back to work.',\n",
              " 'Tom was the sort of man you could get along with.',\n",
              " 'Which one are you going to use?',\n",
              " \"Do you think I'm stupid?\",\n",
              " 'Tom showed me a magic trick.',\n",
              " 'She was wearing an ugly dress.',\n",
              " 'His ideas are too radical to be acceptable to most people.',\n",
              " 'You should cut down on the amount of fattening food that you eat.',\n",
              " 'It is clear that he is guilty.',\n",
              " 'You need to shut up.',\n",
              " 'She arrived just as I was leaving.',\n",
              " 'She does not have much money.',\n",
              " \"We're doing fine.\",\n",
              " \"The movie wasn't as interesting as the book.\",\n",
              " \"This clock isn't working.\",\n",
              " 'I ate a hot dog for lunch.',\n",
              " \"Don't forget about me.\",\n",
              " 'The house is on fire.',\n",
              " \"I don't understand French at all.\",\n",
              " 'The gasoline truck ran into the gate and blew up.',\n",
              " 'He has to work hard in order to support his family.',\n",
              " 'Will you tell me the truth?',\n",
              " 'Keep warm.',\n",
              " 'His grandfather is what is called a self-made man.',\n",
              " 'I got carded.',\n",
              " 'He confessed all his sins.',\n",
              " \"I'll go change my clothes.\",\n",
              " 'Could you please take me back home?',\n",
              " \"Don't forget to call me.\",\n",
              " 'The news made him happy.',\n",
              " 'The animals had to be killed.',\n",
              " 'Illness forced him to give up school.',\n",
              " 'He regretted not having taken my advice.',\n",
              " 'I think Tom drank out of my glass by mistake.',\n",
              " 'Why are you angry with me?',\n",
              " 'Let the children play.',\n",
              " 'He bored us with his long stories.',\n",
              " \"I don't know about you, but I'm starved.\",\n",
              " 'I have a lot of things to tell you.',\n",
              " 'Boys are more aggressive than girls.',\n",
              " 'He always borrows money from me.',\n",
              " 'He wants to study music and dance.',\n",
              " 'They left.',\n",
              " 'Are you a ghost?',\n",
              " \"Don't leave the windows open.\",\n",
              " 'Cut it out, Tom.',\n",
              " \"I'm eating now.\",\n",
              " 'Tom stands by me whenever I am in trouble.',\n",
              " 'He earns over 500 dollars a month from that job.',\n",
              " 'I told you to be careful.',\n",
              " 'They never tell a lie.',\n",
              " 'Have you ever seen anything so beautiful?',\n",
              " 'What a shame!',\n",
              " 'We need to chat soon.',\n",
              " 'She introduced her sister to him more than two years ago.',\n",
              " \"Didn't you hear the scream?\",\n",
              " 'Tom was lost.',\n",
              " 'Are you 18?',\n",
              " 'I am a member of the basketball team.',\n",
              " 'Tom is a diabetic.',\n",
              " 'I got out of the car at 40th Street.',\n",
              " 'Sorry for the delay.',\n",
              " 'Is English spoken in Canada?',\n",
              " \"Tom thought Mary wouldn't want to live in Boston.\",\n",
              " 'Tom told me I should get myself a girlfriend.',\n",
              " \"You didn't invite me.\",\n",
              " 'Does it hurt when you chew?',\n",
              " \"You can run, but you can't hide.\",\n",
              " 'She acted in the play.',\n",
              " 'I just want to hug you.',\n",
              " 'Tom leaned on his cane.',\n",
              " 'That makes no sense at all.',\n",
              " 'I want to buy this jacket.',\n",
              " 'He deposited 100 dollars in his saving account.',\n",
              " \"I'm not as healthy as I used to be.\",\n",
              " 'Yes, I know it.',\n",
              " 'I hope that you will get well soon.',\n",
              " 'Her house is close to the park.',\n",
              " 'About how many books do you have?',\n",
              " 'I was at home almost all day yesterday.',\n",
              " 'He is blinded by love.',\n",
              " 'He had few friends and little money.',\n",
              " 'He is a scientist who is respected by everybody.',\n",
              " 'They say that she is in love with him.',\n",
              " 'Tell her to not look for me.',\n",
              " \"When a good opportunity presents itself, I don't let it pass.\",\n",
              " 'She has a cold and is absent from school.',\n",
              " 'The library is on the 4th floor.',\n",
              " \"I haven't yet read all of these books.\",\n",
              " \"Mary doesn't have expensive tastes.\",\n",
              " 'He has a lot of original ideas.',\n",
              " 'I explained the rules to her.',\n",
              " 'We were to be married in May but had to postpone the marriage until June.',\n",
              " 'The computer is to her left.',\n",
              " 'He has a lot of money.',\n",
              " \"I'll be back in two hours.\",\n",
              " 'It is better to live rich, than to die rich.',\n",
              " \"There's a long line at every cash register.\",\n",
              " \"I'm sure you're going to like this lunch.\",\n",
              " 'We jog before breakfast every morning.',\n",
              " 'Nobody laughed.',\n",
              " 'I have already finished reading this book.',\n",
              " \"We haven't seen it yet.\",\n",
              " \"What's in that cupboard?\",\n",
              " 'Good for you.',\n",
              " \"Let's play something.\",\n",
              " 'Next Monday is a holiday.',\n",
              " 'This is the only book I have.',\n",
              " 'Is he aware of the difficulty?',\n",
              " 'I wanted us to be happy.',\n",
              " 'I believe in fate.',\n",
              " 'Tom saw his reflection in the mirror.',\n",
              " 'Everybody needs one.',\n",
              " 'Tom had no further questions.',\n",
              " 'Will you please show me the way?',\n",
              " 'I know a shortcut.',\n",
              " 'What are those?',\n",
              " \"We haven't got much time.\",\n",
              " \"It's a lot of fun to be with you.\",\n",
              " 'Could you just get straight to the point?',\n",
              " \"That's the right answer.\",\n",
              " 'Would you like to drink anything?',\n",
              " 'Is this love?',\n",
              " \"She starts her job at seven o'clock.\",\n",
              " \"Let's go to a movie.\",\n",
              " \"He hasn't made a record or had a concert for many years.\",\n",
              " 'You look tired.',\n",
              " \"I'm looking for my brother.\",\n",
              " 'The kitten slept soundly.',\n",
              " 'She married him.',\n",
              " 'He is the older of the two.',\n",
              " '\"She likes music.\" \"So do I.\"',\n",
              " 'If she were here now, I would tell her the truth.',\n",
              " 'My shopping bag broke.',\n",
              " 'We were friends.',\n",
              " 'Everyone cheered.',\n",
              " 'These tips may save your life.',\n",
              " 'Where are your friends?',\n",
              " \"Why shouldn't truth be stranger than fiction? Fiction, after all, has to make sense.\",\n",
              " 'Come on, give it to me.',\n",
              " 'Tom also plays the violin.',\n",
              " 'Tom admitted that he was afraid.',\n",
              " 'Tom is clearly worn out.',\n",
              " 'The dogs bayed at the full moon.',\n",
              " \"That's obscene.\",\n",
              " 'They went fishing yesterday.',\n",
              " 'He took out his handkerchief.',\n",
              " 'I was expecting you.',\n",
              " 'What do you have on the menu today?',\n",
              " 'Tom made it quite clear what he wanted.',\n",
              " 'This is really cool.',\n",
              " 'She needs our help.',\n",
              " 'She is out now.',\n",
              " 'They abandoned their children in the forest.',\n",
              " 'Tom got to the airport just in the nick of time.',\n",
              " \"Tom said he couldn't clean the pool tomorrow afternoon.\",\n",
              " 'Tom probably knows the answer.',\n",
              " \"It's understood that we'll start tomorrow.\",\n",
              " 'Hit Tom.',\n",
              " 'I handed in my report yesterday.',\n",
              " 'I have neglected you so long that I feel a bit shy in visiting you.',\n",
              " 'Give me a hammer.',\n",
              " 'I have a small fever.',\n",
              " \"It must've cost a fortune.\",\n",
              " 'I lied.',\n",
              " 'I could have sworn I saw somebody.',\n",
              " 'I suppose you like him.',\n",
              " \"I didn't know anyone at the party.\",\n",
              " \"You want a divorce, don't you?\",\n",
              " 'I am a teacher of English.',\n",
              " 'You must be more polite.',\n",
              " 'Who knows?',\n",
              " 'She asked me if I knew her address.',\n",
              " 'I once lived in Rome.',\n",
              " \"I'll scold him.\",\n",
              " 'Tom ate what little food he had left.',\n",
              " 'A policeman was gazing at a suspicious pedestrian.',\n",
              " 'I never looked for you.',\n",
              " 'Tom once worked at a bakery.',\n",
              " \"Everyone looked at Tom to see what he'd do.\",\n",
              " 'Tom was abused by his father.',\n",
              " \"Just a moment. I haven't made up my mind yet.\",\n",
              " 'It was the biggest mistake of my life.',\n",
              " 'Tom is the one who feeds the dog.',\n",
              " 'I will leave as soon as the bell rings.',\n",
              " 'Would you speak more slowly, please?',\n",
              " 'I am not a doctor, but a teacher.',\n",
              " 'Neither of those boys can speak French.',\n",
              " \"I'm learning English.\",\n",
              " 'Do you know of any good restaurants around here?',\n",
              " 'His brother had been missing for a while.',\n",
              " 'I looked down.',\n",
              " 'Please close the drapes.',\n",
              " 'His breath smells like goat cheese.',\n",
              " 'Nothing is happening.',\n",
              " \"He didn't have enough money to ride home on the train.\",\n",
              " 'I am delighted to be here.',\n",
              " \"Let's start with leftovers.\",\n",
              " 'What time does the show start?',\n",
              " 'The studio is very small, with no place to hide.',\n",
              " \"I don't mind sleeping on the floor.\",\n",
              " 'Tom never helps me.',\n",
              " 'Only one little boy survived the traffic accident.',\n",
              " \"Tom won't be here next month.\",\n",
              " 'You should go to the barbershop.',\n",
              " 'Our car ran out of gas after ten minutes.',\n",
              " 'Whose bicycle is this?',\n",
              " 'He never stopped writing.',\n",
              " 'She was restless because she did not have anything to do.',\n",
              " 'Put it in first and slowly let off the clutch while giving it a little gas.',\n",
              " 'How would you translate this sentence?',\n",
              " 'Do you eat in the classroom?',\n",
              " \"I wish I'd studied French when I was younger.\",\n",
              " 'Your questions were too direct.',\n",
              " 'Can you remember the first time we met each other?',\n",
              " 'I have plenty of time to do that.',\n",
              " 'I know Tom from work.',\n",
              " 'What have you done?',\n",
              " 'It is said the house is haunted.',\n",
              " 'Last year in the Philippines, earthquakes and tidal waves resulted in the deaths of more than 6,000 people.',\n",
              " \"I'm very grateful to you.\",\n",
              " \"Most people don't have a problem with that.\",\n",
              " \"I can't stand that noise.\",\n",
              " 'Everything will change.',\n",
              " 'None of us is perfect.',\n",
              " \"I'll go back to Boston.\",\n",
              " \"This museum isn't open on Mondays.\",\n",
              " 'Does he know how you feel?',\n",
              " \"They don't know that I'm Japanese.\",\n",
              " 'He often goes off on wild goose chases.',\n",
              " \"My father's hobby is fishing.\",\n",
              " 'I had stuff to do.',\n",
              " 'He was too drunk to remember to shut the back door.',\n",
              " 'I cut a branch from the tree.',\n",
              " 'How many days do we have left until summer vacation begins?',\n",
              " \"How's business?\",\n",
              " 'Close your mouth.',\n",
              " \"Tom doesn't want to do anything but swim.\",\n",
              " 'All men are equal.',\n",
              " 'I have an electric guitar.',\n",
              " 'Would you please stop singing so loudly? This is not a cheap drinking place.',\n",
              " 'Which do you like better, the Giants or the Dragons?',\n",
              " \"I don't feel like playing tennis today.\",\n",
              " 'He looks well.',\n",
              " 'Do you want to make some money today?',\n",
              " 'He bowed to the Queen.',\n",
              " \"She says you'll bring some friends along.\",\n",
              " \"Tom's funny.\",\n",
              " 'Tom is taller and stronger than Mary.',\n",
              " 'He abandoned his family.',\n",
              " 'Are there a lot of Moroccans in Germany?',\n",
              " 'Every mistake made me stronger.',\n",
              " 'Did she show you the picture?',\n",
              " 'Look at yourself in the mirror.',\n",
              " 'I wish I could speak French like a native speaker.',\n",
              " 'Tom asked Mary about her new job in Boston.',\n",
              " \"Tom doesn't have to wash the car. Mary's already washed it.\",\n",
              " 'It was yesterday.',\n",
              " \"What's your philosophy?\",\n",
              " \"What's the spiciest thing you've ever eaten?\",\n",
              " 'I love to teach.',\n",
              " \"Tom is a friend of Mary's.\",\n",
              " 'Who killed Tom?',\n",
              " \"You're soaking wet.\",\n",
              " 'You may park here.',\n",
              " 'The children amused themselves by playing games.',\n",
              " 'What are you smirking at?',\n",
              " 'They know what happened.',\n",
              " 'Where can I buy a map?',\n",
              " 'We go to church together.',\n",
              " 'I knew Tom would be there.',\n",
              " 'Tom and Mary know each other.',\n",
              " 'Will you pick out a tie for me?',\n",
              " \"I knew I shouldn't have put off doing my homework until the last minute.\",\n",
              " 'You are prohibited from smoking here.',\n",
              " 'What are your intentions?',\n",
              " 'I cannot excuse her.',\n",
              " 'Tom came back home after dark.',\n",
              " 'Tom is improving.',\n",
              " 'Life is like riding a bicycle. To keep your balance you must keep moving.',\n",
              " 'When the phone rang, he sprang out of bed.',\n",
              " 'Can you recommend a good game to me?',\n",
              " 'Tom has wavy brown hair and blue eyes.',\n",
              " 'Tom is useless.',\n",
              " 'When I met her the other day she asked of my parents.',\n",
              " \"Tom loved the color of Mary's new dress.\",\n",
              " 'You are responsible for the death of the child.',\n",
              " 'Where is your cap?',\n",
              " \"I'm severely allergic to peanuts.\",\n",
              " 'How many galaxies are there in the universe?',\n",
              " 'There was no choice but to sit and wait.',\n",
              " 'Tom asked Mary which way to turn.',\n",
              " 'Her composition was free from mistakes.',\n",
              " 'The store is closed until further notice.',\n",
              " \"I think I've broken my arm.\",\n",
              " 'He has a mild nature.',\n",
              " 'Go first to those who you are sure will help you.',\n",
              " \"Now what's wrong?\",\n",
              " 'The village is connected with our town by a bridge.',\n",
              " 'The milk tasted sour.',\n",
              " 'I confessed to stealing the money.',\n",
              " \"We're an hour behind.\",\n",
              " 'This CD belongs to her.',\n",
              " 'He was scared you would shoot him.',\n",
              " 'He has a dog.',\n",
              " 'She kept on talking while eating.',\n",
              " 'I came to talk to you.',\n",
              " 'It took less than five minutes.',\n",
              " 'Everybody needs to know this.',\n",
              " 'I agree with him on that point.',\n",
              " 'We got in after a long wait.',\n",
              " \"You've put on weight, haven't you?\",\n",
              " 'Could I park my car here?',\n",
              " 'How long is your Christmas vacation?',\n",
              " 'Tom had trouble resolving the situation.',\n",
              " 'The author of this book is still young.',\n",
              " 'I have the ace of clubs.',\n",
              " \"He doesn't want to go to school today.\",\n",
              " \"If you make new friends, don't forget the old ones.\",\n",
              " 'Try harder tomorrow.',\n",
              " 'Are you the owner of this house?',\n",
              " 'Help us.',\n",
              " 'I stopped smoking.',\n",
              " 'This song is known to everyone.',\n",
              " 'You look hot.',\n",
              " 'Tom put himself and his children at risk.',\n",
              " 'I wish I were clever.',\n",
              " 'I was in São Paulo in February.',\n",
              " \"I don't blame you for putting off our trip.\",\n",
              " 'Where do you think all the money goes?',\n",
              " \"I hope you're not mad at me.\",\n",
              " \"I haven't eaten there in a long time.\",\n",
              " 'Please take off your hat.',\n",
              " 'Tom twisted his ankle.',\n",
              " 'My uncle is very fond of fishing.',\n",
              " 'Who is the tallest of the five?',\n",
              " \"Tom and Mary didn't get along very well.\",\n",
              " 'I can resist everything but temptation.',\n",
              " 'Sanitary conditions in the refugee camps were terrible.',\n",
              " 'He was brave.',\n",
              " 'Tom is deceitful.',\n",
              " \"He's already left.\",\n",
              " \"Here's the key to your room.\",\n",
              " 'I need a miracle.',\n",
              " 'My glass is empty.',\n",
              " \"Tom and Mary don't have much time to talk together. Their children are always demanding their attention.\",\n",
              " 'It takes more time to prepare the car for getting painted than it takes for the actual paint job itself.',\n",
              " 'Do you need to leave today?',\n",
              " \"He's not home.\",\n",
              " \"You shouldn't always follow the crowd.\",\n",
              " 'Nobody lives here.',\n",
              " 'Be creative.',\n",
              " 'The boy tried to be a man and not cry.',\n",
              " 'Who does she think that she is?',\n",
              " \"Let's pool all our money.\",\n",
              " \"I'm not sure there's a problem.\",\n",
              " 'Tom already ate.',\n",
              " 'What an idiot!',\n",
              " 'Are you embarrassed?',\n",
              " 'I only have a few books.',\n",
              " 'Where do they do that?',\n",
              " 'It makes no difference to me whether he likes baseball or football.',\n",
              " \"Mom, where's the cat?\",\n",
              " 'When did you start studying Latin?',\n",
              " 'Tom has to look after Mary.',\n",
              " 'Tom stayed up all night studying.',\n",
              " 'Show me another watch.',\n",
              " 'Of course, many senior citizens are happy with retirement.',\n",
              " 'This dictionary, of which the third volume is missing, cost me a hundred dollars.',\n",
              " 'We estimated the damage at 1000 dollars.',\n",
              " 'Some did not know how to fight.',\n",
              " 'Health is essential to happiness.',\n",
              " 'I could not get out of the stadium because of the crowd.',\n",
              " \"Do you really think it's bad?\",\n",
              " 'How about going for a drive?',\n",
              " \"I didn't speak with Tom.\",\n",
              " 'He arrived in time.',\n",
              " 'Our sales are decreasing.',\n",
              " 'No way!',\n",
              " 'She came to see us yesterday.',\n",
              " 'Tom must be angry with Mary.',\n",
              " 'Tom is a good athlete.',\n",
              " 'The old house was demolished.',\n",
              " 'How big you are!',\n",
              " 'We have yellow apples.',\n",
              " 'The only time you talk to me is when you need some money.',\n",
              " 'We slept under the stars.',\n",
              " 'He said that that girl had kissed him.',\n",
              " 'There was a bus in the way.',\n",
              " 'Coming back was a bad choice.',\n",
              " \"How's everyone at the Hong Kong office?\",\n",
              " 'Tom sings quite well.',\n",
              " 'Absence makes the heart grow fonder.',\n",
              " \"Your soup's getting cold.\",\n",
              " \"You're driving me nuts.\",\n",
              " \"He's stronger than you.\",\n",
              " \"I can't untie this knot.\",\n",
              " \"I should've eaten more.\",\n",
              " 'Is he a doctor?',\n",
              " 'I read a letter.',\n",
              " 'You have no right to do this.',\n",
              " \"I can't make promises.\",\n",
              " \"It's been thirty years since we got married.\",\n",
              " 'The violence lasted for two weeks.',\n",
              " 'Women generally live longer than men.',\n",
              " 'I thought Tom would want to try some Japanese food.',\n",
              " \"I'm sure there is nobody as kind as you are the whole world.\",\n",
              " \"Don't laugh at him.\",\n",
              " 'You must remove your shoes before entering a house.',\n",
              " 'Can we move on?',\n",
              " 'She was soaked from head to foot.',\n",
              " \"I didn't look under the couch.\",\n",
              " 'When I was a boy, I thought that I wanted to be a doctor.',\n",
              " \"I'll be with you in a second.\",\n",
              " 'I agree with you that we need more women in this company.',\n",
              " 'How could that happen?',\n",
              " \"What's Germany's largest lake?\",\n",
              " 'My mother has sold everything that is dear to her.',\n",
              " 'Is that it?',\n",
              " 'What are they after?',\n",
              " 'I went swimming in the sea.',\n",
              " 'Mehmed Talat was assassinated in Berlin in 1921.',\n",
              " \"I ran all the way here and I'm out of breath.\",\n",
              " 'I can often hear pigeons cooing outside my bedroom window.',\n",
              " \"It didn't work.\",\n",
              " \"If I weren't sick, I'd join you.\",\n",
              " 'The work begins to get more difficult.',\n",
              " 'What does your father do?',\n",
              " 'I caught up with the others.',\n",
              " 'I was lonely.',\n",
              " 'Tom is very nice to me.',\n",
              " 'What makes you think that Tom is planning to ask Mary to marry him?',\n",
              " 'He is always laughing.',\n",
              " 'The station is dead ahead.',\n",
              " \"Tom apologized for not doing what he had promised he'd do.\",\n",
              " 'Tom arrived by car.',\n",
              " \"I'm kind of happy for you.\",\n",
              " 'How much did you pay?',\n",
              " 'The door is closing.',\n",
              " \"I know what I'm saying.\",\n",
              " 'My mother makes the best cakes in the world.',\n",
              " 'There is only one thing to do.',\n",
              " \"She's alive! She was drowning, but her father saved her.\",\n",
              " 'Take over.',\n",
              " 'We agree.',\n",
              " 'What did Tom give you for Christmas?',\n",
              " 'I despise Tom.',\n",
              " \"Because some urgent business came up, he wasn't able to go to the concert.\",\n",
              " \"Who's taking responsibility for this problem?\",\n",
              " 'You shall not marry my daughter!',\n",
              " 'Honk the horn.',\n",
              " 'Your message has been received.',\n",
              " ...)"
            ]
          },
          "execution_count": 27,
          "metadata": {},
          "output_type": "execute_result"
        }
      ],
      "source": [
        "sentences_en"
      ]
    },
    {
      "cell_type": "code",
      "execution_count": null,
      "metadata": {
        "colab": {
          "base_uri": "https://localhost:8080/",
          "height": 621
        },
        "id": "hr6GoqdzuVq9",
        "outputId": "e1f7e39f-e433-47db-8efd-b6780042740b"
      },
      "outputs": [
        {
          "name": "stdout",
          "output_type": "stream",
          "text": [
            "Tenemos 118964 sentencias para entrenar\n",
            "Distribuciones del corpus en inglés\n",
            "count    118964.000000\n",
            "mean          6.310363\n",
            "std           2.611586\n",
            "min           1.000000\n",
            "25%           4.000000\n",
            "50%           6.000000\n",
            "75%           8.000000\n",
            "max          47.000000\n",
            "dtype: float64\n"
          ]
        },
        {
          "data": {
            "image/png": "[encoded data removed]",
            "text/plain": [
              "<Figure size 640x480 with 1 Axes>"
            ]
          },
          "metadata": {},
          "output_type": "display_data"
        }
      ],
      "source": [
        "print(f\"Tenemos {len(sentences_en)} sentencias para entrenar\")\n",
        "print(\"Distribuciones del corpus en inglés\")\n",
        "series_en = pd.Series([len(sentencia.split()) for sentencia in sentences_en])\n",
        "series_en.hist();\n",
        "print(series_en.describe())"
      ]
    },
    {
      "cell_type": "code",
      "execution_count": null,
      "metadata": {
        "colab": {
          "base_uri": "https://localhost:8080/",
          "height": 604
        },
        "id": "pPbLpRYru4F3",
        "outputId": "bf0e9471-ac8d-4668-ca28-21f00424b04e"
      },
      "outputs": [
        {
          "name": "stdout",
          "output_type": "stream",
          "text": [
            "Distribuciones del corpus en español\n",
            "count    118964.000000\n",
            "mean          6.083866\n",
            "std           2.764452\n",
            "min           1.000000\n",
            "25%           4.000000\n",
            "50%           6.000000\n",
            "75%           7.000000\n",
            "max          49.000000\n",
            "dtype: float64\n"
          ]
        },
        {
          "data": {
            "image/png": "[encoded data removed]",
            "text/plain": [
              "<Figure size 640x480 with 1 Axes>"
            ]
          },
          "metadata": {},
          "output_type": "display_data"
        }
      ],
      "source": [
        "print(\"Distribuciones del corpus en español\")\n",
        "series_es = pd.Series([len(sentencia.split()) for sentencia in sentences_es])\n",
        "series_es.hist();\n",
        "print(series_es.describe())"
      ]
    },
    {
      "cell_type": "code",
      "execution_count": null,
      "metadata": {
        "colab": {
          "base_uri": "https://localhost:8080/"
        },
        "id": "Wiqv5UaVrtMR",
        "outputId": "0fdbb3e4-bf71-4182-e31b-fe1d261bb30a"
      },
      "outputs": [
        {
          "name": "stdout",
          "output_type": "stream",
          "text": [
            "No one believed me.(4), '=>', Nadie me creía.(3)\n",
            "I wonder what happened to her.(6), '=>', Me pregunto qué le pasó a ella.(7)\n",
            "At last, we arrived at the village.(7), '=>', Al fin llegamos a la villa.(6)\n"
          ]
        }
      ],
      "source": [
        "origen = randint(0,len(sentences_es)-3)\n",
        "for i in range(origen, origen+3):\n",
        "    print(f\"{sentences_en[i]}({len(sentences_en[i].split())}), '=>', {sentences_es[i]}({len(sentences_es[i].split())})\")"
      ]
    },
    {
      "cell_type": "markdown",
      "metadata": {
        "id": "INrVVj9_rtMR"
      },
      "source": [
        "### ENCODER-DECODER"
      ]
    },
    {
      "cell_type": "markdown",
      "metadata": {
        "id": "J_pkKlb_rtMR"
      },
      "source": [
        "En la sesión de redes recurrentes ya vimos la estructura básica y citamos algún uso de la misma  \n",
        "\n",
        "<img src=\"https://github.com/Jaimegrp/Practicando/blob/main/Texto/img/encoder_decoder.jpg?raw=1\" alt=\"Diagram of encoder_decoder\" width=\"400\" />"
      ]
    },
    {
      "cell_type": "markdown",
      "metadata": {
        "id": "8K6q_NP-rtMR"
      },
      "source": [
        "Y, ¿por qué esta arquitectura? Porque antes de que se propusiese no había forma de entrenar modelos que admitiesen secuencias de longitud variable recibiendo como target otra secuencia de longitud variable (y por tanto pudiendo ser esa longitud diferente a la primera)"
      ]
    },
    {
      "cell_type": "markdown",
      "metadata": {
        "id": "CGjjpK26rtMR"
      },
      "source": [
        "El encoder ahora se encarga de convertir cualquier secuencia que haya a la entrada en un vector de longitud fija y el decoder convertira este vector en una secuencia de salida de longitud variable.  \n",
        "\n",
        "De hecho al encoder le vamos a dar de comer secuencias de longitud fija pero lo suficientemente larga como para que entren todas, y aplicaremos el truco del padding para completar y el de la máscara para que no le afecte a las secuencias cortas."
      ]
    },
    {
      "cell_type": "markdown",
      "metadata": {
        "id": "__amabJsrtMS"
      },
      "source": [
        "Este es el modelo que vamos a construir (sin \"desenrrollar\")"
      ]
    },
    {
      "cell_type": "markdown",
      "metadata": {
        "id": "eLiJdIRZrtMS"
      },
      "source": [
        "<img src=\"https://github.com/Jaimegrp/Practicando/blob/main/Texto/img/encoder_decoder_to_train.jpg?raw=1\" alt=\"Diagram of encoder_decoder\" width=\"600\" />"
      ]
    },
    {
      "cell_type": "markdown",
      "metadata": {
        "id": "tYk-xYBOrtMS"
      },
      "source": [
        "Mejor si lo desenrrollamos:\n",
        "\n",
        "<img src=\"https://github.com/rodolso/DS_Online_Octubre24/blob/main/05_Deep_Learning/Sprint_19/Unidad_02_IA_Generativa_NLP_y_Texto/img/encoder_decoder_unrolled.jpg?raw=1\" alt=\"Diagram of encoder_decoder\" width=\"600\" />"
      ]
    },
    {
      "cell_type": "markdown",
      "metadata": {
        "id": "XpCMaENGrtMS"
      },
      "source": [
        "Veamos como funcionaría (en entrenamiento) [*nota: h y c son los hidden_state de la recurrente del encoder, $h_d$ y $c_d$ son los hidden_state de la recurrente del decoder*]:\n",
        "1. Al enconder le damos la secuencia [I, like, soccer], y no le va a pasar nada todavía al encoder...\n",
        "2. Hace el embedding, supongamos que de 2 dimensiones, [ (0.212,-3.32), (1.34, 0.344), (6.665,-4.443)]\n",
        "3. Procesa la secuencia uno a uno y va transmitiéndose el hidden_state (y la cell_state, es una LSTM) en cada elemento de la secuencia:  \n",
        "    > Procesa e0: [(0.212,-3.32),(0,0,...0),(0,0.....)]  \n",
        "    > Procesa e1: [(1.34,0.344), h([(0.212,-3.32),(0,0,...0),(0,0.....)]),c((0.212,-3.32),(0,0,...0),(0,0.....))] (recordad que las LSTM tienen dos estados ocultos h y c el primero en teoría para la memoria a corto y el segundo para la memoria a largo)  \n",
        "    > Procesa e2 [(6.665, -4.443), h(e1), c(1)]  \n",
        "4. Ahora sí devuelve [salida(e2),h(e2),c(2)] y esto es parte de lo que entra en el Decoder\n",
        "5. El decoder a la vez ha hecho el embedding de su entrada [emb(\"\\<sos\\>\"),emb(\"Me\"),emb(\"gusta\"),emb(\"el\"),emb(\"fútbol\")]\n",
        "5. Lo primero que procesa el decoder es d1: [h(e2),c(e2),emb(\"\\<sos\\>\")] y la capa de salida predice (en el caso de la figura) \"me\"  \n",
        "6. Luego procesa d2: [emb(\"Me\"),$h_d$(d1),$c_d$(d1)] y la capa de salida predice (en este caso): \"encanta\"\n",
        "7. procesa d3: [emb(\"gusta\"),$h_d$(d2),$c_d$(d2)] y la capa de salida predice: \"el\" (Importante, le entra el embedding de la palabra que tendría que haber predicho antes (\"gusta\") no la que realmente predijo \"encanta\", esto es *Teaching Forcing*)\n",
        "8. procesa d4: [emb(\"el\"),$h_d$(d3),$c_d$(d3)] y la capa de salida predice: \"fútbol\"\n",
        "9. procesa d5: [emb(\"fútbol\"),$h_d$(d4),$c_d$(4)] y la capa de salida predice: \"\\<eos\\>\" (end of sequence) (podría haber hecho la predicción de otra palabra y hubiera acabado igual pero se contabilizaría como un error para el optimizador, etc, etc)\n",
        "10. Se acaba la secuencia de entrada para el decoder\n",
        "\n",
        "A destacar:\n",
        "- El encoder sólo le pasara los hidden_state (h y c) del final de la secuencia de entrada al decoder\n",
        "- El decoder trabaja sobre el target completo desplazado una vez (esto nos sirve para construir el vec2seq)\n",
        "\n"
      ]
    },
    {
      "cell_type": "markdown",
      "metadata": {
        "id": "g8ADOrEjrtMS"
      },
      "source": [
        "### Construcción del modelo"
      ]
    },
    {
      "cell_type": "markdown",
      "metadata": {
        "id": "i-mpvJODrtMS"
      },
      "source": [
        "Ok, ahora que todo ha quedado clarito como la teoría de la relatividad, vamos a construir el modelo.  \n",
        "\n",
        "Primero las capas de embeddings: como ya hemos visto primero nuestros vectorizadores para convertir cada sentencia en secuencia de índices y después la capa de embedding para que aprenda cuál es la mejor reprensentación de cada índice/palabra en el contexto del problema que estamos resolviendo. (De hecho, ***inciso: ¿qué es lo que realmente está haciendo el encoder...***, *se te ocurre qué podríamos hacer con el encoder una vez entrenado todo el modelo...*)"
      ]
    },
    {
      "cell_type": "code",
      "execution_count": 10,
      "metadata": {
        "id": "luUMMVZ0rtMS"
      },
      "outputs": [],
      "source": [
        "vocab_size = 5000 # Número de tokens de nuestro vocabulario, en este caso vamos a hacer que token = (conjunto caracteres separados por espacios)\n",
        "max_length = 50 # Las secuencias de entrada están fijadas a 50, podríamos haberlas fijado a...\n",
        "text_vec_layer_en = tf.keras.layers.TextVectorization(\n",
        "    vocab_size, output_sequence_length=max_length) # Como no decimos nada split=\"whitespace\", o sea la tokenizacion mencionada\n",
        "text_vec_layer_es = tf.keras.layers.TextVectorization(\n",
        "    vocab_size, output_sequence_length=max_length)\n",
        "\n",
        "text_vec_layer_en.adapt(sentences_en)\n",
        "text_vec_layer_es.adapt([f\"startofseq {s} endofseq\" for s in sentences_es]) # Importante le añadimos el comienzo de secuencia y el final para que sepa donde empieza y para que aprenda cuando se acaba"
      ]
    },
    {
      "cell_type": "code",
      "execution_count": 16,
      "metadata": {
        "colab": {
          "base_uri": "https://localhost:8080/"
        },
        "id": "GxiguIiTrtMT",
        "outputId": "62712792-650c-4b0e-973b-84ad8acade5b"
      },
      "outputs": [
        {
          "data": {
            "text/plain": [
              "['', '[UNK]', 'the', 'i', 'to', 'you', 'tom', 'a', 'is', 'he']"
            ]
          },
          "execution_count": 16,
          "metadata": {},
          "output_type": "execute_result"
        }
      ],
      "source": [
        "text_vec_layer_en.get_vocabulary()[:10]"
      ]
    },
    {
      "cell_type": "code",
      "execution_count": 17,
      "metadata": {
        "colab": {
          "base_uri": "https://localhost:8080/"
        },
        "id": "CRDoz0NOrtMT",
        "outputId": "f9284869-d804-4a86-85f2-24cdabdb9e43"
      },
      "outputs": [
        {
          "data": {
            "text/plain": [
              "['', '[UNK]', 'startofseq', 'endofseq', 'de', 'que', 'a', 'no', 'tom', 'la']"
            ]
          },
          "execution_count": 17,
          "metadata": {},
          "output_type": "execute_result"
        }
      ],
      "source": [
        "text_vec_layer_es.get_vocabulary()[:10]"
      ]
    },
    {
      "cell_type": "markdown",
      "metadata": {
        "id": "XKXkImlH5Sdd"
      },
      "source": [
        "Veamos cómo codifica algunas de las setencias:"
      ]
    },
    {
      "cell_type": "code",
      "execution_count": 18,
      "metadata": {
        "colab": {
          "base_uri": "https://localhost:8080/"
        },
        "id": "BH1Nz_po5iV4",
        "outputId": "e0d46ba9-485b-47f6-c0ea-43b030b4d974"
      },
      "outputs": [
        {
          "name": "stdout",
          "output_type": "stream",
          "text": [
            "Tom is brain damaged.(4), '=>', Tom sufre de daño cerebral.(5)\n",
            "Vectorizacion sin embedding de la entrada al encoder\n",
            "tf.Tensor(\n",
            "[   6    8 2897 2653    0    0    0    0    0    0    0    0    0    0\n",
            "    0    0    0    0    0    0    0    0    0    0    0    0    0    0\n",
            "    0    0    0    0    0    0    0    0    0    0    0    0    0    0\n",
            "    0    0    0    0    0    0    0    0], shape=(50,), dtype=int64)\n",
            "Vectorizacion sin embedding de la entrada al decoder\n",
            "tf.Tensor(\n",
            "[   2    8 3941    4 1030    1    0    0    0    0    0    0    0    0\n",
            "    0    0    0    0    0    0    0    0    0    0    0    0    0    0\n",
            "    0    0    0    0    0    0    0    0    0    0    0    0    0    0\n",
            "    0    0    0    0    0    0    0    0], shape=(50,), dtype=int64)\n",
            "Vectorizacion del target\n",
            "tf.Tensor(\n",
            "[   8 3941    4 1030    1    3    0    0    0    0    0    0    0    0\n",
            "    0    0    0    0    0    0    0    0    0    0    0    0    0    0\n",
            "    0    0    0    0    0    0    0    0    0    0    0    0    0    0\n",
            "    0    0    0    0    0    0    0    0], shape=(50,), dtype=int64)\n"
          ]
        }
      ],
      "source": [
        "origen = randint(0,len(sentences_es)-3)\n",
        "for i in range(origen, origen+1):\n",
        "    print(f\"{sentences_en[i]}({len(sentences_en[i].split())}), '=>', {sentences_es[i]}({len(sentences_es[i].split())})\")\n",
        "    print(\"Vectorizacion sin embedding de la entrada al encoder\", text_vec_layer_en(sentences_en[i]), sep = \"\\n\")\n",
        "    print(\"Vectorizacion sin embedding de la entrada al decoder\", text_vec_layer_es(f\"startofseq {sentences_es[i]}\"), sep = \"\\n\")\n",
        "    print(\"Vectorizacion del target\", text_vec_layer_es(f\"{sentences_es[i]} endofseq\"), sep = \"\\n\")"
      ]
    },
    {
      "cell_type": "markdown",
      "metadata": {
        "id": "AGVInDEhrtMT"
      },
      "source": [
        "Construimos los datasets de entrenamiento y validación, teniendo en cuenta que encoder y decoder reciben entradas ligeramente diferentes y que el target debe contener el __endofseq__ (que es un token que debe predecir el modelo, es decir debe predecir cuando acaba la frase)"
      ]
    },
    {
      "cell_type": "code",
      "execution_count": 9,
      "metadata": {
        "id": "6-vrcZDyrtMT"
      },
      "outputs": [
        {
          "ename": "NameError",
          "evalue": "name 'text_vec_layer_es' is not defined",
          "output_type": "error",
          "traceback": [
            "\u001b[1;31m---------------------------------------------------------------------------\u001b[0m",
            "\u001b[1;31mNameError\u001b[0m                                 Traceback (most recent call last)",
            "\u001b[1;32m~\\AppData\\Local\\Temp\\ipykernel_13600\\1328610107.py\u001b[0m in \u001b[0;36m<module>\u001b[1;34m\u001b[0m\n\u001b[0;32m      3\u001b[0m \u001b[0mX_train_dec\u001b[0m \u001b[1;33m=\u001b[0m \u001b[0mtf\u001b[0m\u001b[1;33m.\u001b[0m\u001b[0mconstant\u001b[0m\u001b[1;33m(\u001b[0m\u001b[1;33m[\u001b[0m\u001b[1;34mf\"startofseq {s}\"\u001b[0m \u001b[1;32mfor\u001b[0m \u001b[0ms\u001b[0m \u001b[1;32min\u001b[0m \u001b[0msentences_es\u001b[0m\u001b[1;33m[\u001b[0m\u001b[1;33m:\u001b[0m\u001b[1;36m100_000\u001b[0m\u001b[1;33m]\u001b[0m\u001b[1;33m]\u001b[0m\u001b[1;33m)\u001b[0m\u001b[1;33m\u001b[0m\u001b[1;33m\u001b[0m\u001b[0m\n\u001b[0;32m      4\u001b[0m \u001b[0mX_valid_dec\u001b[0m \u001b[1;33m=\u001b[0m \u001b[0mtf\u001b[0m\u001b[1;33m.\u001b[0m\u001b[0mconstant\u001b[0m\u001b[1;33m(\u001b[0m\u001b[1;33m[\u001b[0m\u001b[1;34mf\"startofseq {s}\"\u001b[0m \u001b[1;32mfor\u001b[0m \u001b[0ms\u001b[0m \u001b[1;32min\u001b[0m \u001b[0msentences_es\u001b[0m\u001b[1;33m[\u001b[0m\u001b[1;36m100_000\u001b[0m\u001b[1;33m:\u001b[0m\u001b[1;33m]\u001b[0m\u001b[1;33m]\u001b[0m\u001b[1;33m)\u001b[0m\u001b[1;33m\u001b[0m\u001b[1;33m\u001b[0m\u001b[0m\n\u001b[1;32m----> 5\u001b[1;33m \u001b[0mY_train\u001b[0m \u001b[1;33m=\u001b[0m \u001b[0mtext_vec_layer_es\u001b[0m\u001b[1;33m(\u001b[0m\u001b[1;33m[\u001b[0m\u001b[1;34mf\"{s} endofseq\"\u001b[0m \u001b[1;32mfor\u001b[0m \u001b[0ms\u001b[0m \u001b[1;32min\u001b[0m \u001b[0msentences_es\u001b[0m\u001b[1;33m[\u001b[0m\u001b[1;33m:\u001b[0m\u001b[1;36m100_000\u001b[0m\u001b[1;33m]\u001b[0m\u001b[1;33m]\u001b[0m\u001b[1;33m)\u001b[0m\u001b[1;33m\u001b[0m\u001b[1;33m\u001b[0m\u001b[0m\n\u001b[0m\u001b[0;32m      6\u001b[0m \u001b[0mY_valid\u001b[0m \u001b[1;33m=\u001b[0m \u001b[0mtext_vec_layer_es\u001b[0m\u001b[1;33m(\u001b[0m\u001b[1;33m[\u001b[0m\u001b[1;34mf\"{s} endofseq\"\u001b[0m \u001b[1;32mfor\u001b[0m \u001b[0ms\u001b[0m \u001b[1;32min\u001b[0m \u001b[0msentences_es\u001b[0m\u001b[1;33m[\u001b[0m\u001b[1;36m100_000\u001b[0m\u001b[1;33m:\u001b[0m\u001b[1;33m]\u001b[0m\u001b[1;33m]\u001b[0m\u001b[1;33m)\u001b[0m\u001b[1;33m\u001b[0m\u001b[1;33m\u001b[0m\u001b[0m\n",
            "\u001b[1;31mNameError\u001b[0m: name 'text_vec_layer_es' is not defined"
          ]
        }
      ],
      "source": [
        "X_train = tf.constant(sentences_en[:100_000])\n",
        "X_valid = tf.constant(sentences_en[100_000:])\n",
        "X_train_dec = tf.constant([f\"startofseq {s}\" for s in sentences_es[:100_000]])\n",
        "X_valid_dec = tf.constant([f\"startofseq {s}\" for s in sentences_es[100_000:]])\n",
        "Y_train = text_vec_layer_es([f\"{s} endofseq\" for s in sentences_es[:100_000]])\n",
        "Y_valid = text_vec_layer_es([f\"{s} endofseq\" for s in sentences_es[100_000:]])"
      ]
    },
    {
      "cell_type": "code",
      "execution_count": 39,
      "metadata": {},
      "outputs": [
        {
          "data": {
            "text/plain": [
              "<tf.Tensor: shape=(100000,), dtype=string, numpy=\n",
              "array([b'startofseq Qu\\xc3\\xa9 aburrimiento!',\n",
              "       b'startofseq Adoro el deporte.',\n",
              "       b'startofseq Te gustar\\xc3\\xada que intercambiemos los trabajos?',\n",
              "       ..., b'startofseq Tom est\\xc3\\xa1 en el tel\\xc3\\xa9fono.',\n",
              "       b'startofseq Traemos estupendas noticias!',\n",
              "       b'startofseq Este es un ejemplo de la ley del m\\xc3\\xa1s fuerte, como se le suele llamar.'],\n",
              "      dtype=object)>"
            ]
          },
          "execution_count": 39,
          "metadata": {},
          "output_type": "execute_result"
        }
      ],
      "source": [
        "X_train_dec"
      ]
    },
    {
      "cell_type": "markdown",
      "metadata": {
        "id": "I6XplSzgrtMT"
      },
      "source": [
        "Y ahora sí, comenzamos con la definición (funcional del modelo)"
      ]
    },
    {
      "cell_type": "code",
      "execution_count": 20,
      "metadata": {
        "id": "tB_pShS-rtMT"
      },
      "outputs": [],
      "source": [
        "tf.random.set_seed(42)  # extra code – ensures reproducibility on CPU\n",
        "encoder_inputs = tf.keras.layers.Input(shape=[], dtype=tf.string)\n",
        "decoder_inputs = tf.keras.layers.Input(shape=[], dtype=tf.string)"
      ]
    },
    {
      "cell_type": "code",
      "execution_count": null,
      "metadata": {
        "id": "KdCZZOiSrtMU"
      },
      "outputs": [],
      "source": [
        "embed_size = 128\n",
        "encoder_input_ids = text_vec_layer_en(encoder_inputs)\n",
        "decoder_input_ids = text_vec_layer_es(decoder_inputs)\n",
        "\n",
        "encoder_embedding_layer = tf.keras.layers.Embedding(vocab_size, embed_size,\n",
        "                                                    mask_zero=True)\n",
        "decoder_embedding_layer = tf.keras.layers.Embedding(vocab_size, embed_size,\n",
        "                                                    mask_zero=True)\n",
        " \n",
        "encoder_embeddings = encoder_embedding_layer(encoder_input_ids)\n",
        "decoder_embeddings = decoder_embedding_layer(decoder_input_ids)"
      ]
    },
    {
      "cell_type": "code",
      "execution_count": 22,
      "metadata": {
        "id": "O6GgJ1xrrtMU"
      },
      "outputs": [],
      "source": [
        "encoder = tf.keras.layers.LSTM(512, return_state=True)\n",
        "encoder_outputs, *encoder_state = encoder(encoder_embeddings) # IMPORTANTE obtenemos los estados de salida del encoder que es lo que...."
      ]
    },
    {
      "cell_type": "code",
      "execution_count": 23,
      "metadata": {
        "id": "BIHHLh7prtMU"
      },
      "outputs": [],
      "source": [
        "decoder = tf.keras.layers.LSTM(512, return_sequences=True)\n",
        "decoder_outputs = decoder(decoder_embeddings, initial_state=encoder_state) # ... realmente vamos a pasar al decoder para el primer token (<sos>) de la secuencia de guía (que en el entrenamiento es la de target desplazada)"
      ]
    },
    {
      "cell_type": "code",
      "execution_count": 24,
      "metadata": {
        "id": "FVaTrH1TrtMU"
      },
      "outputs": [],
      "source": [
        "output_layer = tf.keras.layers.Dense(vocab_size, activation=\"softmax\") # La salida es una softmax con tantas neuronas como términos en el vocabulario, es decir estamos prediciendo el índice de cada palabra de la respuesta. Luego tendremos que decodificarlo para obtener la palabra real\n",
        "Y_proba = output_layer(decoder_outputs)"
      ]
    },
    {
      "cell_type": "markdown",
      "metadata": {
        "id": "7-W99DourtMW"
      },
      "source": [
        "**Warning**: the following cell will take a while to run (possibly a couple hours if you are not using a GPU)."
      ]
    },
    {
      "cell_type": "code",
      "execution_count": 25,
      "metadata": {
        "colab": {
          "base_uri": "https://localhost:8080/"
        },
        "id": "pZT7TWtjrtMW",
        "outputId": "1b1cdf46-9487-4ad1-8767-0a7ece82f782"
      },
      "outputs": [
        {
          "name": "stdout",
          "output_type": "stream",
          "text": [
            "Epoch 1/10\n",
            "3125/3125 [==============================] - 146s 45ms/step - loss: 0.5719 - accuracy: 0.3169 - val_loss: 0.4419 - val_accuracy: 0.4184\n",
            "Epoch 2/10\n",
            "3125/3125 [==============================] - 142s 45ms/step - loss: 0.3769 - accuracy: 0.4756 - val_loss: 0.3393 - val_accuracy: 0.5168\n",
            "Epoch 3/10\n",
            "3125/3125 [==============================] - 142s 46ms/step - loss: 0.2852 - accuracy: 0.5648 - val_loss: 0.2887 - val_accuracy: 0.5731\n",
            "Epoch 4/10\n",
            "3125/3125 [==============================] - 142s 46ms/step - loss: 0.2274 - accuracy: 0.6306 - val_loss: 0.2633 - val_accuracy: 0.6046\n",
            "Epoch 5/10\n",
            "3125/3125 [==============================] - 146s 47ms/step - loss: 0.1871 - accuracy: 0.6811 - val_loss: 0.2508 - val_accuracy: 0.6210\n",
            "Epoch 6/10\n",
            "3125/3125 [==============================] - 147s 47ms/step - loss: 0.1567 - accuracy: 0.7233 - val_loss: 0.2452 - val_accuracy: 0.6303\n",
            "Epoch 7/10\n",
            "3125/3125 [==============================] - 147s 47ms/step - loss: 0.1325 - accuracy: 0.7587 - val_loss: 0.2449 - val_accuracy: 0.6360\n",
            "Epoch 8/10\n",
            "3125/3125 [==============================] - 146s 47ms/step - loss: 0.1128 - accuracy: 0.7902 - val_loss: 0.2490 - val_accuracy: 0.6380\n",
            "Epoch 9/10\n",
            "3125/3125 [==============================] - 146s 47ms/step - loss: 0.0962 - accuracy: 0.8181 - val_loss: 0.2553 - val_accuracy: 0.6356\n",
            "Epoch 10/10\n",
            "3125/3125 [==============================] - 145s 46ms/step - loss: 0.0827 - accuracy: 0.8415 - val_loss: 0.2628 - val_accuracy: 0.6356\n"
          ]
        },
        {
          "data": {
            "text/plain": [
              "<keras.callbacks.History at 0x262a302ff10>"
            ]
          },
          "execution_count": 25,
          "metadata": {},
          "output_type": "execute_result"
        }
      ],
      "source": [
        "model = tf.keras.Model(inputs=[encoder_inputs, decoder_inputs],\n",
        "                       outputs=[Y_proba])\n",
        "model.compile(loss=\"sparse_categorical_crossentropy\", optimizer=\"nadam\",\n",
        "              metrics=[\"accuracy\"])\n",
        "model.fit((X_train, X_train_dec), Y_train, epochs=10,\n",
        "          validation_data=((X_valid, X_valid_dec), Y_valid))"
      ]
    },
    {
      "cell_type": "markdown",
      "metadata": {
        "id": "cPtEaBMqrtMW"
      },
      "source": [
        "Una vez entrenado el modelo, la traducción tiene un poco de miga.   \n",
        "\n",
        "El decoder espera que le pasemos una secuencia guía (el teacher), que es la función que hacía la secuencia target desplazada uno en el entrenamiento.  \n",
        "\n",
        "Lo que vamos a hacer es ir prediciendo palabra a palabra introduciendo como guía la última predicción hasta llegar a que el modelo devuelva el carácter de fin de secuencia y en ese momento devolvemos la \"traducción\""
      ]
    },
    {
      "cell_type": "code",
      "execution_count": 26,
      "metadata": {
        "id": "adTniqXUrtMW"
      },
      "outputs": [],
      "source": [
        "def translate(sentence_en):\n",
        "    translation = \"\"\n",
        "    for word_idx in range(max_length):\n",
        "        X = np.array([sentence_en]).astype(object)  # encoder input\n",
        "        X_dec = np.array([\"startofseq \" + translation]).astype(object)  # decoder input\n",
        "\n",
        "        y_probs = model.predict((X, X_dec))\n",
        "        y_proba = y_probs[0, word_idx]  # last token's probas\n",
        "\n",
        "        predicted_word_id = np.argmax(y_proba)\n",
        "        predicted_proba = round(float(y_proba[predicted_word_id]),3)\n",
        "        predicted_word = text_vec_layer_es.get_vocabulary()[predicted_word_id]\n",
        "        \n",
        "        if predicted_word == \"endofseq\":\n",
        "            break\n",
        "        translation += \" \" + predicted_word\n",
        "        print(f\"{translation}({predicted_proba})\")\n",
        "    return translation.strip()"
      ]
    },
    {
      "cell_type": "markdown",
      "metadata": {
        "id": "bnh_m6khrtMW"
      },
      "source": [
        "Probemos con algo sencillo"
      ]
    },
    {
      "cell_type": "code",
      "execution_count": 29,
      "metadata": {
        "colab": {
          "base_uri": "https://localhost:8080/",
          "height": 192
        },
        "id": "CKivIVBkrtMW",
        "outputId": "4c7ef2f5-969b-4538-ec50-02fce75d8bf2"
      },
      "outputs": [
        {
          "name": "stdout",
          "output_type": "stream",
          "text": [
            "1/1 [==============================] - 1s 1s/step\n",
            " me(0.993)\n",
            "1/1 [==============================] - 0s 51ms/step\n",
            " me gusta(0.999)\n",
            "1/1 [==============================] - 0s 50ms/step\n",
            " me gusta el(0.975)\n",
            "1/1 [==============================] - 0s 51ms/step\n",
            " me gusta el fútbol(0.978)\n",
            "1/1 [==============================] - 0s 51ms/step\n"
          ]
        },
        {
          "data": {
            "text/plain": [
              "'me gusta el fútbol'"
            ]
          },
          "execution_count": 29,
          "metadata": {},
          "output_type": "execute_result"
        }
      ],
      "source": [
        "translate(\"I like soccer\")"
      ]
    },
    {
      "cell_type": "markdown",
      "metadata": {
        "id": "yDJfrl0mNeaS"
      },
      "source": [
        "Y si cambiamos un poco las palabras...:"
      ]
    },
    {
      "cell_type": "code",
      "execution_count": 30,
      "metadata": {
        "colab": {
          "base_uri": "https://localhost:8080/",
          "height": 226
        },
        "id": "G27He7G0NdPh",
        "outputId": "4c6c5a20-f48d-4617-f428-d1b135109e1b"
      },
      "outputs": [
        {
          "name": "stdout",
          "output_type": "stream",
          "text": [
            "1/1 [==============================] - 0s 53ms/step\n",
            " me(0.991)\n",
            "1/1 [==============================] - 0s 53ms/step\n",
            " me encanta(0.889)\n",
            "1/1 [==============================] - 0s 50ms/step\n",
            " me encanta jugar(0.92)\n",
            "1/1 [==============================] - 0s 53ms/step\n",
            " me encanta jugar al(0.878)\n",
            "1/1 [==============================] - 0s 50ms/step\n",
            " me encanta jugar al fútbol(0.994)\n",
            "1/1 [==============================] - 0s 51ms/step\n"
          ]
        },
        {
          "data": {
            "text/plain": [
              "'me encanta jugar al fútbol'"
            ]
          },
          "execution_count": 30,
          "metadata": {},
          "output_type": "execute_result"
        }
      ],
      "source": [
        "translate(\"I love playing football\")"
      ]
    },
    {
      "cell_type": "markdown",
      "metadata": {
        "id": "4UU9czJjrtMW"
      },
      "source": [
        "Bien!!! Pero qué ocurre si le pedimos algo más largo"
      ]
    },
    {
      "cell_type": "code",
      "execution_count": 31,
      "metadata": {
        "colab": {
          "base_uri": "https://localhost:8080/",
          "height": 365
        },
        "id": "sbpR3btrrtMX",
        "outputId": "987611f9-be66-40e8-930e-70d40486b57c"
      },
      "outputs": [
        {
          "name": "stdout",
          "output_type": "stream",
          "text": [
            "1/1 [==============================] - 0s 57ms/step\n",
            " me(0.952)\n",
            "1/1 [==============================] - 0s 55ms/step\n",
            " me gusta(0.999)\n",
            "1/1 [==============================] - 0s 55ms/step\n",
            " me gusta la(0.796)\n",
            "1/1 [==============================] - 0s 52ms/step\n",
            " me gusta la cerveza(0.355)\n",
            "1/1 [==============================] - 0s 54ms/step\n",
            " me gusta la cerveza que(0.421)\n",
            "1/1 [==============================] - 0s 54ms/step\n",
            " me gusta la cerveza que tengo(0.343)\n",
            "1/1 [==============================] - 0s 56ms/step\n",
            " me gusta la cerveza que tengo que(0.513)\n",
            "1/1 [==============================] - 0s 57ms/step\n",
            " me gusta la cerveza que tengo que hacer(0.564)\n",
            "1/1 [==============================] - 0s 61ms/step\n",
            " me gusta la cerveza que tengo que hacer el(0.502)\n",
            "1/1 [==============================] - 0s 61ms/step\n",
            " me gusta la cerveza que tengo que hacer el metro(0.812)\n",
            "1/1 [==============================] - 0s 62ms/step\n"
          ]
        },
        {
          "data": {
            "text/plain": [
              "'me gusta la cerveza que tengo que hacer el metro'"
            ]
          },
          "execution_count": 31,
          "metadata": {},
          "output_type": "execute_result"
        }
      ],
      "source": [
        "translate(\"I like soccer and also going to the beach\")"
      ]
    },
    {
      "cell_type": "markdown",
      "metadata": {
        "id": "5ov8c7UzrtMX"
      },
      "source": [
        "Vamos a ver mejoras que además nos vayan adelantando conceptos para llegar a los LLN"
      ]
    },
    {
      "cell_type": "markdown",
      "metadata": {
        "id": "-RreDpT8rtMX"
      },
      "source": [
        "## Bidirectional RNNs"
      ]
    },
    {
      "cell_type": "markdown",
      "metadata": {
        "id": "zudtQcm1rtMX"
      },
      "source": [
        "Una red recurrente bidireccional es la que lee la secuencia tanto de izquierda a derecha como de derecha a izquierda y procesa ambas secuencias en conjunto. Ojo: la secuencia de entrada.\n",
        "\n",
        "En general es como tener una capa que mira en un sentido y otra en el otro y concatenar luego sus salidas"
      ]
    },
    {
      "cell_type": "markdown",
      "metadata": {
        "id": "kSNm3wlTrtMX"
      },
      "source": [
        "<img src=\"https://github.com/rodolso/DS_Online_Octubre24/blob/main/05_Deep_Learning/Sprint_19/Unidad_02_IA_Generativa_NLP_y_Texto/img/bidirectionalrnn.jpg?raw=1\" alt=\"Bidirectional RNN\" width=\"700\" />"
      ]
    },
    {
      "cell_type": "markdown",
      "metadata": {
        "id": "xzxTTMFzrtMX"
      },
      "source": [
        "¿Por qué y para qué? Porque, por ejemplo, hay frases que para traducirlas necesitas ver que viene después, como en el caso de los adjetivos en inglés que anteceden al nombre y de los sinónimos en un idioma que no coinciden necesariamente con los sinónimos en otro: the left arm, they left party, they left the restaurant...\n"
      ]
    },
    {
      "cell_type": "markdown",
      "metadata": {
        "id": "8kdGZV5FrtMX"
      },
      "source": [
        "Para crear un capa recurrente bidireccional, se hace lo siguiente (encapsular una recurrente en una más genérica denominada Bidirectional)"
      ]
    },
    {
      "cell_type": "code",
      "execution_count": 40,
      "metadata": {
        "id": "a4fFw2scrtMY"
      },
      "outputs": [],
      "source": [
        "tf.random.set_seed(42)  # extra code – ensures reproducibility on CPU\n",
        "encoder = tf.keras.layers.Bidirectional(\n",
        "    tf.keras.layers.LSTM(256, return_state=True))"
      ]
    },
    {
      "cell_type": "markdown",
      "metadata": {
        "id": "JrN_tlVyrtMY"
      },
      "source": [
        "En el caso del decoder no podemos hacer lo mismo porque en el target mirar al futuro sí es hacer trampa (recordemos que hasta ahora le pasamos la palabra que correspondería a la palabra esperada anterior, o sea no hacemos trampa), y por tanto no serviría para predecir algo que no hubiera visto (de hecho no podríamos construir una entrada para predecir de forma correcta)"
      ]
    },
    {
      "cell_type": "markdown",
      "metadata": {
        "id": "Jle372OvrtMY"
      },
      "source": [
        "Pero, la recurrente bidireccional produce el doble de estados ocultos. Como se trata de una LSTM tendremos dos hidden_state y dos cell_state, aunque el decoder sólo espera dos (porque es otra LSTM)"
      ]
    },
    {
      "cell_type": "markdown",
      "metadata": {
        "id": "p6UyFduHrtMY"
      },
      "source": [
        "Lo que hacemos es concatenarlos."
      ]
    },
    {
      "cell_type": "code",
      "execution_count": 41,
      "metadata": {
        "id": "5dIrmT73V-BU"
      },
      "outputs": [],
      "source": [
        "encoder_outputs, *encoder_state = encoder(encoder_embeddings)\n",
        "# Wrap tf.concat within a Lambda layer to make it compatible with KerasTensors\n",
        "encoder_state = [tf.keras.layers.Lambda(lambda x: tf.concat(x[::2], axis=-1))(encoder_state),  # short-term (0 & 2)\n",
        "                 tf.keras.layers.Lambda(lambda x: tf.concat(x[1::2], axis=-1))(encoder_state)]  # long-term (1 & 3)"
      ]
    },
    {
      "cell_type": "markdown",
      "metadata": {
        "id": "532Ve8sgrtMb"
      },
      "source": [
        "**Warning**: the following cell will take a while to run (possibly a couple hours if you are not using a GPU)."
      ]
    },
    {
      "cell_type": "code",
      "execution_count": 42,
      "metadata": {
        "colab": {
          "base_uri": "https://localhost:8080/"
        },
        "id": "BZadV-ZArtMc",
        "outputId": "c1c4d625-1767-4ccf-b43c-e88b9c9724af"
      },
      "outputs": [
        {
          "name": "stdout",
          "output_type": "stream",
          "text": [
            "Epoch 1/10\n",
            "3125/3125 [==============================] - 163s 50ms/step - loss: 0.4434 - accuracy: 0.4446 - val_loss: 0.3086 - val_accuracy: 0.5589\n",
            "Epoch 2/10\n",
            "3125/3125 [==============================] - 174s 56ms/step - loss: 0.2484 - accuracy: 0.6197 - val_loss: 0.2434 - val_accuracy: 0.6278\n",
            "Epoch 3/10\n",
            "3125/3125 [==============================] - 178s 57ms/step - loss: 0.1862 - accuracy: 0.6905 - val_loss: 0.2212 - val_accuracy: 0.6559\n",
            "Epoch 4/10\n",
            "3125/3125 [==============================] - 184s 59ms/step - loss: 0.1509 - accuracy: 0.7360 - val_loss: 0.2152 - val_accuracy: 0.6644\n",
            "Epoch 5/10\n",
            "3125/3125 [==============================] - 172s 55ms/step - loss: 0.1258 - accuracy: 0.7718 - val_loss: 0.2152 - val_accuracy: 0.6686\n",
            "Epoch 6/10\n",
            "3125/3125 [==============================] - 185s 59ms/step - loss: 0.1064 - accuracy: 0.8017 - val_loss: 0.2182 - val_accuracy: 0.6673\n",
            "Epoch 7/10\n",
            "3125/3125 [==============================] - 183s 59ms/step - loss: 0.0908 - accuracy: 0.8264 - val_loss: 0.2245 - val_accuracy: 0.6666\n",
            "Epoch 8/10\n",
            "3125/3125 [==============================] - 174s 56ms/step - loss: 0.0780 - accuracy: 0.8493 - val_loss: 0.2309 - val_accuracy: 0.6663\n",
            "Epoch 9/10\n",
            "3125/3125 [==============================] - 167s 53ms/step - loss: 0.0677 - accuracy: 0.8674 - val_loss: 0.2397 - val_accuracy: 0.6623\n",
            "Epoch 10/10\n",
            "3125/3125 [==============================] - 162s 52ms/step - loss: 0.0594 - accuracy: 0.8823 - val_loss: 0.2471 - val_accuracy: 0.6621\n"
          ]
        },
        {
          "data": {
            "text/plain": [
              "<keras.callbacks.History at 0x262a19ae640>"
            ]
          },
          "execution_count": 42,
          "metadata": {},
          "output_type": "execute_result"
        }
      ],
      "source": [
        "# extra code — completes the model and trains it\n",
        "decoder = tf.keras.layers.LSTM(512, return_sequences=True)\n",
        "decoder_outputs = decoder(decoder_embeddings, initial_state=encoder_state)\n",
        "\n",
        "output_layer = tf.keras.layers.Dense(vocab_size, activation=\"softmax\")\n",
        "Y_proba = output_layer(decoder_outputs)\n",
        "\n",
        "model = tf.keras.Model(inputs=[encoder_inputs, decoder_inputs],\n",
        "                       outputs=[Y_proba])\n",
        "\n",
        "model.compile(loss=\"sparse_categorical_crossentropy\", optimizer=\"nadam\",\n",
        "              metrics=[\"accuracy\"])\n",
        "\n",
        "model.fit((X_train, X_train_dec), Y_train, epochs=10,\n",
        "          validation_data=((X_valid, X_valid_dec), Y_valid))"
      ]
    },
    {
      "cell_type": "code",
      "execution_count": 47,
      "metadata": {
        "colab": {
          "base_uri": "https://localhost:8080/",
          "height": 192
        },
        "id": "qUG81j9YrtMc",
        "outputId": "1bab5b0f-0661-49e7-e9ad-3811f903b14a"
      },
      "outputs": [
        {
          "name": "stdout",
          "output_type": "stream",
          "text": [
            "1/1 [==============================] - 4s 4s/step\n",
            " me(0.983)\n",
            "1/1 [==============================] - 0s 24ms/step\n",
            " me gusta(1.0)\n",
            "1/1 [==============================] - 0s 25ms/step\n",
            " me gusta el(0.999)\n",
            "1/1 [==============================] - 0s 24ms/step\n",
            " me gusta el [UNK](0.531)\n",
            "1/1 [==============================] - 0s 25ms/step\n"
          ]
        },
        {
          "data": {
            "application/vnd.google.colaboratory.intrinsic+json": {
              "type": "string"
            },
            "text/plain": [
              "'me gusta el [UNK]'"
            ]
          },
          "execution_count": 47,
          "metadata": {},
          "output_type": "execute_result"
        }
      ],
      "source": [
        "translate(\"I like soccer\")"
      ]
    },
    {
      "cell_type": "code",
      "execution_count": 48,
      "metadata": {
        "colab": {
          "base_uri": "https://localhost:8080/",
          "height": 400
        },
        "id": "-NF2SQovUKdb",
        "outputId": "0c032648-2331-4246-e0c6-efacc760a10e"
      },
      "outputs": [
        {
          "name": "stdout",
          "output_type": "stream",
          "text": [
            "1/1 [==============================] - 0s 26ms/step\n",
            " me(0.921)\n",
            "1/1 [==============================] - 0s 25ms/step\n",
            " me gusta(0.993)\n",
            "1/1 [==============================] - 0s 25ms/step\n",
            " me gusta el(0.606)\n",
            "1/1 [==============================] - 0s 25ms/step\n",
            " me gusta el fútbol(0.339)\n",
            "1/1 [==============================] - 0s 25ms/step\n",
            " me gusta el fútbol y(1.0)\n",
            "1/1 [==============================] - 0s 25ms/step\n",
            " me gusta el fútbol y a(0.231)\n",
            "1/1 [==============================] - 0s 26ms/step\n",
            " me gusta el fútbol y a la(0.589)\n",
            "1/1 [==============================] - 0s 25ms/step\n",
            " me gusta el fútbol y a la playa(0.982)\n",
            "1/1 [==============================] - 0s 25ms/step\n",
            " me gusta el fútbol y a la playa también(0.883)\n",
            "1/1 [==============================] - 0s 25ms/step\n",
            " me gusta el fútbol y a la playa también [UNK](0.296)\n",
            "1/1 [==============================] - 0s 25ms/step\n"
          ]
        },
        {
          "data": {
            "application/vnd.google.colaboratory.intrinsic+json": {
              "type": "string"
            },
            "text/plain": [
              "'me gusta el fútbol y a la playa también [UNK]'"
            ]
          },
          "execution_count": 48,
          "metadata": {},
          "output_type": "execute_result"
        }
      ],
      "source": [
        "translate(\"I like soccer and also going to the beach\")"
      ]
    },
    {
      "cell_type": "markdown",
      "metadata": {
        "id": "U-PZrYYArtMc"
      },
      "source": [
        "Otra posible optimización es lo que se denomina Beam Search. Se deja a modo de ejercicio para entenderlo y una referencia explicativa:\n",
        "https://towardsdatascience.com/an-intuitive-explanation-of-beam-search-9b1d744e7a0f"
      ]
    },
    {
      "cell_type": "markdown",
      "metadata": {
        "id": "CzKUaOHortMc"
      },
      "source": [
        "## Beam Search"
      ]
    },
    {
      "cell_type": "markdown",
      "metadata": {
        "id": "ZDpeeJ1ArtMc"
      },
      "source": [
        "This is a very basic implementation of beam search. I tried to make it readable and understandable, but it's definitely not optimized for speed! The function first uses the model to find the top _k_ words to start the translations (where _k_ is the beam width). For each of the top _k_ translations, it evaluates the conditional probabilities of all possible words it could add to that translation. These extended translations and their probabilities are added to the list of candidates. Once we've gone through all top _k_ translations and all words that could complete them, we keep only the top _k_ candidates with the highest probability, and we iterate over and over until they all finish with an EOS token. The top translation is then returned (after removing its EOS token).\n",
        "\n",
        "* Note: If p(S) is the probability of sentence S, and p(W|S) is the conditional probability of the word W given that the translation starts with S, then the probability of the sentence S' = concat(S, W) is p(S') = p(S) * p(W|S). As we add more words, the probability gets smaller and smaller. To avoid the risk of it getting too small, which could cause floating point precision errors, the function keeps track of log probabilities instead of probabilities: recall that log(a\\*b) = log(a) + log(b), therefore log(p(S')) = log(p(S)) + log(p(W|S))."
      ]
    },
    {
      "cell_type": "code",
      "execution_count": 49,
      "metadata": {
        "id": "mi1xCiRf_cif"
      },
      "outputs": [],
      "source": [
        "# extra code – a basic implementation of beam search\n",
        "\n",
        "def beam_search(sentence_en, beam_width, verbose=False):\n",
        "    X = np.array([sentence_en]).astype(object)  # encoder input\n",
        "    X_dec = np.array([\"startofseq\"]).astype(object)  # decoder input\n",
        "    y_proba = model.predict((X, X_dec))[0, 0]  # first token's probas\n",
        "    top_k = tf.math.top_k(y_proba, k=beam_width)\n",
        "    top_translations = [  # list of best (log_proba, translation)\n",
        "        (np.log(word_proba), text_vec_layer_es.get_vocabulary()[word_id])\n",
        "        for word_proba, word_id in zip(top_k.values, top_k.indices)\n",
        "    ]\n",
        "\n",
        "    # extra code – displays the top first words in verbose mode\n",
        "    if verbose:\n",
        "        print(\"Top first words:\", top_translations)\n",
        "\n",
        "    for idx in range(1, max_length):\n",
        "        candidates = []\n",
        "        for log_proba, translation in top_translations:\n",
        "            if translation.endswith(\"endofseq\"):\n",
        "                candidates.append((log_proba, translation))\n",
        "                continue  # translation is finished, so don't try to extend it\n",
        "            X = np.array([sentence_en]).astype(object)  # encoder input\n",
        "            X_dec = np.array([\"startofseq \" + translation]).astype(object)  # decoder input\n",
        "            y_proba = model.predict((X, X_dec))[0, idx]  # last token's proba\n",
        "            for word_id, word_proba in enumerate(y_proba):\n",
        "                word = text_vec_layer_es.get_vocabulary()[word_id]\n",
        "                candidates.append((log_proba + np.log(word_proba),\n",
        "                                   f\"{translation} {word}\"))\n",
        "        top_translations = sorted(candidates, reverse=True)[:beam_width]\n",
        "\n",
        "        # extra code – displays the top translation so far in verbose mode\n",
        "        if verbose:\n",
        "            print(\"Top translations so far:\", top_translations)\n",
        "\n",
        "        if all([tr.endswith(\"endofseq\") for _, tr in top_translations]):\n",
        "            return top_translations[0][1].replace(\"endofseq\", \"\").strip()"
      ]
    },
    {
      "cell_type": "code",
      "execution_count": 50,
      "metadata": {
        "colab": {
          "base_uri": "https://localhost:8080/",
          "height": 296
        },
        "id": "jndVFH6qrtMd",
        "outputId": "174e7e62-2c1b-4515-fcb5-d04c53101815"
      },
      "outputs": [
        {
          "name": "stdout",
          "output_type": "stream",
          "text": [
            "1/1 [==============================] - 0s 25ms/step\n",
            " me(0.99)\n",
            "1/1 [==============================] - 0s 25ms/step\n",
            " me encantan(0.958)\n",
            "1/1 [==============================] - 0s 24ms/step\n",
            " me encantan los(0.808)\n",
            "1/1 [==============================] - 0s 25ms/step\n",
            " me encantan los perros(0.92)\n",
            "1/1 [==============================] - 0s 25ms/step\n",
            " me encantan los perros y(0.914)\n",
            "1/1 [==============================] - 0s 25ms/step\n",
            " me encantan los perros y a(0.516)\n",
            "1/1 [==============================] - 0s 25ms/step\n",
            " me encantan los perros y a mí(0.468)\n",
            "1/1 [==============================] - 0s 25ms/step\n"
          ]
        },
        {
          "data": {
            "application/vnd.google.colaboratory.intrinsic+json": {
              "type": "string"
            },
            "text/plain": [
              "'me encantan los perros y a mí'"
            ]
          },
          "execution_count": 50,
          "metadata": {},
          "output_type": "execute_result"
        }
      ],
      "source": [
        "# extra code – shows how the model making an error\n",
        "sentence_en = \"I love cats and dogs\"\n",
        "translate(sentence_en)"
      ]
    },
    {
      "cell_type": "markdown",
      "metadata": {
        "id": "OgMfG50S9p9A"
      },
      "source": [
        "**Warning**: the following cell will take a while to run (possibly half an hour using a GPU)."
      ]
    },
    {
      "cell_type": "code",
      "execution_count": 51,
      "metadata": {
        "id": "7eKZpXLortMd"
      },
      "outputs": [],
      "source": [
        "# # extra code – shows how beam search can help\n",
        "# beam_search(sentence_en, beam_width=3, verbose=True)"
      ]
    },
    {
      "cell_type": "markdown",
      "metadata": {
        "id": "HHZA7cMKrtMd"
      },
      "source": [
        "The correct translation is in the top 3 sentences found by beam search, but it's not the first. Since we're using a small vocabulary, the \\[UNK] token is quite frequent, so you may want to penalize it (e.g., divide its probability by 2 in the beam search function): this will discourage beam search from using it too much."
      ]
    },
    {
      "cell_type": "markdown",
      "metadata": {
        "id": "zNF-QP37rtMd"
      },
      "source": [
        "## Mecanismos de Atencion (Attention mechanisms)"
      ]
    },
    {
      "cell_type": "markdown",
      "metadata": {
        "id": "52TxgFCRrtMd"
      },
      "source": [
        "Como mejora a este tipo de arquitecturas, en 2014 (Dzmitry Bahdanau y colegas, et al. que se dice) introdujeron una mejora sustancial a la arquitectura de Encoder-Decoders.\n",
        "\n",
        "La idea detrás del mecanismo es pasarle al decoder más información de la secuencia de entrada y no sólo los estados ocultos producidos por el último elemento (el primero y el úlitmo en el caso de bidireccionales). ¿Qué información? Pues algo así como la palabra que más le aporte en cada momento. Por ejemplo que cuando al decoder le toque producir fútbol en la traducción de I like soccer, reciba \"soccer\" (en concreto la salida del encoder a la palabra \"soccer\").  \n",
        "\n",
        "Supongamos que estamos traduciendo frases como:\n",
        "\n",
        "- I like soccer    \n",
        "- I like Rain Man  \n",
        "- you like The Bridge  \n",
        "- we like Jaime  \n",
        "  \n",
        "Para los dos primeras el decoder iría traduciendo:\n",
        "(Me) gusta ... y la idea es que las entradas \"soccer\", \"Rain\" + \"Man\", \"The\" + \"Bridge\", \"Jaime\" aporten más en ese instante...  \n",
        "\n",
        "Entonces al decoder tendré que pasarle todas las palabras de la frase (en concreto la salida de cada una de estas del encoder) y que exista un mecanismo que le diga en función de lo que lleva cuál de las entradas debe considerar más (aquí nos fijamos en la siguiente, pero para traducir \"Me\" es mejor que se fije en la primera, el pronombre, para traducir \"gusta\", igual)  \n",
        "\n",
        "Lo interesante no es considerar solo una palabra de entrada, sino una combinación pesada de estas (una combinación lineal -> \"The\" + \"Bridge\")\n",
        "\n",
        "Es decir, volviendo a nuestras entradas del decoder:\n",
        "\n",
        "* Antes d1: [h(e2),c(2),emb(\"<start_of_sequence>\")], ahora da1 (la a es de attention): [h(e2),c(e2), (coef1 * e1 + coef2 * e2 + coef3 * e3)] y probablemente todos los coef se aproximarían a cero\n",
        "* Antes d2: [emb(\"Me\"),$h_d$(d1),$c_d$(d1)], ahora da2: [emb(\"Me\"),$h_d$(d1),$c_d$(d1), (coef21 * e1 + coef22 * e2 + coef23 * e3)] y probablemente coef21 >> coef22 y coef23\n",
        "* Antes d3: [emb(\"gusta\"),$h_d$(d2),$c_d$(d2)], ahora da3: [emb(\"gusta\"),$h_d$(d1),$c_d$(d1), (coef31 * e1 + coef32 * e2 + coef33 * e3) ] y coef31 y coef32 serán altos y coef33 bajo o nulo\n",
        "\n",
        "\n",
        "__¿Y cómo le digo en cuál debe fijarse más? Pues como en los embeddings... que lo aprenda :-) (o sea tendré una Attention Layer)__\n"
      ]
    },
    {
      "cell_type": "markdown",
      "metadata": {
        "id": "TSJSezrertMd"
      },
      "source": [
        "Muy bien, y cómo se hace ese \"que lo aprenda\": Dos mecanismos de Atencion (aditiva y multiplicativa), pero el multiplicativo ha superado al aditivo y de hecho la Attention Layer de keras hace Attention multiplicativa y además al final la predicción se hace a partir de la salida de la capa de atención.\n",
        "\n",
        "Gráficamente:\n",
        "\n",
        "<img src=\"https://github.com/Jaimegrp/Practicando/blob/main/Texto/img/encoder_decoder_with_attention.jpg?raw=1\" alt=\"Encoder_Decoder with Attention\" width=\"700\" />\n",
        "\n",
        "\n",
        "Intuitivamente al poner la capa de atención al final está configurando toda la red (toda incluidos los embeddings) para que \"memorice\" la relación estadística entre las posiciones de salida y las de entrada en diferentes situaciones. Y luego ya nosotros a eso le llamamos atención, porque es verdad que cuando llega el momento de \"Me gusta el...\", ha memorizado que las posiciones que deben aportar más es donde haya salidas que generalmente pertenecen a nombres. (pero él ni sabe que son nombres, ni que está traduciendo ni nada,...)  \n",
        "\n",
        "\n",
        "El siguiente paso sería aumentar la memoria y olvidarse de las recurrencias (y del problema de traducir) :-)... los Transformers, pero antes... prestémosle Atención al traductor con atención"
      ]
    },
    {
      "cell_type": "code",
      "execution_count": 16,
      "metadata": {},
      "outputs": [],
      "source": [
        "url = \"https://storage.googleapis.com/download.tensorflow.org/data/spa-eng.zip\"\n",
        "path = tf.keras.utils.get_file(\"spa-eng.zip\",\n",
        "                               origin=url,\n",
        "                               cache_dir=\"datasets\",\n",
        "                               extract=True)\n",
        "text = (Path(path).with_name(\"spa-eng\") / \"spa.txt\").read_text(encoding = \"utf-8\")\n",
        "\n",
        "text = text.replace(\"¡\", \"\").replace(\"¿\", \"\")\n",
        "pairs = [line.split(\"\\t\") for line in text.splitlines()]\n",
        "np.random.seed(42)  # extra code – ensures reproducibility on CPU\n",
        "np.random.shuffle(pairs)\n",
        "sentences_en, sentences_es = zip(*pairs)  # separa las parejas en dos listas"
      ]
    },
    {
      "cell_type": "code",
      "execution_count": 17,
      "metadata": {},
      "outputs": [],
      "source": [
        "vocab_size = 5000 # Número de tokens de nuestro vocabulario, en este caso vamos a hacer que token = (conjunto caracteres separados por espacios)\n",
        "max_length = 50 # Las secuencias de entrada están fijadas a 50, podríamos haberlas fijado a...\n",
        "\n",
        "text_vec_layer_en = tf.keras.layers.TextVectorization(\n",
        "    vocab_size, output_sequence_length=max_length) # Como no decimos nada split=\"whitespace\", o sea la tokenizacion mencionada\n",
        "text_vec_layer_es = tf.keras.layers.TextVectorization(\n",
        "    vocab_size, output_sequence_length=max_length)\n",
        "\n",
        "text_vec_layer_en.adapt(sentences_en)\n",
        "text_vec_layer_es.adapt([f\"startofseq {s} endofseq\" for s in sentences_es]) # Importante le añadimos el comienzo de secuencia y el final para que sepa donde empieza y para que aprenda cuando se acaba"
      ]
    },
    {
      "cell_type": "code",
      "execution_count": 18,
      "metadata": {},
      "outputs": [],
      "source": [
        "X_train = tf.constant(sentences_en[:100_000])\n",
        "X_valid = tf.constant(sentences_en[100_000:])\n",
        "X_train_dec = tf.constant([f\"startofseq {s}\" for s in sentences_es[:100_000]])\n",
        "X_valid_dec = tf.constant([f\"startofseq {s}\" for s in sentences_es[100_000:]])\n",
        "Y_train = text_vec_layer_es([f\"{s} endofseq\" for s in sentences_es[:100_000]])\n",
        "Y_valid = text_vec_layer_es([f\"{s} endofseq\" for s in sentences_es[100_000:]])"
      ]
    },
    {
      "cell_type": "code",
      "execution_count": 19,
      "metadata": {},
      "outputs": [],
      "source": [
        "encoder_inputs = tf.keras.layers.Input(shape=[], dtype=tf.string)\n",
        "decoder_inputs = tf.keras.layers.Input(shape=[], dtype=tf.string)"
      ]
    },
    {
      "cell_type": "code",
      "execution_count": 20,
      "metadata": {},
      "outputs": [],
      "source": [
        "embed_size = 128\n",
        "encoder_input_ids = text_vec_layer_en(encoder_inputs)\n",
        "decoder_input_ids = text_vec_layer_es(decoder_inputs)\n",
        "\n",
        "encoder_embedding_layer = tf.keras.layers.Embedding(vocab_size, embed_size,\n",
        "                                                    mask_zero=True)\n",
        "decoder_embedding_layer = tf.keras.layers.Embedding(vocab_size, embed_size,\n",
        "                                                    mask_zero=True)\n",
        " \n",
        "encoder_embeddings = encoder_embedding_layer(encoder_input_ids)\n",
        "decoder_embeddings = decoder_embedding_layer(decoder_input_ids)"
      ]
    },
    {
      "cell_type": "code",
      "execution_count": 21,
      "metadata": {
        "id": "6sxAEvslrtMd"
      },
      "outputs": [],
      "source": [
        "tf.random.set_seed(42)  # extra code – ensures reproducibility on CPU\n",
        "encoder = tf.keras.layers.Bidirectional(\n",
        "    tf.keras.layers.LSTM(256, return_sequences=True, return_state=True)) # Ahora necesitamos todas las salidas del Encoder por eso return_sequences = True"
      ]
    },
    {
      "cell_type": "code",
      "execution_count": null,
      "metadata": {
        "id": "SL9ZaWurrtMe"
      },
      "outputs": [],
      "source": [
        "# extra code – this part of the model is exactly the same as earlier\n",
        "encoder_outputs, *encoder_state = encoder(encoder_embeddings)\n",
        "# Wrap tf.concat within a Lambda layer to make it compatible with KerasTensors\n",
        "encoder_state = [tf.keras.layers.Lambda(lambda x: tf.concat(x[::2], axis=-1))(encoder_state),  # short-term (0 & 2)\n",
        "                 tf.keras.layers.Lambda(lambda x: tf.concat(x[1::2], axis=-1))(encoder_state)]  # long-term (1 & 3)\n",
        "\n",
        "\n",
        "decoder = tf.keras.layers.LSTM(512, return_sequences=True)\n",
        "decoder_outputs = decoder(decoder_embeddings, initial_state=encoder_state)"
      ]
    },
    {
      "cell_type": "markdown",
      "metadata": {
        "id": "L5v4cs87rtMe"
      },
      "source": [
        "And finally, let's add the `Attention` layer and the output layer:"
      ]
    },
    {
      "cell_type": "code",
      "execution_count": 23,
      "metadata": {
        "id": "6CKhAJ5wgEvW"
      },
      "outputs": [],
      "source": [
        "attention_layer = tf.keras.layers.Attention()\n",
        "attention_outputs = attention_layer([decoder_outputs, encoder_outputs])\n",
        "output_layer = tf.keras.layers.Dense(vocab_size, activation=\"softmax\")\n",
        "Y_proba = output_layer(attention_outputs)"
      ]
    },
    {
      "cell_type": "markdown",
      "metadata": {
        "id": "ncoE2lSKrtMe"
      },
      "source": [
        "**Warning**: the following cell will take a while to run (possibly a couple hours if you are not using a GPU)."
      ]
    },
    {
      "cell_type": "code",
      "execution_count": 24,
      "metadata": {
        "colab": {
          "base_uri": "https://localhost:8080/"
        },
        "id": "aICWvCoBrtMe",
        "outputId": "8c0b008e-6094-4f78-a895-da6c92cc5c4b"
      },
      "outputs": [
        {
          "name": "stdout",
          "output_type": "stream",
          "text": [
            "Epoch 1/10\n",
            "3125/3125 [==============================] - 173s 53ms/step - loss: 0.6102 - accuracy: 0.3034 - val_loss: 0.4634 - val_accuracy: 0.4206\n",
            "Epoch 2/10\n",
            "3125/3125 [==============================] - 168s 54ms/step - loss: 0.3805 - accuracy: 0.4991 - val_loss: 0.3289 - val_accuracy: 0.5493\n",
            "Epoch 3/10\n",
            "3125/3125 [==============================] - 166s 53ms/step - loss: 0.2769 - accuracy: 0.5956 - val_loss: 0.2715 - val_accuracy: 0.6069\n",
            "Epoch 4/10\n",
            "3125/3125 [==============================] - 174s 56ms/step - loss: 0.2238 - accuracy: 0.6498 - val_loss: 0.2466 - val_accuracy: 0.6328\n",
            "Epoch 5/10\n",
            "3125/3125 [==============================] - 178s 57ms/step - loss: 0.1910 - accuracy: 0.6871 - val_loss: 0.2347 - val_accuracy: 0.6469\n",
            "Epoch 6/10\n",
            "3125/3125 [==============================] - 180s 58ms/step - loss: 0.1679 - accuracy: 0.7154 - val_loss: 0.2293 - val_accuracy: 0.6529\n",
            "Epoch 7/10\n",
            "3125/3125 [==============================] - 183s 58ms/step - loss: 0.1497 - accuracy: 0.7390 - val_loss: 0.2282 - val_accuracy: 0.6589\n",
            "Epoch 8/10\n",
            "3125/3125 [==============================] - 185s 59ms/step - loss: 0.1347 - accuracy: 0.7591 - val_loss: 0.2288 - val_accuracy: 0.6626\n",
            "Epoch 9/10\n",
            "3125/3125 [==============================] - 177s 57ms/step - loss: 0.1222 - accuracy: 0.7769 - val_loss: 0.2317 - val_accuracy: 0.6620\n",
            "Epoch 10/10\n",
            "3125/3125 [==============================] - 190s 61ms/step - loss: 0.1116 - accuracy: 0.7931 - val_loss: 0.2365 - val_accuracy: 0.6591\n"
          ]
        },
        {
          "data": {
            "text/plain": [
              "<keras.callbacks.History at 0x1dfa2451c70>"
            ]
          },
          "execution_count": 24,
          "metadata": {},
          "output_type": "execute_result"
        }
      ],
      "source": [
        "model = tf.keras.Model(inputs=[encoder_inputs, decoder_inputs],\n",
        "                       outputs=[Y_proba])\n",
        "\n",
        "model.compile(loss=\"sparse_categorical_crossentropy\", optimizer=\"nadam\",\n",
        "              metrics=[\"accuracy\"])\n",
        "\n",
        "model.fit((X_train, X_train_dec), Y_train, epochs=10,\n",
        "          validation_data=((X_valid, X_valid_dec), Y_valid))"
      ]
    },
    {
      "cell_type": "code",
      "execution_count": 27,
      "metadata": {
        "colab": {
          "base_uri": "https://localhost:8080/",
          "height": 192
        },
        "id": "0gnOroYdrtMe",
        "outputId": "3af509e0-0dd8-4650-9bbb-c0975cd792e8"
      },
      "outputs": [
        {
          "name": "stdout",
          "output_type": "stream",
          "text": [
            "1/1 [==============================] - 2s 2s/step\n",
            " me(0.967)\n",
            "1/1 [==============================] - 0s 45ms/step\n",
            " me gusta(0.809)\n",
            "1/1 [==============================] - 0s 47ms/step\n",
            " me gusta tus(0.523)\n",
            "1/1 [==============================] - 0s 45ms/step\n",
            " me gusta tus zapatos(0.996)\n",
            "1/1 [==============================] - 0s 47ms/step\n"
          ]
        },
        {
          "data": {
            "text/plain": [
              "'me gusta tus zapatos'"
            ]
          },
          "execution_count": 27,
          "metadata": {},
          "output_type": "execute_result"
        }
      ],
      "source": [
        "translate(\"I like your shoes\")"
      ]
    },
    {
      "cell_type": "code",
      "execution_count": 28,
      "metadata": {
        "colab": {
          "base_uri": "https://localhost:8080/",
          "height": 122
        },
        "id": "q8upfzZJ3Bsc",
        "outputId": "e3feff4e-902a-4736-99ec-e1fdf4c42637"
      },
      "outputs": [
        {
          "name": "stdout",
          "output_type": "stream",
          "text": [
            "1/1 [==============================] - 0s 41ms/step\n",
            " te(0.811)\n",
            "1/1 [==============================] - 0s 48ms/step\n",
            " te amo(0.412)\n",
            "1/1 [==============================] - 0s 39ms/step\n"
          ]
        },
        {
          "data": {
            "text/plain": [
              "'te amo'"
            ]
          },
          "execution_count": 28,
          "metadata": {},
          "output_type": "execute_result"
        }
      ],
      "source": [
        "translate(\"I love you\")"
      ]
    },
    {
      "cell_type": "code",
      "execution_count": 29,
      "metadata": {
        "colab": {
          "base_uri": "https://localhost:8080/",
          "height": 400
        },
        "id": "ecVI36mR9zR2",
        "outputId": "2618b83b-7d94-439c-c6e1-013ea54fa998"
      },
      "outputs": [
        {
          "name": "stdout",
          "output_type": "stream",
          "text": [
            "1/1 [==============================] - 0s 51ms/step\n",
            " me(0.777)\n",
            "1/1 [==============================] - 0s 47ms/step\n",
            " me gusta(0.985)\n",
            "1/1 [==============================] - 0s 54ms/step\n",
            " me gusta el(0.579)\n",
            "1/1 [==============================] - 0s 46ms/step\n",
            " me gusta el fútbol(0.858)\n",
            "1/1 [==============================] - 0s 54ms/step\n",
            " me gusta el fútbol y(0.996)\n",
            "1/1 [==============================] - 0s 49ms/step\n",
            " me gusta el fútbol y también(0.312)\n",
            "1/1 [==============================] - 0s 58ms/step\n",
            " me gusta el fútbol y también a(0.943)\n",
            "1/1 [==============================] - 0s 57ms/step\n",
            " me gusta el fútbol y también a la(0.996)\n",
            "1/1 [==============================] - 0s 52ms/step\n",
            " me gusta el fútbol y también a la playa(0.976)\n",
            "1/1 [==============================] - 0s 56ms/step\n"
          ]
        },
        {
          "data": {
            "text/plain": [
              "'me gusta el fútbol y también a la playa'"
            ]
          },
          "execution_count": 29,
          "metadata": {},
          "output_type": "execute_result"
        }
      ],
      "source": [
        "translate(\"I like soccer and also going to the beach\")"
      ]
    },
    {
      "cell_type": "markdown",
      "metadata": {
        "id": "DowPj8m1-NiO"
      },
      "source": [
        "**Warning**: the following cell will take a while to run (possibly half an hour using a GPU)."
      ]
    },
    {
      "cell_type": "code",
      "execution_count": 59,
      "metadata": {
        "id": "-rIi2lK7rtMe"
      },
      "outputs": [],
      "source": [
        "# beam_search(\"I like soccer and also going to the beach\", beam_width=3,\n",
        "#             verbose=True)"
      ]
    },
    {
      "cell_type": "markdown",
      "metadata": {
        "id": "qx3jPpJOrtMf"
      },
      "source": [
        "## Y si la solución es simple y llanamente establecer relación los elementos de la secuencia entre sí... ***Attention Is All You Need: The Transformer Architecture***"
      ]
    },
    {
      "cell_type": "markdown",
      "metadata": {
        "id": "eghXhvLprtMf"
      },
      "source": [
        "Y en 2017, alguien de una empresa..., publicó un paper en el que se presentaba en sociedad una arquitectura que sólo necesitaba de mecanismos de Atenttion y capas Densas para hacer NMT como el mejor.\n",
        "\n",
        "OJO, esta sección es a título ilustrativo... Pero molón\n",
        "\n",
        "<img src=\"https://github.com/Jaimegrp/Practicando/blob/main/Texto/img/transformers.webp?raw=1\" alt=\"Encoder_Decoder with Attention\" width=\"700\" />\n",
        "\n"
      ]
    },
    {
      "cell_type": "markdown",
      "metadata": {
        "id": "snQivuXHrtMf"
      },
      "source": [
        "Antes de asustarse, lo que realmente hace esta arquitectura es ser la \"superconvolucional\" con memoria de las secuencias de texto, pero vamos por partes:\n",
        "\n",
        "__La parte del encoder__ al incluir el mecanismo de atención (y ese positional encoding) lo que está haciendo es aprender las relaciones posicionales de las palabras del \"lenguaje\" de entrada (sí está memorizando y caracterizando las relaciones entre todas las palabras y sus posiciones de entrada), está haciendo un embedding de la información posicional. Luego concatena la información posicional con la de entrada y aprende a relacionarla lo mejor posible para esa secuencia. En tiempo de inferencia diríamos que para cada secuencia está analizándola sintácticamente, gramaticalmente, etc, etc y luego la devuelve... Pero nunca le hemos pasado información ni sintáctica, ni gramatical, ni nada.  \n",
        "\n",
        "__La parte del decoder__ primero hace lo mismo que el encoder pero con el \"lenguaje\" de destino, se aprende y caracteriza todas las relaciones posicionales de las sentencias de ese \"lenguaje\". Combina ese embedding por secuencia con la secuencia de destino y se lo pasa a la siguiente capa de atención que ahora memoriza y caracteriza todas las relaciones posicionales entre las sentencias procesadas y enriquecidas del lenguaje destino y las sentencias procesadas y enriquecidas del lenguaje de origen. Y luego el feedfoward es el que realmente mezcla todo (mezclará toda la información de la secuencia, vease que se va transmitiendo, las posiciones y las posiciones con el lenguaje origen).\n",
        "\n",
        "Para aumentar la memoria y dar más relaciones lo que hacemos es que la capa de atención en realidad son muchas capas de atención en paralelo y acumular modulos de atención (como acumulábamos capas convolucionales en una red convolucional)"
      ]
    },
    {
      "cell_type": "markdown",
      "metadata": {
        "id": "gl91Sdu4rtMf"
      },
      "source": [
        "A título ilustrativo un __capa multihead de atención__:\n",
        "\n",
        "<img src=\"https://github.com/Jaimegrp/Practicando/blob/main/Texto/img/multihead_attention.png?raw=1\" alt=\"Multihead Attention Layer\" width=\"700\" />"
      ]
    },
    {
      "cell_type": "markdown",
      "metadata": {
        "id": "uh_6C3mWrtMf"
      },
      "source": [
        "Las capas linear son capas densas sin función de activación, tienen pesos entrenables -> Memoria (en estos pesos está la memoria de las características posicionales)\n",
        "Y las capas head fuerzan que las linear (tantas como cabezas*3) aprendan un número de relaciones \"poscionales\" que dependen del número de cabezas (si quiero que apredan más relaciones posicionales -> Más cabezas)"
      ]
    },
    {
      "cell_type": "markdown",
      "metadata": {
        "id": "Zna3md12rtMf"
      },
      "source": [
        "Y para terminar hay N modulos (en el paper de 2017, 6 por Encoder y 6 por Decoder) apilados, ¿por qué? Aquí una idea intuitiva es la misma que en las convolucionales, para que pueda memorizar relaciones posicionales más complicadas (y tener más memoria entrenable)."
      ]
    },
    {
      "cell_type": "markdown",
      "metadata": {
        "id": "-3ar9UqqrtMf"
      },
      "source": [
        "## Large Language Models (Pretrained Transformers)"
      ]
    },
    {
      "cell_type": "markdown",
      "metadata": {
        "id": "Yt8wIErgrtMf"
      },
      "source": [
        "Y en 2018, llegaron las arquitecturas que apilaban multihead attention layers pero ya olvidándose de decoders y encoders... Una sola columna con muchos módulos... pero con la magia de estar pre-entrenadas para una tarea (generalmente adivina cuál es la siguiente palabra de la sentencia (GPT) o de cada sentencia te voy a ocultar 2 palabras, adivina cuales son (BERT)).\n",
        "\n",
        "En esencia, están memorizando todas las relaciones que existen entre las palabras de un lenguaje... Por eso cada vez se hacen más grandes (para memorizar más) y tienen más parámetros... y necesitan más que les des de comer (si quieres tenerlo todo representado)... (Imagina que le pudieras dar para entrenar a un red convolucional todas las imágenes posibles que existen)\n",
        "\n",
        "<img src=\"https://github.com/Jaimegrp/Practicando/blob/main/Texto/img/gpt2_vs_BERT.jpg?raw=1\" alt=\"Multihead Attention Layer\" width=\"800\" />\n",
        "\n",
        "Luego estos modelos preentrenados se adaptan (fine-tunning), o sea se hace transfer learning, a otros tipos de problemas (clasificación, sentiment analysis, question and answers, y ahora chats, texto generativo)."
      ]
    },
    {
      "cell_type": "markdown",
      "metadata": {
        "id": "mOi7vkFOAClz"
      },
      "source": [
        "## Instruct LLM"
      ]
    },
    {
      "cell_type": "markdown",
      "metadata": {
        "id": "B_8qCUXkAE_r"
      },
      "source": [
        "Hoy en día, lo que realmente se ha puesto \"de moda\" no es emplear los LLM como los vistos hasta ahora, sino los fine-tuned y más concretamente los basados en una aproximación denominada \"Instruct LLM\" (partiendo de un paper de OpenAI):"
      ]
    },
    {
      "cell_type": "markdown",
      "metadata": {
        "id": "8yY38EYRAbDw"
      },
      "source": [
        "<img src=\"https://github.com/Jaimegrp/Practicando/blob/main/Texto/img/rlhf.jpg?raw=1\" alt=\"Instruct LLM\" width=\"800\" />"
      ]
    },
    {
      "cell_type": "markdown",
      "metadata": {
        "id": "rrzskW7CrtMg"
      },
      "source": [
        "Han surgido decenas de modelos, propietarios y abiertos, los más destacados (que puedes usar):  \n",
        "[OpenAI: ChatGPT](https://chat.openai.com/)  \n",
        "[Google: Gemini](https://gemini.google.com/?hl=es)  \n",
        "[Mistral: Mistral MoE](https://mistral.ai/)  \n",
        "[Meta: Llama](https://www.llama.com/)  \n",
        "[Hugging Face: miles y miles de modelos](https://huggingface.co/spaces/HuggingFaceH4/open_llm_leaderboard)  \n",
        "[Preplexity AI: combina GPT-3.5 y su LLM propietario](https://www.perplexity.ai/)"
      ]
    },
    {
      "cell_type": "markdown",
      "metadata": {
        "id": "-Qhj4QK6rtMg"
      },
      "source": [
        "### Bonus: PROGRAMANDO UN TRANSFORMER (GPT-2 like)"
      ]
    },
    {
      "cell_type": "markdown",
      "metadata": {
        "id": "hZwnnhSVrtMh"
      },
      "source": [
        "En las siguientes celdas se muestra como construir un transformer para nuestro traductor... para el que quiera jugar (extraido del Hands-On...)"
      ]
    },
    {
      "cell_type": "markdown",
      "metadata": {
        "id": "TL5UExD9rtMh"
      },
      "source": [
        "Positional encodings"
      ]
    },
    {
      "cell_type": "code",
      "execution_count": null,
      "metadata": {
        "id": "CrOa1E-Qx7la"
      },
      "outputs": [],
      "source": [
        "tf.shape()"
      ]
    },
    {
      "cell_type": "code",
      "execution_count": null,
      "metadata": {
        "id": "o2TZgJSZrtMi"
      },
      "outputs": [],
      "source": [
        "max_length = 50  # max length in the whole training set\n",
        "embed_size = 128\n",
        "tf.random.set_seed(42)  # extra code – ensures reproducibility on CPU\n",
        "pos_embed_layer = tf.keras.layers.Embedding(max_length, embed_size)\n",
        "batch_max_len_enc = tf.shape(encoder_embeddings)[1]\n",
        "encoder_in = encoder_embeddings + pos_embed_layer(tf.range(batch_max_len_enc))\n",
        "batch_max_len_dec = tf.shape(decoder_embeddings)[1]\n",
        "decoder_in = decoder_embeddings + pos_embed_layer(tf.range(batch_max_len_dec))"
      ]
    },
    {
      "cell_type": "markdown",
      "metadata": {
        "id": "CwLLeq-TrtMi"
      },
      "source": [
        "Alternatively, we can use fixed, non-trainable positional encodings:"
      ]
    },
    {
      "cell_type": "code",
      "execution_count": null,
      "metadata": {
        "id": "7hjsMZ3xrtMi"
      },
      "outputs": [],
      "source": [
        "class PositionalEncoding(tf.keras.layers.Layer):\n",
        "    def __init__(self, max_length, embed_size, dtype=tf.float32, **kwargs):\n",
        "        super().__init__(dtype=dtype, **kwargs)\n",
        "        assert embed_size % 2 == 0, \"embed_size must be even\"\n",
        "        p, i = np.meshgrid(np.arange(max_length),\n",
        "                           2 * np.arange(embed_size // 2))\n",
        "        pos_emb = np.empty((1, max_length, embed_size))\n",
        "        pos_emb[0, :, ::2] = np.sin(p / 10_000 ** (i / embed_size)).T\n",
        "        pos_emb[0, :, 1::2] = np.cos(p / 10_000 ** (i / embed_size)).T\n",
        "        self.pos_encodings = tf.constant(pos_emb.astype(self.dtype))\n",
        "        self.supports_masking = True\n",
        "\n",
        "    def call(self, inputs):\n",
        "        batch_max_length = tf.shape(inputs)[1]\n",
        "        return inputs + self.pos_encodings[:, :batch_max_length]"
      ]
    },
    {
      "cell_type": "code",
      "execution_count": null,
      "metadata": {
        "id": "vArtPEfzrtMi"
      },
      "outputs": [],
      "source": [
        "pos_embed_layer = PositionalEncoding(max_length, embed_size)\n",
        "encoder_in = pos_embed_layer(encoder_embeddings)\n",
        "decoder_in = pos_embed_layer(decoder_embeddings)"
      ]
    },
    {
      "cell_type": "code",
      "execution_count": null,
      "metadata": {
        "id": "VkyBTS9HrtMi"
      },
      "outputs": [],
      "source": [
        "# extra code – this cells generates and saves Figure 16–9\n",
        "figure_max_length = 201\n",
        "figure_embed_size = 512\n",
        "pos_emb = PositionalEncoding(figure_max_length, figure_embed_size)\n",
        "zeros = np.zeros((1, figure_max_length, figure_embed_size), np.float32)\n",
        "P = pos_emb(zeros)[0].numpy()\n",
        "i1, i2, crop_i = 100, 101, 150\n",
        "p1, p2, p3 = 22, 60, 35\n",
        "fig, (ax1, ax2) = plt.subplots(nrows=2, ncols=1, sharex=True, figsize=(9, 5))\n",
        "ax1.plot([p1, p1], [-1, 1], \"k--\", label=\"$p = {}$\".format(p1))\n",
        "ax1.plot([p2, p2], [-1, 1], \"k--\", label=\"$p = {}$\".format(p2), alpha=0.5)\n",
        "ax1.plot(p3, P[p3, i1], \"bx\", label=\"$p = {}$\".format(p3))\n",
        "ax1.plot(P[:,i1], \"b-\", label=\"$i = {}$\".format(i1))\n",
        "ax1.plot(P[:,i2], \"r-\", label=\"$i = {}$\".format(i2))\n",
        "ax1.plot([p1, p2], [P[p1, i1], P[p2, i1]], \"bo\")\n",
        "ax1.plot([p1, p2], [P[p1, i2], P[p2, i2]], \"ro\")\n",
        "ax1.legend(loc=\"center right\", fontsize=14, framealpha=0.95)\n",
        "ax1.set_ylabel(\"$P_{(p,i)}$\", rotation=0, fontsize=16)\n",
        "ax1.grid(True, alpha=0.3)\n",
        "ax1.hlines(0, 0, figure_max_length - 1, color=\"k\", linewidth=1, alpha=0.3)\n",
        "ax1.axis([0, figure_max_length - 1, -1, 1])\n",
        "ax2.imshow(P.T[:crop_i], cmap=\"gray\", interpolation=\"bilinear\", aspect=\"auto\")\n",
        "ax2.hlines(i1, 0, figure_max_length - 1, color=\"b\", linewidth=3)\n",
        "cheat = 2  # need to raise the red line a bit, or else it hides the blue one\n",
        "ax2.hlines(i2+cheat, 0, figure_max_length - 1, color=\"r\", linewidth=3)\n",
        "ax2.plot([p1, p1], [0, crop_i], \"k--\")\n",
        "ax2.plot([p2, p2], [0, crop_i], \"k--\", alpha=0.5)\n",
        "ax2.plot([p1, p2], [i2+cheat, i2+cheat], \"ro\")\n",
        "ax2.plot([p1, p2], [i1, i1], \"bo\")\n",
        "ax2.axis([0, figure_max_length - 1, 0, crop_i])\n",
        "ax2.set_xlabel(\"$p$\", fontsize=16)\n",
        "ax2.set_ylabel(\"$i$\", rotation=0, fontsize=16)\n",
        "save_fig(\"positional_embedding_plot\")\n",
        "plt.show()"
      ]
    },
    {
      "cell_type": "markdown",
      "metadata": {
        "id": "ZP0A5FmgrtMj"
      },
      "source": [
        "### Multi-Head Attention"
      ]
    },
    {
      "cell_type": "code",
      "execution_count": null,
      "metadata": {
        "id": "IaNUlZBNrtMj"
      },
      "outputs": [],
      "source": [
        "N = 2  # instead of 6\n",
        "num_heads = 8\n",
        "dropout_rate = 0.1\n",
        "n_units = 128  # for the first Dense layer in each Feed Forward block\n",
        "encoder_pad_mask = tf.math.not_equal(encoder_input_ids, 0)[:, tf.newaxis]\n",
        "Z = encoder_in\n",
        "for _ in range(N):\n",
        "    skip = Z\n",
        "    attn_layer = tf.keras.layers.MultiHeadAttention(\n",
        "        num_heads=num_heads, key_dim=embed_size, dropout=dropout_rate)\n",
        "    Z = attn_layer(Z, value=Z, attention_mask=encoder_pad_mask)\n",
        "    Z = tf.keras.layers.LayerNormalization()(tf.keras.layers.Add()([Z, skip]))\n",
        "    skip = Z\n",
        "    Z = tf.keras.layers.Dense(n_units, activation=\"relu\")(Z)\n",
        "    Z = tf.keras.layers.Dense(embed_size)(Z)\n",
        "    Z = tf.keras.layers.Dropout(dropout_rate)(Z)\n",
        "    Z = tf.keras.layers.LayerNormalization()(tf.keras.layers.Add()([Z, skip]))"
      ]
    },
    {
      "cell_type": "code",
      "execution_count": null,
      "metadata": {
        "id": "PZtmcl8lrtMj"
      },
      "outputs": [],
      "source": [
        "encoder_outputs = Z  # let's save the encoder's final outputs\n",
        "Z = decoder_in  # the decoder starts with its own inputs\n",
        "for _ in range(N):\n",
        "    skip = Z\n",
        "    attn_layer = tf.keras.layers.MultiHeadAttention(\n",
        "        num_heads=num_heads, key_dim=embed_size, dropout=dropout_rate)\n",
        "    Z = attn_layer(Z, value=Z, attention_mask=causal_mask & decoder_pad_mask)\n",
        "    Z = tf.keras.layers.LayerNormalization()(tf.keras.layers.Add()([Z, skip]))\n",
        "    skip = Z\n",
        "    attn_layer = tf.keras.layers.MultiHeadAttention(\n",
        "        num_heads=num_heads, key_dim=embed_size, dropout=dropout_rate)\n",
        "    Z = attn_layer(Z, value=encoder_outputs, attention_mask=encoder_pad_mask)\n",
        "    Z = tf.keras.layers.LayerNormalization()(tf.keras.layers.Add()([Z, skip]))\n",
        "    skip = Z\n",
        "    Z = tf.keras.layers.Dense(n_units, activation=\"relu\")(Z)\n",
        "    Z = tf.keras.layers.Dense(embed_size)(Z)\n",
        "    Z = tf.keras.layers.LayerNormalization()(tf.keras.layers.Add()([Z, skip]))"
      ]
    },
    {
      "cell_type": "markdown",
      "metadata": {
        "id": "wQW4XffvrtMj"
      },
      "source": [
        "**Warning**: the following cell will take a while to run (possibly 2 or 3 hours if you are not using a GPU)."
      ]
    },
    {
      "cell_type": "code",
      "execution_count": null,
      "metadata": {
        "id": "pmC-BfkgrtMj"
      },
      "outputs": [],
      "source": [
        "Y_proba = tf.keras.layers.Dense(vocab_size, activation=\"softmax\")(Z)\n",
        "model = tf.keras.Model(inputs=[encoder_inputs, decoder_inputs],\n",
        "                       outputs=[Y_proba])\n",
        "model.compile(loss=\"sparse_categorical_crossentropy\", optimizer=\"nadam\",\n",
        "              metrics=[\"accuracy\"])\n",
        "model.fit((X_train, X_train_dec), Y_train, epochs=10,\n",
        "          validation_data=((X_valid, X_valid_dec), Y_valid))"
      ]
    },
    {
      "cell_type": "code",
      "execution_count": null,
      "metadata": {
        "id": "ThoiaaMvrtMj"
      },
      "outputs": [],
      "source": [
        "translate(\"I like soccer and also going to the beach\")"
      ]
    },
    {
      "cell_type": "markdown",
      "metadata": {
        "id": "NXaMFZc8rtMj"
      },
      "source": []
    }
  ],
  "metadata": {
    "accelerator": "GPU",
    "colab": {
      "gpuType": "L4",
      "machine_shape": "hm",
      "provenance": [],
      "toc_visible": true
    },
    "kernelspec": {
      "display_name": "tf_gpu_env",
      "language": "python",
      "name": "python3"
    },
    "language_info": {
      "codemirror_mode": {
        "name": "ipython",
        "version": 3
      },
      "file_extension": ".py",
      "mimetype": "text/x-python",
      "name": "python",
      "nbconvert_exporter": "python",
      "pygments_lexer": "ipython3",
      "version": "3.9.21"
    }
  },
  "nbformat": 4,
  "nbformat_minor": 0
}
